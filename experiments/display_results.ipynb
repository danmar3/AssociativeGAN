{
 "cells": [
  {
   "cell_type": "code",
   "execution_count": 2,
   "metadata": {},
   "outputs": [],
   "source": [
    "import os\n",
    "import numpy as np\n",
    "from pdf2image import convert_from_path\n",
    "import matplotlib.pyplot as plt\n",
    "import tempfile\n",
    "import datetime\n",
    "\n",
    "import ipywidgets as widgets\n",
    "from ipywidgets import interact, interactive, fixed\n",
    "from IPython.display import display"
   ]
  },
  {
   "cell_type": "code",
   "execution_count": 24,
   "metadata": {},
   "outputs": [
    {
     "data": {
      "application/vnd.jupyter.widget-view+json": {
       "model_id": "27eb89a5d6334cf8aafa050e8bf1d1c4",
       "version_major": 2,
       "version_minor": 0
      },
      "text/plain": [
       "VBox(children=(Dropdown(options=('gmmgan', 'wacgan'), value='gmmgan'), Text(value='tmp/gmmgan/session_20200221…"
      ]
     },
     "metadata": {},
     "output_type": "display_data"
    }
   ],
   "source": [
    "model_path = 'tmp/gmmgan/'\n",
    "session_path = None\n",
    "images_path = None\n",
    "#session_20200221_0902_stl10_64/images/'\n",
    "\n",
    "\n",
    "def get_valid_sessions():\n",
    "    return [name for name in sorted(os.listdir(model_path))\n",
    "            if 'session' in name \n",
    "            and os.path.exists(os.path.join(model_path, name, 'images'))]\n",
    "\n",
    "def on_session_change(*args):\n",
    "    global session_path, images_path\n",
    "    session_path = os.path.join(model_path, get_valid_sessions()[session_slider_w.value])\n",
    "    images_path = os.path.join(session_path, 'images')\n",
    "    session_text_w.value = session_path\n",
    "    on_update_clicked(None)\n",
    "    \n",
    "def on_model_update(*args):\n",
    "    global model_path\n",
    "    model_path = os.path.join('tmp', model_text_w.value)\n",
    "    session_slider_w.max = max=len(get_valid_sessions())-1\n",
    "    session_slider_w.value = 0\n",
    "    on_session_change(None)\n",
    "\n",
    "    \n",
    "def on_update_clicked(_):\n",
    "    # \"linking function with output\"\n",
    "    filenames = [fname for fname in sorted(os.listdir(images_path)) if '.pdf' in fname]\n",
    "    slider_w.max = max(1, len(filenames) - 1)\n",
    "    output_w.clear_output()\n",
    "    if filenames:\n",
    "        last_file = ':'.join(filenames[-1].split('.')[0].split('_')[1:])\n",
    "        output_w.append_stdout(\n",
    "            'max images: {} | last: {}'\n",
    "            ''.format(len(filenames), last_file))\n",
    "    \n",
    "\n",
    "output_w = widgets.Output(layout={'border': '1px solid black'})\n",
    "                     \n",
    "model_text_w = widgets.Dropdown(options=['gmmgan', 'wacgan'], value='gmmgan')\n",
    "session_text_w = widgets.Text(value=os.path.join(model_path, get_valid_sessions()[-1]))\n",
    "session_slider_w = widgets.IntSlider(max=len(get_valid_sessions())-1)\n",
    "update_w = widgets.Button(description='Update')\n",
    "slider_w = widgets.IntSlider()\n",
    "\n",
    "model_text_w.observe(on_model_update, 'value')\n",
    "session_slider_w.observe(on_session_change, 'value')\n",
    "on_update_clicked(None)\n",
    "update_w.on_click(on_update_clicked)\n",
    "# displaying button and its output together\n",
    "\n",
    "\n",
    "def display_img(img_idx):    \n",
    "    fig, ax = plt.subplots(1,1, figsize=(20,100))\n",
    "    filenames = [fname for fname in sorted(os.listdir(images_path)) if '.pdf' in fname]\n",
    "    assert img_idx < len(filenames), 'index out of range'\n",
    "    images = convert_from_path(os.path.join(images_path, filenames[img_idx]))[0]\n",
    "    ax.imshow(np.asarray(images))\n",
    "    #fig.show()\n",
    "\n",
    "#display_w = interactive(display_img, {'manual': True}, ax=fixed(ax), fig=fixed(fig), img_idx=slider_w)\n",
    "display_w = interactive(display_img, {'manual': True}, img_idx=slider_w)\n",
    "widgets.VBox([model_text_w, session_text_w, session_slider_w, output_w, update_w, display_w])"
   ]
  },
  {
   "cell_type": "code",
   "execution_count": null,
   "metadata": {},
   "outputs": [],
   "source": []
  }
 ],
 "metadata": {
  "kernelspec": {
   "display_name": "Python 3",
   "language": "python",
   "name": "python3"
  },
  "language_info": {
   "codemirror_mode": {
    "name": "ipython",
    "version": 3
   },
   "file_extension": ".py",
   "mimetype": "text/x-python",
   "name": "python",
   "nbconvert_exporter": "python",
   "pygments_lexer": "ipython3",
   "version": "3.6.9"
  }
 },
 "nbformat": 4,
 "nbformat_minor": 4
}
