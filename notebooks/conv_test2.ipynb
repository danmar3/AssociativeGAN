{
 "cells": [
  {
   "cell_type": "code",
   "execution_count": 1,
   "metadata": {},
   "outputs": [
    {
     "name": "stdout",
     "output_type": "stream",
     "text": [
      "\n",
      "WARNING: The TensorFlow contrib module will not be included in TensorFlow 2.0.\n",
      "For more information, please see:\n",
      "  * https://github.com/tensorflow/community/blob/master/rfcs/20180907-contrib-sunset.md\n",
      "  * https://github.com/tensorflow/addons\n",
      "If you depend on functionality not listed there, please file an issue.\n",
      "\n"
     ]
    }
   ],
   "source": [
    "import twodlearn as tdl\n",
    "import tensorflow as tf\n",
    "import tensorflow_datasets as tfds\n",
    "from functools import reduce\n",
    "#tf.enable_eager_execution()"
   ]
  },
  {
   "cell_type": "code",
   "execution_count": 2,
   "metadata": {},
   "outputs": [],
   "source": [
    "#tfds.list_builders()"
   ]
  },
  {
   "cell_type": "code",
   "execution_count": 3,
   "metadata": {},
   "outputs": [
    {
     "name": "stdout",
     "output_type": "stream",
     "text": [
      "WARNING:tensorflow:From /data/marinodl/research/2019/AssociativeGAN/env/lib/python3.6/site-packages/tensorflow/python/ops/control_flow_ops.py:423: colocate_with (from tensorflow.python.framework.ops) is deprecated and will be removed in a future version.\n",
      "Instructions for updating:\n",
      "Colocations handled automatically by placer.\n"
     ]
    },
    {
     "name": "stderr",
     "output_type": "stream",
     "text": [
      "WARNING: Logging before flag parsing goes to stderr.\n",
      "W0310 03:02:25.616345 139801296176960 deprecation.py:323] From /data/marinodl/research/2019/AssociativeGAN/env/lib/python3.6/site-packages/tensorflow/python/ops/control_flow_ops.py:423: colocate_with (from tensorflow.python.framework.ops) is deprecated and will be removed in a future version.\n",
      "Instructions for updating:\n",
      "Colocations handled automatically by placer.\n"
     ]
    }
   ],
   "source": [
    "dataset, info = tfds.load('mnist', with_info=True,\n",
    "                          split=tfds.Split.TRAIN)\n",
    "dataset = dataset.shuffle(1024).repeat()\\\n",
    "                 .map(lambda x: (tf.cast(x['image'], tf.float32)/255.0, \n",
    "                                 tf.one_hot(x['label'], 10)))\\\n",
    "                 .batch(32).prefetch(tf.data.experimental.AUTOTUNE)\n",
    "input_shape = dataset.output_shapes[0].as_list()"
   ]
  },
  {
   "cell_type": "code",
   "execution_count": 4,
   "metadata": {},
   "outputs": [
    {
     "data": {
      "text/plain": [
       "<tensorflow.python.keras.layers.advanced_activations.Softmax at 0x7f255c3c3c88>"
      ]
     },
     "execution_count": 4,
     "metadata": {},
     "output_type": "execute_result"
    }
   ],
   "source": [
    "model = tdl.stacked.StackedLayers()\n",
    "model.add(tdl.convnet.Conv2DLayer(\n",
    "    kernel_size=[5,5], filters=32,\n",
    "    bias={'trainable': True},\n",
    "    input_shape=input_shape))\n",
    "model.add(tf.keras.layers.ReLU())\n",
    "model.add(tf.keras.layers.MaxPool2D(pool_size=[2,2]))\n",
    "model.add(tdl.convnet.Conv2DLayer(kernel_size=[5,5], filters=64))\n",
    "model.add(tf.keras.layers.MaxPool2D(pool_size=[2,2]))\n",
    "model.add(tf.keras.layers.ReLU())\n",
    "conv_dims = model.compute_output_shape(input_shape=input_shape)\n",
    "reduce_dims = reduce(lambda x, y: x*y, conv_dims.as_list()[1:])\n",
    "model.add(tf.keras.layers.Reshape((reduce_dims,)))\n",
    "model.add(tdl.feedforward.AffineLayer(units=512))\n",
    "#stacked.add(tf.keras.layers.Dense(units=512))\n",
    "model.add(tf.keras.layers.ReLU())\n",
    "model.add(tf.keras.layers.Dense(units=10))\n",
    "model.add(tf.keras.layers.Softmax())"
   ]
  },
  {
   "cell_type": "code",
   "execution_count": 5,
   "metadata": {},
   "outputs": [],
   "source": [
    "inputs = tf.keras.Input(shape=input_shape[1:])\n",
    "predictions = model(inputs)\n",
    "kmodel = tf.keras.Model(inputs=inputs, outputs=predictions)\n"
   ]
  },
  {
   "cell_type": "code",
   "execution_count": 6,
   "metadata": {},
   "outputs": [],
   "source": [
    "kmodel.compile(optimizer=tf.train.AdamOptimizer(0.002),\n",
    "               loss='categorical_crossentropy',\n",
    "               metrics=['accuracy'])\n",
    "#tdl.core.variables_initializer(tdl.core.get_variables(stacked))\\\\\n",
    "#    .run(session=tf.keras.backend.get_session())"
   ]
  },
  {
   "cell_type": "code",
   "execution_count": 7,
   "metadata": {},
   "outputs": [],
   "source": [
    "#data.make_initializable_iterator()\n",
    "iter = dataset.make_one_shot_iterator()"
   ]
  },
  {
   "cell_type": "code",
   "execution_count": 8,
   "metadata": {},
   "outputs": [],
   "source": [
    "_test = iter.get_next()"
   ]
  },
  {
   "cell_type": "code",
   "execution_count": 9,
   "metadata": {},
   "outputs": [
    {
     "name": "stdout",
     "output_type": "stream",
     "text": [
      "WARNING:tensorflow:From /data/marinodl/research/2019/AssociativeGAN/env/lib/python3.6/site-packages/tensorflow/python/ops/math_ops.py:3066: to_int32 (from tensorflow.python.ops.math_ops) is deprecated and will be removed in a future version.\n",
      "Instructions for updating:\n",
      "Use tf.cast instead.\n"
     ]
    },
    {
     "name": "stderr",
     "output_type": "stream",
     "text": [
      "W0310 03:02:26.670110 139801296176960 deprecation.py:323] From /data/marinodl/research/2019/AssociativeGAN/env/lib/python3.6/site-packages/tensorflow/python/ops/math_ops.py:3066: to_int32 (from tensorflow.python.ops.math_ops) is deprecated and will be removed in a future version.\n",
      "Instructions for updating:\n",
      "Use tf.cast instead.\n"
     ]
    },
    {
     "name": "stdout",
     "output_type": "stream",
     "text": [
      "Epoch 1/5\n",
      "1875/1875 [==============================] - 6s 3ms/step - loss: 0.1009 - acc: 0.9696\n",
      "Epoch 2/5\n",
      "1875/1875 [==============================] - 5s 2ms/step - loss: 0.0414 - acc: 0.9875\n",
      "Epoch 3/5\n",
      "1875/1875 [==============================] - 5s 2ms/step - loss: 0.0284 - acc: 0.9912\n",
      "Epoch 4/5\n",
      "1875/1875 [==============================] - 5s 2ms/step - loss: 0.0232 - acc: 0.9931\n",
      "Epoch 5/5\n",
      "1875/1875 [==============================] - 5s 2ms/step - loss: 0.0211 - acc: 0.9942\n"
     ]
    },
    {
     "data": {
      "text/plain": [
       "<tensorflow.python.keras.callbacks.History at 0x7f255c13af60>"
      ]
     },
     "execution_count": 9,
     "metadata": {},
     "output_type": "execute_result"
    }
   ],
   "source": [
    "kmodel.fit(dataset, epochs=5, steps_per_epoch=info.splits['train'].num_examples//32)"
   ]
  },
  {
   "cell_type": "code",
   "execution_count": null,
   "metadata": {},
   "outputs": [],
   "source": []
  },
  {
   "cell_type": "code",
   "execution_count": null,
   "metadata": {},
   "outputs": [],
   "source": []
  },
  {
   "cell_type": "code",
   "execution_count": null,
   "metadata": {},
   "outputs": [],
   "source": []
  },
  {
   "cell_type": "code",
   "execution_count": 9,
   "metadata": {},
   "outputs": [],
   "source": [
    "for features in dataset.take(1):\n",
    "    image, label = features[\"image\"], features[\"label\"]"
   ]
  },
  {
   "cell_type": "code",
   "execution_count": 15,
   "metadata": {},
   "outputs": [
    {
     "data": {
      "text/plain": [
       "name: \"mnist\"\n",
       "description: \"The MNIST database of handwritten digits.\"\n",
       "citation: \"@article{lecun2010mnist,\\n  title={MNIST handwritten digit database},\\n  author={LeCun, Yann and Cortes, Corinna and Burges, CJ},\\n  journal={ATT Labs [Online]. Available: http://yann. lecun. com/exdb/mnist},\\n  volume={2},\\n  year={2010}\\n}\\n\"\n",
       "location {\n",
       "  urls: \"http://yann.lecun.com/exdb/mnist/\"\n",
       "}\n",
       "schema {\n",
       "  feature {\n",
       "    name: \"image\"\n",
       "    type: INT\n",
       "    shape {\n",
       "      dim {\n",
       "        size: 28\n",
       "      }\n",
       "      dim {\n",
       "        size: 28\n",
       "      }\n",
       "      dim {\n",
       "        size: 1\n",
       "      }\n",
       "    }\n",
       "  }\n",
       "  feature {\n",
       "    name: \"label\"\n",
       "    type: INT\n",
       "  }\n",
       "}\n",
       "splits {\n",
       "  name: \"test\"\n",
       "  num_shards: 1\n",
       "  statistics {\n",
       "    num_examples: 10000\n",
       "    features {\n",
       "      name: \"image\"\n",
       "      num_stats {\n",
       "        common_stats {\n",
       "          num_non_missing: 10000\n",
       "        }\n",
       "        max: 255.0\n",
       "      }\n",
       "    }\n",
       "    features {\n",
       "      name: \"label\"\n",
       "      num_stats {\n",
       "        common_stats {\n",
       "          num_non_missing: 10000\n",
       "        }\n",
       "        max: 9.0\n",
       "      }\n",
       "    }\n",
       "  }\n",
       "}\n",
       "splits {\n",
       "  name: \"train\"\n",
       "  num_shards: 10\n",
       "  statistics {\n",
       "    num_examples: 60000\n",
       "    features {\n",
       "      name: \"image\"\n",
       "      num_stats {\n",
       "        common_stats {\n",
       "          num_non_missing: 60000\n",
       "        }\n",
       "        max: 255.0\n",
       "      }\n",
       "    }\n",
       "    features {\n",
       "      name: \"label\"\n",
       "      num_stats {\n",
       "        common_stats {\n",
       "          num_non_missing: 60000\n",
       "        }\n",
       "        max: 9.0\n",
       "      }\n",
       "    }\n",
       "  }\n",
       "}\n",
       "supervised_keys {\n",
       "  input: \"image\"\n",
       "  output: \"label\"\n",
       "}\n",
       "version: \"1.0.0\""
      ]
     },
     "execution_count": 15,
     "metadata": {},
     "output_type": "execute_result"
    }
   ],
   "source": [
    "info.as_proto"
   ]
  },
  {
   "cell_type": "code",
   "execution_count": 16,
   "metadata": {},
   "outputs": [
    {
     "data": {
      "text/plain": [
       "FeaturesDict({'image': Image(shape=(28, 28, 1), dtype=tf.uint8), 'label': ClassLabel(shape=(), dtype=tf.int64, num_classes=10)})"
      ]
     },
     "execution_count": 16,
     "metadata": {},
     "output_type": "execute_result"
    }
   ],
   "source": [
    "info.features"
   ]
  },
  {
   "cell_type": "code",
   "execution_count": null,
   "metadata": {},
   "outputs": [],
   "source": []
  }
 ],
 "metadata": {
  "kernelspec": {
   "display_name": "Python 3",
   "language": "python",
   "name": "python3"
  },
  "language_info": {
   "codemirror_mode": {
    "name": "ipython",
    "version": 3
   },
   "file_extension": ".py",
   "mimetype": "text/x-python",
   "name": "python",
   "nbconvert_exporter": "python",
   "pygments_lexer": "ipython3",
   "version": "3.6.7"
  }
 },
 "nbformat": 4,
 "nbformat_minor": 2
}
