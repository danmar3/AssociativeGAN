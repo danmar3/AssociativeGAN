{
 "cells": [
  {
   "cell_type": "code",
   "execution_count": 1,
   "metadata": {},
   "outputs": [],
   "source": [
    "import matplotlib.pyplot as plt\n",
    "import twodlearn as tdl\n",
    "import twodlearn.tests.bayesnet_test\n",
    "import tensorflow as tf\n",
    "import tensorflow_probability as tfp\n",
    "import numpy as np"
   ]
  },
  {
   "cell_type": "code",
   "execution_count": 2,
   "metadata": {},
   "outputs": [
    {
     "name": "stdout",
     "output_type": "stream",
     "text": [
      "Data set created, shape:  (1000,)\n"
     ]
    }
   ],
   "source": [
    "uncertainty = 'heteroscedastic'\n",
    "dataset = tdl.tests.bayesnet_test.create_heteroscedastic_dataset()\n",
    "#dataset = tdl.tests.bayesnet_test.create_homoscedastic_dataset()"
   ]
  },
  {
   "cell_type": "code",
   "execution_count": 3,
   "metadata": {},
   "outputs": [
    {
     "data": {
      "text/plain": [
       "[<matplotlib.lines.Line2D at 0x7f4c010ed160>]"
      ]
     },
     "execution_count": 3,
     "metadata": {},
     "output_type": "execute_result"
    },
    {
     "data": {
      "image/png": "[encoded data removed]",
      "text/plain": [
       "<Figure size 432x288 with 1 Axes>"
      ]
     },
     "metadata": {
      "needs_background": "light"
     },
     "output_type": "display_data"
    }
   ],
   "source": [
    "plt.plot(dataset.train.x, dataset.train.y, 'x')"
   ]
  },
  {
   "cell_type": "code",
   "execution_count": 4,
   "metadata": {},
   "outputs": [],
   "source": [
    "def homoscedastic():\n",
    "    return tdl.bayesnet.NormalModel(\n",
    "        batch_shape=[None, 1],\n",
    "        loc=tdl.stacked.StackedLayers(\n",
    "            layers=[tdl.bayesnet.AffineNormalLayer(units=10, tolerance=1e-5),\n",
    "                    tf.keras.activations.softplus,\n",
    "                    tdl.bayesnet.AffineNormalLayer(units=1, tolerance=1e-5)]))\n",
    "\n",
    "def heteroscedastic():\n",
    "    return tdl.bayesnet.NormalModel(\n",
    "        batch_shape=[None, 1],\n",
    "        loc=tdl.stacked.StackedLayers(\n",
    "            layers=[tdl.bayesnet.AffineNormalLayer(units=20, tolerance=1e-5),\n",
    "                    tf.keras.layers.LeakyReLU(),\n",
    "                    tf.keras.layers.Dropout(rate=0.1),\n",
    "                    tdl.bayesnet.AffineNormalLayer(units=20, tolerance=1e-5),\n",
    "                    tf.keras.layers.Activation(tf.nn.softplus),\n",
    "                    tf.keras.layers.Dropout(rate=0.1),\n",
    "                    tdl.bayesnet.AffineNormalLayer(units=1, tolerance=1e-5)]),\n",
    "        scale=tdl.stacked.StackedLayers(\n",
    "            layers=[tdl.bayesnet.AffineNormalLayer(units=20, tolerance=1e-5),\n",
    "                    tf.keras.layers.Activation(tf.nn.softplus),\n",
    "                    tdl.bayesnet.AffineNormalLayer(units=1, tolerance=1e-5),\n",
    "                    tf.keras.layers.Activation(tf.nn.softplus),\n",
    "                    lambda x: x+1e-3])\n",
    "    )\n",
    "\n",
    "def get_model(dataset, uncertainty):\n",
    "    if uncertainty == 'homoscedastic':\n",
    "        model = homoscedastic()    \n",
    "    elif uncertainty == 'heteroscedastic':\n",
    "        model = heteroscedastic()\n",
    "    labels = tf.placeholder(tf.float32, (None, 1))\n",
    "    inputs = tf.placeholder(tf.float32, (None, 1))\n",
    "    outputs = model(inputs)\n",
    "    # loss\n",
    "    kernel_prior = tfp.distributions.Normal(loc=0.0, scale=1.0)\n",
    "    kl = [tfp.distributions.kl_divergence(kernel, kernel_prior)\n",
    "          for kernel in [layer.kernel for layer in model.loc.layers\n",
    "                         if isinstance(layer, tdl.bayesnet.AffineNormalLayer)]]\n",
    "    try:\n",
    "        kernel_prior = tfp.distributions.Normal(loc=0.0, scale=1.0)\n",
    "        kl.update([tfp.distributions.kl_divergence(kernel, kernel_prior)\n",
    "                   for kernel in [model.scale.layers[0].kernel,\n",
    "                                  model.scale.layers[2].kernel]])\n",
    "    except AttributeError:\n",
    "        pass\n",
    "    log_prob = tf.reduce_mean(tf.reduce_sum(outputs.log_prob(labels), -1),\n",
    "                              axis=0)\n",
    "    kl = tf.add_n([tf.reduce_sum(kl_i) for kl_i in kl])\n",
    "    train = tdl.core.SimpleNamespace(\n",
    "        inputs=inputs,\n",
    "        outputs=outputs,\n",
    "        loss=-log_prob + (1.0/dataset.train.n_samples)*kl,\n",
    "        labels=labels)\n",
    "\n",
    "    # Test model\n",
    "    test_inputs = tf.placeholder(shape=(None, 1), dtype=tf.float32)\n",
    "    test_model = tdl.stacked.StackedLayers(\n",
    "        layers=[tdl.bayesnet.ParticlesLayer(particles=500),\n",
    "                tdl.bayesnet.SampleLayer(distribution=model),\n",
    "                tdl.bayesnet.McNormalEstimate()]) \n",
    "    test_outputs = outputs=test_model(test_inputs)\n",
    "    test = tdl.core.SimpleNamespace(\n",
    "        model=test_model,\n",
    "        inputs=test_inputs,\n",
    "        outputs=test_outputs,\n",
    "        samples=test_outputs.sample()\n",
    "        )\n",
    "\n",
    "    return tdl.core.SimpleNamespace(model=model, train=train, test=test)\n"
   ]
  },
  {
   "cell_type": "code",
   "execution_count": null,
   "metadata": {},
   "outputs": [],
   "source": []
  },
  {
   "cell_type": "code",
   "execution_count": 5,
   "metadata": {},
   "outputs": [
    {
     "name": "stderr",
     "output_type": "stream",
     "text": [
      "/home/marinodl/research/2019/AssociativeGAN/env/lib/python3.5/site-packages/numpy/lib/type_check.py:546: DeprecationWarning: np.asscalar(a) is deprecated since NumPy v1.16, use a.item() instead\n",
      "  'a.item() instead', DeprecationWarning, stacklevel=1)\n"
     ]
    }
   ],
   "source": [
    "estimator = get_model(dataset, uncertainty)\n"
   ]
  },
  {
   "cell_type": "code",
   "execution_count": 6,
   "metadata": {},
   "outputs": [],
   "source": [
    "cell = estimator.model"
   ]
  },
  {
   "cell_type": "code",
   "execution_count": 7,
   "metadata": {},
   "outputs": [],
   "source": [
    "import twodlearn.recurrent\n",
    "test = tdl.recurrent.concat_wrapper(cell)"
   ]
  },
  {
   "cell_type": "code",
   "execution_count": 8,
   "metadata": {},
   "outputs": [
    {
     "data": {
      "text/plain": [
       "<function twodlearn.bayesnet.bayesnet.NormalModel.call(self, inputs, *args, **kargs)>"
      ]
     },
     "execution_count": 8,
     "metadata": {},
     "output_type": "execute_result"
    }
   ],
   "source": [
    "test.call()"
   ]
  },
  {
   "cell_type": "code",
   "execution_count": 16,
   "metadata": {},
   "outputs": [
    {
     "data": {
      "text/plain": [
       "True"
      ]
     },
     "execution_count": 16,
     "metadata": {},
     "output_type": "execute_result"
    }
   ],
   "source": [
    "isinstance(estimator.model, tdl.core.Layer)"
   ]
  },
  {
   "cell_type": "code",
   "execution_count": null,
   "metadata": {},
   "outputs": [],
   "source": [
    "tf.keras.layers.RNN.get_initial_state"
   ]
  },
  {
   "cell_type": "code",
   "execution_count": null,
   "metadata": {},
   "outputs": [],
   "source": []
  },
  {
   "cell_type": "code",
   "execution_count": 6,
   "metadata": {},
   "outputs": [],
   "source": [
    "optim = tdl.optim.Optimizer(\n",
    "    loss=estimator.train.loss, \n",
    "    var_list=tdl.core.get_trainable(estimator.model),\n",
    "    log_folder='tmp/',\n",
    "    learning_rate=0.01)\n",
    "tdl.core.initialize_variables(estimator.model)"
   ]
  },
  {
   "cell_type": "code",
   "execution_count": 7,
   "metadata": {},
   "outputs": [
    {
     "name": "stdout",
     "output_type": "stream",
     "text": [
      "100 | [('train/loss', 1.674335489273071)] | []\n",
      "200 | [('train/loss', 0.8529307901859292)] | []\n",
      "300 | [('train/loss', 0.5774096608161937)] | []\n",
      "nan\n",
      "checkpoint created\n",
      "400 | [('train/loss', 0.5134591645002381)] | []\n",
      "500 | [('train/loss', 0.4840247881412521)] | []\n",
      "600 | [('train/loss', 0.46937009841203836)] | []\n",
      "0.033690273541503314\n",
      "checkpoint created\n",
      "700 | [('train/loss', 0.4575872486829773)] | []\n",
      "800 | [('train/loss', 0.4443215492367759)] | []\n",
      "900 | [('train/loss', 0.4258911404013649)] | []\n",
      "1000 | [('train/loss', 0.3939533409476295)] | []\n",
      "0.027304096838844764\n",
      "checkpoint created\n",
      "1100 | [('train/loss', 0.3688044187426582)] | []\n",
      "1200 | [('train/loss', 0.3565397980809227)] | []\n",
      "1300 | [('train/loss', 0.3462188509106651)] | []\n",
      "0.015360313520388592\n",
      "checkpoint created\n",
      "1400 | [('train/loss', 0.33849084496498255)] | []\n",
      "1500 | [('train/loss', 0.33147796005010755)] | []\n",
      "1600 | [('train/loss', 0.32326869189739377)] | []\n",
      "1700 | [('train/loss', -0.09733844287693341)] | []\n",
      "0.1738417717106215\n",
      "checkpoint created\n",
      "1800 | [('train/loss', -0.37269419521093206)] | []\n",
      "1900 | [('train/loss', -0.6707764905691131)] | []\n",
      "2000 | [('train/loss', -0.7099277311563477)] | []\n",
      "0.10606601981889285\n",
      "checkpoint created\n",
      "2100 | [('train/loss', -0.7440093415975555)] | []\n",
      "2200 | [('train/loss', -0.7651832407712921)] | []\n",
      "Optimizer seems to have diverged from previous sub-optimal region (-0.608806312084198). Resetting...\n",
      "2300 | [('train/loss', -0.769971489310263)] | []\n",
      "2400 | [('train/loss', -0.76763950049877)] | []\n",
      "0.007903084102606643\n",
      "checkpoint created\n",
      "2500 | [('train/loss', -0.7797031557559951)] | []\n",
      "2600 | [('train/loss', -0.7896344095468506)] | []\n",
      "2700 | [('train/loss', -0.7942934358119949)] | []\n",
      "0.006708164706988067\n",
      "checkpoint created\n",
      "2800 | [('train/loss', -0.8044962209463103)] | []\n",
      "2900 | [('train/loss', -0.8113540965318664)] | []\n",
      "saving weights in tmp/optimizer\n"
     ]
    }
   ],
   "source": [
    "optim.run(feed_train=\n",
    "            lambda:{estimator.train.labels: dataset.train.y[..., np.newaxis],\n",
    "                    estimator.train.inputs: dataset.train.x[..., np.newaxis]},\n",
    "          n_train_steps=3000)"
   ]
  },
  {
   "cell_type": "code",
   "execution_count": 8,
   "metadata": {},
   "outputs": [],
   "source": [
    "session = tf.get_default_session()\n",
    "test_x = np.linspace(-2.0, 5.0, 100)\n",
    "loc, scale = session.run([estimator.train.outputs.loc, \n",
    "                          estimator.train.outputs.scale], \n",
    "            feed_dict={estimator.train.inputs: test_x[..., np.newaxis]})\n",
    "\n",
    "test_mean, test_stddev, test_samples = session.run(\n",
    "    [estimator.test.outputs.loc, estimator.test.outputs.scale, estimator.test.samples], \n",
    "    feed_dict={estimator.test.inputs: test_x[..., np.newaxis]})"
   ]
  },
  {
   "cell_type": "code",
   "execution_count": 9,
   "metadata": {},
   "outputs": [
    {
     "data": {
      "text/plain": [
       "[<twodlearn.bayesnet.bayesnet.ParticlesLayer at 0x7fd9d3c6ff60>,\n",
       " <twodlearn.bayesnet.bayesnet.SampleLayer at 0x7fd9d3c6fd30>,\n",
       " <twodlearn.bayesnet.bayesnet.McNormalEstimate at 0x7fd9d3c6fcc0>]"
      ]
     },
     "execution_count": 9,
     "metadata": {},
     "output_type": "execute_result"
    }
   ],
   "source": [
    "estimator.test.model.layers"
   ]
  },
  {
   "cell_type": "code",
   "execution_count": 10,
   "metadata": {},
   "outputs": [],
   "source": [
    "#test = session.run({'loc': output.loc, \n",
    "#                          'scale':output.scale}, \n",
    "#            feed_dict={inputs: test_x[..., np.newaxis]})\n"
   ]
  },
  {
   "cell_type": "code",
   "execution_count": 11,
   "metadata": {},
   "outputs": [
    {
     "data": {
      "text/plain": [
       "[<matplotlib.lines.Line2D at 0x7fd8a439af28>]"
      ]
     },
     "execution_count": 11,
     "metadata": {},
     "output_type": "execute_result"
    },
    {
     "data": {
      "image/png": "[encoded data removed]",
      "text/plain": [
       "<Figure size 432x288 with 1 Axes>"
      ]
     },
     "metadata": {
      "needs_background": "light"
     },
     "output_type": "display_data"
    }
   ],
   "source": [
    "plt.plot(test_x, loc)\n",
    "plt.plot(test_x, loc+scale, 'r')\n",
    "plt.plot(test_x, loc-scale, 'r')\n",
    "plt.plot(dataset.train.x, dataset.train.y, '+k')"
   ]
  },
  {
   "cell_type": "code",
   "execution_count": 12,
   "metadata": {},
   "outputs": [
    {
     "data": {
      "text/plain": [
       "[<matplotlib.lines.Line2D at 0x7fd8a4088860>]"
      ]
     },
     "execution_count": 12,
     "metadata": {},
     "output_type": "execute_result"
    },
    {
     "data": {
      "image/png": "[encoded data removed]",
      "text/plain": [
       "<Figure size 432x288 with 1 Axes>"
      ]
     },
     "metadata": {
      "needs_background": "light"
     },
     "output_type": "display_data"
    }
   ],
   "source": [
    "plt.plot(np.squeeze(test_stddev)[:])"
   ]
  },
  {
   "cell_type": "code",
   "execution_count": 13,
   "metadata": {},
   "outputs": [
    {
     "data": {
      "text/plain": [
       "[<matplotlib.lines.Line2D at 0x7fd8a421ceb8>]"
      ]
     },
     "execution_count": 13,
     "metadata": {},
     "output_type": "execute_result"
    },
    {
     "data": {
      "image/png": "[encoded data removed]",
      "text/plain": [
       "<Figure size 432x288 with 1 Axes>"
      ]
     },
     "metadata": {
      "needs_background": "light"
     },
     "output_type": "display_data"
    }
   ],
   "source": [
    "plt.plot(dataset.train.x, dataset.train.y, '+k')\n",
    "plt.plot(test_x, np.squeeze(test_mean), 'b')\n",
    "plt.plot(test_x, np.squeeze(test_mean) + np.squeeze(test_stddev), 'r')\n",
    "plt.plot(test_x, np.squeeze(test_mean) - np.squeeze(test_stddev), 'r')\n"
   ]
  },
  {
   "cell_type": "code",
   "execution_count": 41,
   "metadata": {},
   "outputs": [
    {
     "data": {
      "text/plain": [
       "[<matplotlib.lines.Line2D at 0x7fd534f36400>]"
      ]
     },
     "execution_count": 41,
     "metadata": {},
     "output_type": "execute_result"
    },
    {
     "data": {
      "image/png": "[encoded data removed]",
      "text/plain": [
       "<Figure size 432x288 with 1 Axes>"
      ]
     },
     "metadata": {
      "needs_background": "light"
     },
     "output_type": "display_data"
    }
   ],
   "source": [
    "plt.plot(dataset.train.x, dataset.train.y, '+r')\n",
    "plt.plot(test_x, np.squeeze(test_samples), '+k')"
   ]
  },
  {
   "cell_type": "code",
   "execution_count": 26,
   "metadata": {},
   "outputs": [
    {
     "data": {
      "text/plain": [
       "array([[0.01076472, 0.01131402, 0.01076885, 0.01068806, 0.01162645,\n",
       "        0.00983851, 0.01067827, 0.01146807, 0.01011505, 0.00463569,\n",
       "        0.00083018, 0.00081005, 0.01087074, 0.01141055, 0.01151509,\n",
       "        0.01140737, 0.01087592, 0.00928579, 0.01100221, 0.0115376 ]],\n",
       "      dtype=float32)"
      ]
     },
     "execution_count": 26,
     "metadata": {},
     "output_type": "execute_result"
    }
   ],
   "source": [
    "estimator.model.loc.layers[0].kernel.scale.eval()"
   ]
  },
  {
   "cell_type": "code",
   "execution_count": 304,
   "metadata": {},
   "outputs": [
    {
     "data": {
      "text/plain": [
       "TensorShape([Dimension(10), Dimension(None), Dimension(100)])"
      ]
     },
     "execution_count": 304,
     "metadata": {},
     "output_type": "execute_result"
    }
   ],
   "source": [
    "tf.broadcast_static_shape(tf.TensorShape([10, None, 100]), tf.TensorShape([1, 100]))"
   ]
  },
  {
   "cell_type": "code",
   "execution_count": 184,
   "metadata": {},
   "outputs": [],
   "source": [
    "class TestLayer(tdl.core.Layer):\n",
    "    def call(self, inputs, state):\n",
    "        return tf.concat([inputs, state], -1)\n",
    "\n",
    "\n",
    "#model = TestLayer()\n",
    "#model = tf.keras.layers.LSTMCell(units=20)\n",
    "model = tf.keras.layers.Concatenate()"
   ]
  },
  {
   "cell_type": "code",
   "execution_count": 186,
   "metadata": {},
   "outputs": [],
   "source": [
    "import twodlearn.debug\n",
    "\n",
    "@tdl.debug.stop_at_error\n",
    "def test():\n",
    "    #return model(tf.placeholder(tf.float32, (None, 3)),\n",
    "    #             model.get_initial_state(batch_size=20, dtype=tf.float32))\n",
    "    return model([tf.placeholder(tf.float32, (None, 3)),\n",
    "                  tf.placeholder(tf.float32, (None, 5))])\n",
    "\n",
    "output = test()"
   ]
  },
  {
   "cell_type": "code",
   "execution_count": 190,
   "metadata": {},
   "outputs": [
    {
     "data": {
      "text/plain": [
       "<tf.Tensor 'concatenate_1/concat:0' shape=(?, 8) dtype=float32>"
      ]
     },
     "execution_count": 190,
     "metadata": {},
     "output_type": "execute_result"
    }
   ],
   "source": [
    "output"
   ]
  },
  {
   "cell_type": "code",
   "execution_count": 189,
   "metadata": {},
   "outputs": [
    {
     "ename": "AttributeError",
     "evalue": "The layer has never been called and thus has no defined output shape.",
     "output_type": "error",
     "traceback": [
      "\u001b[0;31m---------------------------------------------------------------------------\u001b[0m",
      "\u001b[0;31mAttributeError\u001b[0m                            Traceback (most recent call last)",
      "\u001b[0;32m<ipython-input-189-188e4d5e6cd0>\u001b[0m in \u001b[0;36m<module>\u001b[0;34m\u001b[0m\n\u001b[0;32m----> 1\u001b[0;31m \u001b[0mmodel\u001b[0m\u001b[0;34m.\u001b[0m\u001b[0moutput_shape\u001b[0m\u001b[0;34m\u001b[0m\u001b[0m\n\u001b[0m",
      "\u001b[0;32m~/research/2019/AssociativeGAN/env/lib/python3.5/site-packages/tensorflow/python/keras/engine/base_layer.py\u001b[0m in \u001b[0;36moutput_shape\u001b[0;34m(self)\u001b[0m\n\u001b[1;32m   1395\u001b[0m     \"\"\"\n\u001b[1;32m   1396\u001b[0m     \u001b[0;32mif\u001b[0m \u001b[0;32mnot\u001b[0m \u001b[0mself\u001b[0m\u001b[0;34m.\u001b[0m\u001b[0m_inbound_nodes\u001b[0m\u001b[0;34m:\u001b[0m\u001b[0;34m\u001b[0m\u001b[0m\n\u001b[0;32m-> 1397\u001b[0;31m       raise AttributeError('The layer has never been called '\n\u001b[0m\u001b[1;32m   1398\u001b[0m                            'and thus has no defined output shape.')\n\u001b[1;32m   1399\u001b[0m     all_output_shapes = set(\n",
      "\u001b[0;31mAttributeError\u001b[0m: The layer has never been called and thus has no defined output shape."
     ]
    }
   ],
   "source": [
    "model.output_shape"
   ]
  },
  {
   "cell_type": "code",
   "execution_count": 236,
   "metadata": {},
   "outputs": [],
   "source": [
    "class NormalModel(tdl.core.Layer):\n",
    "    @tdl.core.InputArgument\n",
    "    def input_shape(self, value):\n",
    "        if value is None:\n",
    "            raise tdl.core.exceptions.ArgumentNotProvided(self)\n",
    "        if not isinstance(value, tf.TensorShape):\n",
    "            value = tf.TensorShape(value)\n",
    "        return value\n",
    "        \n",
    "    @tdl.core.InputArgument\n",
    "    def batch_shape(self, value):\n",
    "        if value is None:\n",
    "            raise tdl.core.exceptions.ArgumentNotProvided(self)\n",
    "        if not isinstance(value, tf.TensorShape):\n",
    "            value = tf.TensorShape(value)\n",
    "        return value\n",
    "\n",
    "    @tdl.core.SubmodelInit\n",
    "    def loc(self, initializer=None, trainable=True, **kargs):\n",
    "        tdl.core.assert_initialized(self, 'loc', ['batch_shape'])\n",
    "        if initializer is None:\n",
    "            initializer = tf.keras.initializers.zeros()\n",
    "        shape = tf.TensorShape(\n",
    "            (1 if dim is None else dim)\n",
    "            for dim in self.batch_shape.as_list())\n",
    "        return self.add_weight(\n",
    "            name='loc',\n",
    "            initializer=initializer,\n",
    "            shape=shape,\n",
    "            trainable=trainable,\n",
    "            **kargs)\n",
    "\n",
    "    @tdl.core.SubmodelInit\n",
    "    def scale(self, initializer=None, trainable=True, **kargs):\n",
    "        tdl.core.assert_initialized(self, 'shape', ['batch_shape'])\n",
    "        shape = tf.TensorShape(\n",
    "            (1 if dim is None else dim)\n",
    "            for dim in self.batch_shape.as_list())\n",
    "        if initializer is None:\n",
    "            initializer = tdl.constrained.PositiveVariableExp.init_wrapper(\n",
    "                initializer=tf.keras.initializers.ones(),\n",
    "                trainable=trainable,\n",
    "                tolerance=1e-5,\n",
    "                **kargs)\n",
    "        return initializer(shape=shape)\n",
    "\n",
    "    def build(self, input_shape=None):\n",
    "        tdl.core.assert_initialized(self, 'build', ['loc', 'scale'])\n",
    "        if input_shape is not None and not tdl.core.is_property_initialized(self, 'input_shape'):\n",
    "            self.input_shape = input_shape\n",
    "        self.built = True\n",
    "\n",
    "    def call(self, inputs, *args, **kargs):\n",
    "        if inputs is not None:\n",
    "            inputs = tf.convert_to_tensor(inputs)\n",
    "        loc = (self.loc(inputs) if callable(self.loc)\n",
    "               else self.loc)\n",
    "        scale = (self.scale(inputs) if callable(self.scale)\n",
    "                 else self.scale)\n",
    "        return tfp.distributions.Normal(loc=loc, scale=scale)"
   ]
  },
  {
   "cell_type": "code",
   "execution_count": 237,
   "metadata": {},
   "outputs": [],
   "source": [
    "model = NormalModel(\n",
    "        batch_shape=[None, 1],\n",
    "        loc=tdl.stacked.StackedLayers(\n",
    "            layers=[tdl.bayesnet.AffineNormalLayer(units=10, tolerance=1e-5),\n",
    "                    tf.keras.activations.softplus,\n",
    "                    tdl.bayesnet.AffineNormalLayer(units=1, tolerance=1e-5)]))"
   ]
  },
  {
   "cell_type": "code",
   "execution_count": 238,
   "metadata": {},
   "outputs": [],
   "source": [
    "@tdl.debug.stop_at_error\n",
    "def test():\n",
    "    inputs = tf.placeholder(tf.float32, (None, 1))\n",
    "    return model(inputs)\n",
    "outputs = test()"
   ]
  },
  {
   "cell_type": "code",
   "execution_count": 244,
   "metadata": {},
   "outputs": [
    {
     "data": {
      "text/plain": [
       "<tfp.distributions.Normal 'NormalModel_10_1/Normal/' batch_shape=(?, 1) event_shape=() dtype=float32>"
      ]
     },
     "execution_count": 244,
     "metadata": {},
     "output_type": "execute_result"
    }
   ],
   "source": [
    "outputs"
   ]
  },
  {
   "cell_type": "code",
   "execution_count": 242,
   "metadata": {},
   "outputs": [
    {
     "data": {
      "text/plain": [
       "TensorShape([Dimension(None), Dimension(1)])"
      ]
     },
     "execution_count": 242,
     "metadata": {},
     "output_type": "execute_result"
    }
   ],
   "source": [
    "model.input_shape"
   ]
  },
  {
   "cell_type": "code",
   "execution_count": 243,
   "metadata": {},
   "outputs": [
    {
     "data": {
      "text/plain": [
       "TensorShape([Dimension(None), Dimension(1)])"
      ]
     },
     "execution_count": 243,
     "metadata": {},
     "output_type": "execute_result"
    }
   ],
   "source": [
    "model.batch_shape"
   ]
  },
  {
   "cell_type": "code",
   "execution_count": null,
   "metadata": {},
   "outputs": [],
   "source": []
  },
  {
   "cell_type": "code",
   "execution_count": null,
   "metadata": {},
   "outputs": [],
   "source": []
  }
 ],
 "metadata": {
  "kernelspec": {
   "display_name": "Python 3",
   "language": "python",
   "name": "python3"
  },
  "language_info": {
   "codemirror_mode": {
    "name": "ipython",
    "version": 3
   },
   "file_extension": ".py",
   "mimetype": "text/x-python",
   "name": "python",
   "nbconvert_exporter": "python",
   "pygments_lexer": "ipython3",
   "version": "3.5.2"
  }
 },
 "nbformat": 4,
 "nbformat_minor": 2
}
