{
 "cells": [
  {
   "cell_type": "code",
   "execution_count": 1,
   "metadata": {},
   "outputs": [],
   "source": [
    "import os\n",
    "os.environ[\"CUDA_VISIBLE_DEVICES\"]=\"1\"\n",
    "\n",
    "\n",
    "import acgan\n",
    "import numpy as np\n",
    "import matplotlib.pyplot as plt\n",
    "import tqdm\n",
    "import twodlearn as tdl\n",
    "import tensorflow as tf\n",
    "import tensorflow_datasets as tfds\n",
    "from functools import reduce\n",
    "import matplotlib.pyplot as plt\n",
    "BATCH_SIZE = 64\n",
    "#acgan.data.DATA_DIR = '/data/marinodl/tensorflow_datasets'\n",
    "session = tf.InteractiveSession()\n"
   ]
  },
  {
   "cell_type": "code",
   "execution_count": 2,
   "metadata": {},
   "outputs": [
    {
     "name": "stdout",
     "output_type": "stream",
     "text": [
      "WARNING:tensorflow:From /home/marinodl/research/2019/AssociativeGAN/env/lib/python3.6/site-packages/tensorflow/python/ops/control_flow_ops.py:423: colocate_with (from tensorflow.python.framework.ops) is deprecated and will be removed in a future version.\n",
      "Instructions for updating:\n",
      "Colocations handled automatically by placer.\n"
     ]
    },
    {
     "name": "stderr",
     "output_type": "stream",
     "text": [
      "WARNING: Logging before flag parsing goes to stderr.\n",
      "W0331 06:54:02.404372 140295338723136 deprecation.py:323] From /home/marinodl/research/2019/AssociativeGAN/env/lib/python3.6/site-packages/tensorflow/python/ops/control_flow_ops.py:423: colocate_with (from tensorflow.python.framework.ops) is deprecated and will be removed in a future version.\n",
      "Instructions for updating:\n",
      "Colocations handled automatically by placer.\n"
     ]
    },
    {
     "name": "stdout",
     "output_type": "stream",
     "text": [
      "input shape: [None, 32, 32, 1]\n"
     ]
    }
   ],
   "source": [
    "#dataset = acgan.data.load_celeb_a(BATCH_SIZE)\n",
    "dataset = acgan.data.load_mnist32(BATCH_SIZE)\n",
    "input_shape = dataset.output_shapes.as_list()\n",
    "print('input shape: {}'.format(input_shape))"
   ]
  },
  {
   "cell_type": "code",
   "execution_count": 3,
   "metadata": {},
   "outputs": [
    {
     "name": "stdout",
     "output_type": "stream",
     "text": [
      "output shape: (?, 32, 32, 1)\n"
     ]
    }
   ],
   "source": [
    "model = acgan.model.MSG_GAN(\n",
    "    embedding_size=100,\n",
    "    generator={'init_shape':(4, 4, 264),\n",
    "               'units': [128, 64, 1],\n",
    "               'kernels': 3,\n",
    "               'strides': [2, 2, 2],\n",
    "               'padding': ['same', 'same', 'same', 'same']},\n",
    "    discriminator={'units':[64, 128, 264],\n",
    "                   'kernels':3,\n",
    "                   'strides':[2, 2, 2],\n",
    "                   'dropout':None}\n",
    ")\n",
    "#model.noise_rate.init(rate=0.001)\n",
    "print('output shape: {}'.format(\n",
    "    model.generator.compute_output_shape(\n",
    "        input_shape=[None, 100])))"
   ]
  },
  {
   "cell_type": "code",
   "execution_count": 4,
   "metadata": {},
   "outputs": [
    {
     "name": "stdout",
     "output_type": "stream",
     "text": [
      "WARNING:tensorflow:From /home/marinodl/research/2019/AssociativeGAN/env/lib/python3.6/site-packages/tensorflow/python/keras/utils/losses_utils.py:170: to_float (from tensorflow.python.ops.math_ops) is deprecated and will be removed in a future version.\n",
      "Instructions for updating:\n",
      "Use tf.cast instead.\n"
     ]
    },
    {
     "name": "stderr",
     "output_type": "stream",
     "text": [
      "W0331 06:54:03.191856 140295338723136 deprecation.py:323] From /home/marinodl/research/2019/AssociativeGAN/env/lib/python3.6/site-packages/tensorflow/python/keras/utils/losses_utils.py:170: to_float (from tensorflow.python.ops.math_ops) is deprecated and will be removed in a future version.\n",
      "Instructions for updating:\n",
      "Use tf.cast instead.\n"
     ]
    },
    {
     "name": "stdout",
     "output_type": "stream",
     "text": [
      "WARNING:tensorflow:From /home/marinodl/research/2019/AssociativeGAN/env/lib/python3.6/site-packages/tensorflow/python/ops/math_ops.py:3066: to_int32 (from tensorflow.python.ops.math_ops) is deprecated and will be removed in a future version.\n",
      "Instructions for updating:\n",
      "Use tf.cast instead.\n"
     ]
    },
    {
     "name": "stderr",
     "output_type": "stream",
     "text": [
      "W0331 06:54:03.457538 140295338723136 deprecation.py:323] From /home/marinodl/research/2019/AssociativeGAN/env/lib/python3.6/site-packages/tensorflow/python/ops/math_ops.py:3066: to_int32 (from tensorflow.python.ops.math_ops) is deprecated and will be removed in a future version.\n",
      "Instructions for updating:\n",
      "Use tf.cast instead.\n"
     ]
    }
   ],
   "source": [
    "iter = dataset.make_one_shot_iterator()\n",
    "xreal = iter.get_next()\n",
    "\n",
    "import twodlearn.debug\n",
    "@tdl.debug.stop_at_error\n",
    "def _test():\n",
    "    gen = model.generator_trainer(BATCH_SIZE, learning_rate=0.0002)\n",
    "    dis = model.discriminator_trainer(BATCH_SIZE, xreal=xreal, learning_rate=0.0002)\n",
    "    return gen, dis\n",
    "gen, dis = _test()\n",
    "tdl.core.variables_initializer(gen.variables).run()\n",
    "tdl.core.variables_initializer(dis.variables).run()"
   ]
  },
  {
   "cell_type": "code",
   "execution_count": 5,
   "metadata": {},
   "outputs": [
    {
     "data": {
      "text/plain": [
       "[TensorShape([Dimension(64), Dimension(16), Dimension(16), Dimension(64)]),\n",
       " TensorShape([Dimension(64), Dimension(8), Dimension(8), Dimension(128)]),\n",
       " TensorShape([Dimension(64), Dimension(4), Dimension(4), Dimension(264)])]"
      ]
     },
     "execution_count": 5,
     "metadata": {},
     "output_type": "execute_result"
    }
   ],
   "source": [
    "model.discriminator.hidden_shapes"
   ]
  },
  {
   "cell_type": "code",
   "execution_count": 6,
   "metadata": {},
   "outputs": [
    {
     "data": {
      "text/plain": [
       "[<twodlearn.convnet.Conv1x1Proj at 0x7f97e86a7438>,\n",
       " <twodlearn.convnet.Conv1x1Proj at 0x7f97e86a75f8>,\n",
       " <twodlearn.convnet.Conv1x1Proj at 0x7f97e86a76a0>]"
      ]
     },
     "execution_count": 6,
     "metadata": {},
     "output_type": "execute_result"
    }
   ],
   "source": [
    "model.discriminator.projections"
   ]
  },
  {
   "cell_type": "code",
   "execution_count": 7,
   "metadata": {},
   "outputs": [
    {
     "data": {
      "text/plain": [
       "[<acgan.model.msg_gan.MSG_DiscriminatorHidden at 0x7f97f050b748>,\n",
       " <acgan.model.msg_gan.MSG_DiscriminatorHidden at 0x7f97f050bf60>,\n",
       " <acgan.model.msg_gan.MSG_DiscriminatorHidden at 0x7f97f050b550>,\n",
       " <acgan.model.base.DiscriminatorOutput at 0x7f97f050b438>]"
      ]
     },
     "execution_count": 7,
     "metadata": {},
     "output_type": "execute_result"
    }
   ],
   "source": [
    "model.discriminator.layers"
   ]
  },
  {
   "cell_type": "code",
   "execution_count": 8,
   "metadata": {},
   "outputs": [
    {
     "data": {
      "text/plain": [
       "[TensorShape([Dimension(None), Dimension(4), Dimension(4), Dimension(264)]),\n",
       " TensorShape([Dimension(None), Dimension(8), Dimension(8), Dimension(128)]),\n",
       " TensorShape([Dimension(None), Dimension(16), Dimension(16), Dimension(64)]),\n",
       " TensorShape([Dimension(None), Dimension(32), Dimension(32), Dimension(1)])]"
      ]
     },
     "execution_count": 8,
     "metadata": {},
     "output_type": "execute_result"
    }
   ],
   "source": [
    "model.generator.pyramid_shapes"
   ]
  },
  {
   "cell_type": "code",
   "execution_count": 9,
   "metadata": {},
   "outputs": [
    {
     "data": {
      "text/plain": [
       "1"
      ]
     },
     "execution_count": 9,
     "metadata": {},
     "output_type": "execute_result"
    }
   ],
   "source": [
    "model.generator.layers[-1].units"
   ]
  },
  {
   "cell_type": "code",
   "execution_count": 10,
   "metadata": {},
   "outputs": [
    {
     "data": {
      "text/plain": [
       "[None, 32, 32, 1]"
      ]
     },
     "execution_count": 10,
     "metadata": {},
     "output_type": "execute_result"
    }
   ],
   "source": [
    "dis.xreal.shape.as_list()"
   ]
  },
  {
   "cell_type": "code",
   "execution_count": 11,
   "metadata": {},
   "outputs": [
    {
     "name": "stdout",
     "output_type": "stream",
     "text": [
      "step 0 | dis 0.6883189082145691 | gen 0.6956252455711365\n"
     ]
    }
   ],
   "source": [
    "print('step {} | dis {} | gen {}'.format(dis.train_step.eval(), dis.loss.eval(), gen.loss.eval()) )"
   ]
  },
  {
   "cell_type": "code",
   "execution_count": 45,
   "metadata": {},
   "outputs": [
    {
     "name": "stderr",
     "output_type": "stream",
     "text": [
      "step 2875 | dis 0.6544 | gen 0.6463 : : 1002it [00:40, 24.49it/s]\n"
     ]
    }
   ],
   "source": [
    "acgan.train.run_training(dis=dis, gen=gen, n_steps=500, n_logging=10)"
   ]
  },
  {
   "cell_type": "code",
   "execution_count": 46,
   "metadata": {},
   "outputs": [
    {
     "data": {
      "image/png": "[encoded data removed]",
      "text/plain": [
       "<Figure size 432x288 with 28 Axes>"
      ]
     },
     "metadata": {
      "needs_background": "light"
     },
     "output_type": "display_data"
    }
   ],
   "source": [
    "xsim = dis.xsim.eval()\n",
    "for i in range(4*7):\n",
    "    plt.subplot(4,7, i+1)\n",
    "    plt.imshow(np.squeeze((xsim[i][:,:,:]+1)*0.5))\n",
    "    plt.axis('off')"
   ]
  },
  {
   "cell_type": "code",
   "execution_count": 52,
   "metadata": {},
   "outputs": [
    {
     "data": {
      "image/png": "[encoded data removed]",
      "text/plain": [
       "<Figure size 432x288 with 8 Axes>"
      ]
     },
     "metadata": {
      "needs_background": "light"
     },
     "output_type": "display_data"
    }
   ],
   "source": [
    "fig, ax = plt.subplots(2, len(dis.real_pyramid))\n",
    "real_pyramid_ = session.run(dis.real_pyramid)\n",
    "sim_pyramid_ = session.run(gen.sim_pyramid)\n",
    "for idx in range(len(dis.real_pyramid)):\n",
    "    ax[0, idx].imshow(np.squeeze(real_pyramid_[idx][1, ...]+1)*0.5)\n",
    "    ax[1, idx].imshow(np.squeeze(sim_pyramid_[idx][1, ...]+1)*0.5)"
   ]
  },
  {
   "cell_type": "code",
   "execution_count": null,
   "metadata": {},
   "outputs": [],
   "source": []
  },
  {
   "cell_type": "code",
   "execution_count": null,
   "metadata": {},
   "outputs": [],
   "source": []
  },
  {
   "cell_type": "code",
   "execution_count": null,
   "metadata": {},
   "outputs": [],
   "source": []
  },
  {
   "cell_type": "code",
   "execution_count": null,
   "metadata": {},
   "outputs": [],
   "source": []
  },
  {
   "cell_type": "code",
   "execution_count": null,
   "metadata": {},
   "outputs": [],
   "source": []
  },
  {
   "cell_type": "code",
   "execution_count": null,
   "metadata": {},
   "outputs": [],
   "source": []
  }
 ],
 "metadata": {
  "kernelspec": {
   "display_name": "Python 3",
   "language": "python",
   "name": "python3"
  },
  "language_info": {
   "codemirror_mode": {
    "name": "ipython",
    "version": 3
   },
   "file_extension": ".py",
   "mimetype": "text/x-python",
   "name": "python",
   "nbconvert_exporter": "python",
   "pygments_lexer": "ipython3",
   "version": "3.6.8"
  }
 },
 "nbformat": 4,
 "nbformat_minor": 2
}
