{
 "cells": [
  {
   "cell_type": "code",
   "execution_count": 1,
   "metadata": {},
   "outputs": [],
   "source": [
    "import os\n",
    "os.environ[\"CUDA_VISIBLE_DEVICES\"]=\"1,2\"\n",
    "\n",
    "\n",
    "import acgan\n",
    "import numpy as np\n",
    "import matplotlib.pyplot as plt\n",
    "import tqdm\n",
    "import twodlearn as tdl\n",
    "import tensorflow as tf\n",
    "import tensorflow_datasets as tfds\n",
    "from functools import reduce\n",
    "import matplotlib.pyplot as plt\n",
    "BATCH_SIZE = 64\n",
    "#acgan.data.DATA_DIR = '/data/marinodl/tensorflow_datasets'\n",
    "session = tf.InteractiveSession()\n"
   ]
  },
  {
   "cell_type": "code",
   "execution_count": 2,
   "metadata": {},
   "outputs": [
    {
     "name": "stdout",
     "output_type": "stream",
     "text": [
      "WARNING:tensorflow:From /home/marinodl/research/2019/AssociativeGAN/env/lib/python3.6/site-packages/tensorflow/python/ops/control_flow_ops.py:423: colocate_with (from tensorflow.python.framework.ops) is deprecated and will be removed in a future version.\n",
      "Instructions for updating:\n",
      "Colocations handled automatically by placer.\n"
     ]
    },
    {
     "name": "stderr",
     "output_type": "stream",
     "text": [
      "WARNING: Logging before flag parsing goes to stderr.\n",
      "W0402 00:58:53.361559 140139486881600 deprecation.py:323] From /home/marinodl/research/2019/AssociativeGAN/env/lib/python3.6/site-packages/tensorflow/python/ops/control_flow_ops.py:423: colocate_with (from tensorflow.python.framework.ops) is deprecated and will be removed in a future version.\n",
      "Instructions for updating:\n",
      "Colocations handled automatically by placer.\n"
     ]
    },
    {
     "name": "stdout",
     "output_type": "stream",
     "text": [
      "input shape: [None, 64, 64, 3]\n"
     ]
    }
   ],
   "source": [
    "dataset = acgan.data.load_celeb_a(BATCH_SIZE)\n",
    "#dataset = acgan.data.load_mnist32(BATCH_SIZE)\n",
    "input_shape = dataset.output_shapes.as_list()\n",
    "print('input shape: {}'.format(input_shape))"
   ]
  },
  {
   "cell_type": "code",
   "execution_count": 3,
   "metadata": {},
   "outputs": [
    {
     "name": "stdout",
     "output_type": "stream",
     "text": [
      "output shape: (?, 64, 64, 3)\n"
     ]
    }
   ],
   "source": [
    "import twodlearn.debug\n",
    "@tdl.debug.stop_at_error\n",
    "def _test():\n",
    "    model = acgan.model.MSG_GAN(\n",
    "        embedding_size=256,\n",
    "        generator={'init_shape':(4, 4, 1024),\n",
    "                   'units': [512, 256, 128, 3],\n",
    "                   'kernels': 3,\n",
    "                   'strides': 2},\n",
    "        discriminator={'units':[128, 256, 512, 1024], #1024\n",
    "                       'kernels':3,\n",
    "                       'strides':2,\n",
    "                       'dropout':None}\n",
    "    )\n",
    "    return model\n",
    "model = _test()\n",
    "#model.noise_rate.init(rate=0.001)\n",
    "print('output shape: {}'.format(\n",
    "    model.generator.compute_output_shape(\n",
    "        input_shape=[None, 100])))"
   ]
  },
  {
   "cell_type": "code",
   "execution_count": 4,
   "metadata": {},
   "outputs": [
    {
     "name": "stdout",
     "output_type": "stream",
     "text": [
      "WARNING:tensorflow:From /home/marinodl/research/2019/AssociativeGAN/env/lib/python3.6/site-packages/tensorflow/python/keras/utils/losses_utils.py:170: to_float (from tensorflow.python.ops.math_ops) is deprecated and will be removed in a future version.\n",
      "Instructions for updating:\n",
      "Use tf.cast instead.\n"
     ]
    },
    {
     "name": "stderr",
     "output_type": "stream",
     "text": [
      "W0402 00:58:54.837597 140139486881600 deprecation.py:323] From /home/marinodl/research/2019/AssociativeGAN/env/lib/python3.6/site-packages/tensorflow/python/keras/utils/losses_utils.py:170: to_float (from tensorflow.python.ops.math_ops) is deprecated and will be removed in a future version.\n",
      "Instructions for updating:\n",
      "Use tf.cast instead.\n"
     ]
    },
    {
     "name": "stdout",
     "output_type": "stream",
     "text": [
      "WARNING:tensorflow:From /home/marinodl/research/2019/AssociativeGAN/env/lib/python3.6/site-packages/tensorflow/python/ops/math_ops.py:3066: to_int32 (from tensorflow.python.ops.math_ops) is deprecated and will be removed in a future version.\n",
      "Instructions for updating:\n",
      "Use tf.cast instead.\n"
     ]
    },
    {
     "name": "stderr",
     "output_type": "stream",
     "text": [
      "W0402 00:58:55.686001 140139486881600 deprecation.py:323] From /home/marinodl/research/2019/AssociativeGAN/env/lib/python3.6/site-packages/tensorflow/python/ops/math_ops.py:3066: to_int32 (from tensorflow.python.ops.math_ops) is deprecated and will be removed in a future version.\n",
      "Instructions for updating:\n",
      "Use tf.cast instead.\n"
     ]
    }
   ],
   "source": [
    "iter = dataset.make_one_shot_iterator()\n",
    "xreal = iter.get_next()\n",
    "\n",
    "import twodlearn.debug\n",
    "@tdl.debug.stop_at_error\n",
    "def _test():\n",
    "    gen = model.generator_trainer(\n",
    "        BATCH_SIZE, learning_rate=0.0002,\n",
    "        pyramid_loss={'scale': 1e-6},\n",
    "        regularizer={'scale': 1e-6}\n",
    "        )\n",
    "        #regularizer={'scale': 1e-5})\n",
    "    dis = model.discriminator_trainer(\n",
    "        BATCH_SIZE, xreal=xreal, learning_rate=0.0002,\n",
    "        regularizer={'scale': 1e-6}\n",
    "        )\n",
    "        #regularizer={'scale': 1e-5})\n",
    "    return gen, dis\n",
    "gen, dis = _test()\n",
    "tdl.core.variables_initializer(gen.variables).run()\n",
    "tdl.core.variables_initializer(dis.variables).run()"
   ]
  },
  {
   "cell_type": "code",
   "execution_count": null,
   "metadata": {},
   "outputs": [
    {
     "name": "stdout",
     "output_type": "stream",
     "text": [
      "[TensorShape([Dimension(None), Dimension(4), Dimension(4), Dimension(1024)]), TensorShape([Dimension(None), Dimension(8), Dimension(8), Dimension(512)]), TensorShape([Dimension(None), Dimension(16), Dimension(16), Dimension(256)]), TensorShape([Dimension(None), Dimension(32), Dimension(32), Dimension(128)])]\n",
      "[128, 256, 512, 1024]\n"
     ]
    }
   ],
   "source": [
    "print([proj.input_shape for proj in model.generator.projections])\n",
    "print([proj.units for proj in model.discriminator.projections])"
   ]
  },
  {
   "cell_type": "code",
   "execution_count": null,
   "metadata": {},
   "outputs": [
    {
     "data": {
      "text/plain": [
       "[None, 64, 64, 3]"
      ]
     },
     "execution_count": 6,
     "metadata": {},
     "output_type": "execute_result"
    }
   ],
   "source": [
    "dis.xreal.shape.as_list()"
   ]
  },
  {
   "cell_type": "code",
   "execution_count": null,
   "metadata": {},
   "outputs": [
    {
     "name": "stdout",
     "output_type": "stream",
     "text": [
      "step 0 | dis 0.7150178551673889 | gen 0.7182216644287109\n"
     ]
    }
   ],
   "source": [
    "print('step {} | dis {} | gen {}'.format(dis.train_step.eval(), dis.loss.eval(), gen.loss.eval()) )"
   ]
  },
  {
   "cell_type": "code",
   "execution_count": null,
   "metadata": {},
   "outputs": [],
   "source": [
    "MAX_UPDATE_STEPS = 100\n",
    "def run_training(dis, gen, n_steps=1000, n_logging=100, session=None):\n",
    "    def print_losses(progress_bar):\n",
    "        info = 'step {} | dis {:.4f} | gen {:.4f} '.format(\n",
    "            dis.train_step.eval(), dis.loss.eval(), gen.loss.eval())\n",
    "        progress_bar.set_description(info)\n",
    "\n",
    "    def update_log(steps, progres_bar):\n",
    "        progress_bar.update(1)\n",
    "        done = steps > 2*n_steps\n",
    "        if steps % n_logging == 0:\n",
    "            print_losses(progress_bar)\n",
    "        return done, steps+1\n",
    "\n",
    "    session = (session if session is not None\n",
    "               else tf.get_default_session()\n",
    "               if tf.get_default_session() is not None\n",
    "               else tf.InteractiveSession())\n",
    "    dis_loss, gen_loss = session.run([dis.loss, gen.loss])\n",
    "    progress_bar = tqdm.tqdm(range(2*n_steps))\n",
    "    done = False\n",
    "    steps = 0\n",
    "    # an each update of either network is considered an step\n",
    "    while not done:\n",
    "        # optimize discriminator\n",
    "        # dis_steps = max(1, int(dis_loss//gen_loss))\n",
    "        # dis_steps = min(dis_steps, MAX_UPDATE_STEPS)\n",
    "        #dis_steps = (dis_steps if dis.train_step.eval() > 500\n",
    "        #             else 1)  # only one during first iterations\n",
    "        dis_steps = 1\n",
    "        for j in range(dis_steps):\n",
    "            _, dis_loss, gen_loss = session.run([dis.step, dis.loss, gen.loss])\n",
    "            done, steps = update_log(steps, progress_bar)\n",
    "            if (dis_loss < gen_loss) or done:\n",
    "                break\n",
    "        # optimize generator\n",
    "        #gen_steps = max(1, int(gen_loss//dis_loss))\n",
    "        #gen_steps = min(gen_steps, MAX_UPDATE_STEPS)\n",
    "        gen_steps = 4\n",
    "        for j in range(gen_steps):\n",
    "            _, dis_loss, gen_loss = session.run([gen.step, dis.loss, gen.loss])\n",
    "            done, steps = update_log(steps, progress_bar)\n",
    "            if (gen_loss < dis_loss) or done:\n",
    "                break\n",
    "    progress_bar.close()"
   ]
  },
  {
   "cell_type": "code",
   "execution_count": null,
   "metadata": {},
   "outputs": [
    {
     "name": "stderr",
     "output_type": "stream",
     "text": [
      "step 345 | dis 0.7034 | gen 0.7785 :  36%|███▌      | 719/2000 [04:58<08:16,  2.58it/s]"
     ]
    }
   ],
   "source": [
    "acgan.train.run_training(dis=dis, gen=gen, n_steps=1000, n_logging=10)"
   ]
  },
  {
   "cell_type": "code",
   "execution_count": null,
   "metadata": {},
   "outputs": [],
   "source": [
    "xsim = dis.xsim.eval()\n",
    "for i in range(4*7):\n",
    "    plt.subplot(4,7, i+1)\n",
    "    plt.imshow(np.squeeze((xsim[i][:,:,:]+1)*0.5))\n",
    "    plt.axis('off')"
   ]
  },
  {
   "cell_type": "code",
   "execution_count": null,
   "metadata": {},
   "outputs": [],
   "source": [
    "fig, ax = plt.subplots(2, len(dis.real_pyramid))\n",
    "real_pyramid_ = session.run(dis.real_pyramid)\n",
    "sim_pyramid_ = session.run(dis.sim_pyramid)\n",
    "for idx in range(len(dis.real_pyramid)):\n",
    "    ax[0, idx].imshow(np.squeeze(real_pyramid_[idx][1, ...]+1)*0.5)\n",
    "    ax[1, idx].imshow(np.squeeze(sim_pyramid_[idx][1, ...]+1)*0.5)"
   ]
  },
  {
   "cell_type": "code",
   "execution_count": 12,
   "metadata": {},
   "outputs": [
    {
     "data": {
      "text/plain": [
       "{'generator': False, 'discriminator': True}"
      ]
     },
     "execution_count": 12,
     "metadata": {},
     "output_type": "execute_result"
    }
   ],
   "source": [
    "import acgan.model.msg_gan\n",
    "acgan.model.msg_gan.USE_BIAS"
   ]
  },
  {
   "cell_type": "code",
   "execution_count": null,
   "metadata": {},
   "outputs": [],
   "source": []
  },
  {
   "cell_type": "code",
   "execution_count": null,
   "metadata": {},
   "outputs": [],
   "source": []
  },
  {
   "cell_type": "code",
   "execution_count": null,
   "metadata": {},
   "outputs": [],
   "source": []
  },
  {
   "cell_type": "code",
   "execution_count": null,
   "metadata": {},
   "outputs": [],
   "source": []
  }
 ],
 "metadata": {
  "kernelspec": {
   "display_name": "Python 3",
   "language": "python",
   "name": "python3"
  },
  "language_info": {
   "codemirror_mode": {
    "name": "ipython",
    "version": 3
   },
   "file_extension": ".py",
   "mimetype": "text/x-python",
   "name": "python",
   "nbconvert_exporter": "python",
   "pygments_lexer": "ipython3",
   "version": "3.6.8"
  }
 },
 "nbformat": 4,
 "nbformat_minor": 2
}
