{
 "cells": [
  {
   "cell_type": "code",
   "execution_count": 1,
   "metadata": {},
   "outputs": [
    {
     "name": "stderr",
     "output_type": "stream",
     "text": [
      "WARNING: Logging before flag parsing goes to stderr.\n",
      "W0829 17:56:27.851288 140110477965120 lazy_loader.py:50] \n",
      "The TensorFlow contrib module will not be included in TensorFlow 2.0.\n",
      "For more information, please see:\n",
      "  * https://github.com/tensorflow/community/blob/master/rfcs/20180907-contrib-sunset.md\n",
      "  * https://github.com/tensorflow/addons\n",
      "  * https://github.com/tensorflow/io (for I/O related ops)\n",
      "If you depend on functionality not listed there, please file an issue.\n",
      "\n"
     ]
    }
   ],
   "source": [
    "import os\n",
    "os.environ[\"CUDA_VISIBLE_DEVICES\"]=\"0\"\n",
    "import warnings\n",
    "warnings.filterwarnings(\"ignore\")\n",
    "\n",
    "import acgan\n",
    "import acgan.model.gmm_gan\n",
    "import numpy as np\n",
    "import matplotlib.pyplot as plt\n",
    "import tqdm\n",
    "import twodlearn as tdl\n",
    "import tensorflow as tf\n",
    "import tensorflow_datasets as tfds\n",
    "from functools import reduce\n",
    "import matplotlib.pyplot as plt\n",
    "import datetime\n",
    "BATCH_SIZE = 16\n",
    "#acgan.data.DATA_DIR = '/data/marinodl/tensorflow_datasets'\n"
   ]
  },
  {
   "cell_type": "code",
   "execution_count": 2,
   "metadata": {},
   "outputs": [],
   "source": [
    "session = tf.InteractiveSession()\n"
   ]
  },
  {
   "cell_type": "code",
   "execution_count": 3,
   "metadata": {},
   "outputs": [
    {
     "name": "stdout",
     "output_type": "stream",
     "text": [
      "2019-08-29 17:56:55.420656\n"
     ]
    }
   ],
   "source": [
    "print(datetime.datetime.now())"
   ]
  },
  {
   "cell_type": "code",
   "execution_count": 4,
   "metadata": {},
   "outputs": [
    {
     "name": "stderr",
     "output_type": "stream",
     "text": [
      "W0829 17:56:58.118222 140110477965120 dataset_builder.py:439] Warning: Setting shuffle_files=True because split=TRAIN and shuffle_files=None. This behavior will be deprecated on 2019-08-06, at which point shuffle_files=False will be the default for all splits.\n",
      "W0829 17:56:58.620048 140110477965120 deprecation_wrapper.py:119] From /home/marinodl/research/2019/AssociativeGAN/acgan/data.py:62: The name tf.image.resize_bilinear is deprecated. Please use tf.compat.v1.image.resize_bilinear instead.\n",
      "\n",
      "W0829 17:56:58.634291 140110477965120 deprecation.py:323] From <ipython-input-4-524ddf9f5df4>:3: DatasetV1.output_shapes (from tensorflow.python.data.ops.dataset_ops) is deprecated and will be removed in a future version.\n",
      "Instructions for updating:\n",
      "Use `tf.compat.v1.data.get_output_shapes(dataset)`.\n"
     ]
    },
    {
     "name": "stdout",
     "output_type": "stream",
     "text": [
      "input shape: [None, 128, 128, 3]\n"
     ]
    }
   ],
   "source": [
    "dataset = acgan.data.load_celeb_a_128_cropped(BATCH_SIZE)\n",
    "#dataset = acgan.data.load_mnist32(BATCH_SIZE)\n",
    "input_shape = dataset.output_shapes.as_list()\n",
    "print('input shape: {}'.format(input_shape))"
   ]
  },
  {
   "cell_type": "code",
   "execution_count": null,
   "metadata": {},
   "outputs": [],
   "source": [
    "import twodlearn.debug\n",
    "@tdl.debug.stop_at_error\n",
    "def _test():\n",
    "    model = acgan.model.gmm_gan.GmmGan(\n",
    "        embedding_size=512,\n",
    "        generator={'init_shape':(4, 4, 512),\n",
    "                   'units': [512, 512, 512, 256, 128],\n",
    "                   'outputs': 3,\n",
    "                   'kernels': 3,\n",
    "                   'strides': 2},\n",
    "        discriminator={'units':[256, 512, 512, 512, 512], #1024\n",
    "                       'kernels':3,\n",
    "                       'strides':2,\n",
    "                       'dropout':None}\n",
    "    )\n",
    "    return model\n",
    "model = _test()\n",
    "#model.noise_rate.init(rate=0.001)\n",
    "print('output shape: {}'.format(\n",
    "    model.generator.compute_output_shape(\n",
    "        input_shape=[None, 100])))"
   ]
  },
  {
   "cell_type": "code",
   "execution_count": null,
   "metadata": {},
   "outputs": [],
   "source": []
  },
  {
   "cell_type": "code",
   "execution_count": null,
   "metadata": {},
   "outputs": [],
   "source": []
  },
  {
   "cell_type": "code",
   "execution_count": null,
   "metadata": {},
   "outputs": [],
   "source": []
  },
  {
   "cell_type": "code",
   "execution_count": null,
   "metadata": {},
   "outputs": [],
   "source": []
  },
  {
   "cell_type": "code",
   "execution_count": null,
   "metadata": {},
   "outputs": [],
   "source": []
  },
  {
   "cell_type": "code",
   "execution_count": null,
   "metadata": {},
   "outputs": [],
   "source": []
  },
  {
   "cell_type": "code",
   "execution_count": 85,
   "metadata": {},
   "outputs": [],
   "source": [
    "import collections\n",
    "\n",
    "@tdl.core.create_init_docstring\n",
    "class GMM(tdl.core.layers.Layer):\n",
    "    n_dims = tdl.core.InputArgument.required(\n",
    "        'n_dims', doc='dimensions of the GMM model')\n",
    "    n_components = tdl.core.InputArgument.required(\n",
    "         'n_components', doc='number of mixture components')\n",
    "    \n",
    "    @tdl.core.SubmodelInit(lazzy=True)\n",
    "    def components(self, \n",
    "                   init_loc=1e-5, init_scale=1.0,\n",
    "                   trainable=True, tolerance=1e-5):\n",
    "        tdl.core.assert_initialized(\n",
    "            self, 'components', ['n_components', 'n_dims'])\n",
    "        components = [\n",
    "            tdl.core.SimpleNamespace(\n",
    "              loc=tf.Variable(\n",
    "                  tf.truncated_normal(shape=[self.n_dims], mean=init_loc), \n",
    "                  trainable=trainable),\n",
    "              scale=tdl.constrained.PositiveVariable(\n",
    "                  init_scale*tf.ones([self.n_dims]),\n",
    "                  tolerance=tolerance, \n",
    "                  trainable=trainable))\n",
    "            for k in range(self.n_components)]\n",
    "        return components\n",
    "    \n",
    "    @tdl.core.SubmodelInit(lazzy=True)\n",
    "    def logits(self, trainable=True, tolerance=1e-5):\n",
    "        tdl.core.assert_initialized(self, 'logits', ['n_components'])\n",
    "        return tf.Variable(tf.zeros(self.n_components),\n",
    "                           trainable=trainable)\n",
    "        \n",
    "    @tdl.core.SubmodelInit\n",
    "    def dist(self, mix=None):\n",
    "        tdl.core.assert_initialized(self, 'dist', ['components', 'logits'])\n",
    "        bimix_gauss = tfp.distributions.Mixture(\n",
    "            cat=tfp.distributions.Categorical(logits=self.logits),\n",
    "            components=[\n",
    "                tfp.distributions.MultivariateNormalDiag(\n",
    "                    loc=comp.loc, scale_diag=tf.convert_to_tensor(comp.scale))\n",
    "                for comp in self.components])\n",
    "        return bimix_gauss\n",
    "    \n",
    "    def log_prob(self, inputs):\n",
    "        return self.dist.log_prob(inputs)\n",
    "        \n",
    "    def call(self, inputs=None):\n",
    "        return self.dist.sample(inputs)\n",
    "    \n",
    "    "
   ]
  },
  {
   "cell_type": "code",
   "execution_count": 86,
   "metadata": {},
   "outputs": [],
   "source": [
    "#a = GMM(n_dims=1)\n",
    "model = GMM(\n",
    "    n_components=5, n_dims=2, \n",
    "    components={'init_loc':0.01, 'init_scale':0.1,\n",
    "                'tolerance':1e-5}).build()\n",
    "tdl.core.initialize_variables(model)"
   ]
  },
  {
   "cell_type": "code",
   "execution_count": 92,
   "metadata": {},
   "outputs": [
    {
     "data": {
      "text/plain": [
       "[<matplotlib.lines.Line2D at 0x7fd33688d4a8>]"
      ]
     },
     "execution_count": 92,
     "metadata": {},
     "output_type": "execute_result"
    },
    {
     "data": {
      "image/png": "[encoded data removed]",
      "text/plain": [
       "<Figure size 432x288 with 1 Axes>"
      ]
     },
     "metadata": {
      "needs_background": "light"
     },
     "output_type": "display_data"
    }
   ],
   "source": [
    "import matplotlib.pyplot as plt\n",
    "\n",
    "#x = model.dist.sample(100).eval()\n",
    "x = model(1000).eval()\n",
    "plt.plot(x[:, 0], x[:, 1], '+')"
   ]
  },
  {
   "cell_type": "code",
   "execution_count": null,
   "metadata": {},
   "outputs": [],
   "source": []
  },
  {
   "cell_type": "code",
   "execution_count": null,
   "metadata": {},
   "outputs": [],
   "source": []
  },
  {
   "cell_type": "code",
   "execution_count": null,
   "metadata": {},
   "outputs": [],
   "source": []
  },
  {
   "cell_type": "code",
   "execution_count": null,
   "metadata": {},
   "outputs": [],
   "source": []
  }
 ],
 "metadata": {
  "kernelspec": {
   "display_name": "Python 3",
   "language": "python",
   "name": "python3"
  },
  "language_info": {
   "codemirror_mode": {
    "name": "ipython",
    "version": 3
   },
   "file_extension": ".py",
   "mimetype": "text/x-python",
   "name": "python",
   "nbconvert_exporter": "python",
   "pygments_lexer": "ipython3",
   "version": "3.6.8"
  }
 },
 "nbformat": 4,
 "nbformat_minor": 4
}
