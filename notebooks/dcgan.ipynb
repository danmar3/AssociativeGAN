{
 "cells": [
  {
   "cell_type": "code",
   "execution_count": 1,
   "metadata": {},
   "outputs": [],
   "source": [
    "import acgan\n",
    "import twodlearn as tdl\n",
    "import tensorflow as tf\n",
    "import tensorflow_datasets as tfds\n",
    "from functools import reduce\n",
    "#tf.enable_eager_execution()\n",
    "\n",
    "BATCH_SIZE = 32\n",
    "session = tf.InteractiveSession()"
   ]
  },
  {
   "cell_type": "code",
   "execution_count": 2,
   "metadata": {},
   "outputs": [],
   "source": [
    "#tfds.list_builders()"
   ]
  },
  {
   "cell_type": "code",
   "execution_count": 3,
   "metadata": {},
   "outputs": [
    {
     "name": "stdout",
     "output_type": "stream",
     "text": [
      "WARNING:tensorflow:From /data/marinodl/research/2019/AssociativeGAN/env/lib/python3.6/site-packages/tensorflow/python/ops/control_flow_ops.py:423: colocate_with (from tensorflow.python.framework.ops) is deprecated and will be removed in a future version.\n",
      "Instructions for updating:\n",
      "Colocations handled automatically by placer.\n"
     ]
    },
    {
     "name": "stderr",
     "output_type": "stream",
     "text": [
      "WARNING: Logging before flag parsing goes to stderr.\n",
      "W0311 14:33:14.729703 139804803753792 deprecation.py:323] From /data/marinodl/research/2019/AssociativeGAN/env/lib/python3.6/site-packages/tensorflow/python/ops/control_flow_ops.py:423: colocate_with (from tensorflow.python.framework.ops) is deprecated and will be removed in a future version.\n",
      "Instructions for updating:\n",
      "Colocations handled automatically by placer.\n"
     ]
    }
   ],
   "source": [
    "dataset, info = tfds.load('mnist', with_info=True,\n",
    "                          split=tfds.Split.TRAIN)\n",
    "dataset = dataset.repeat()\\\n",
    "                 .map(lambda x: (tf.cast(x['image'], tf.float32)-127.5)/127.5)\\\n",
    "                 .batch(BATCH_SIZE).prefetch(tf.data.experimental.AUTOTUNE)\n",
    "input_shape = dataset.output_shapes.as_list()"
   ]
  },
  {
   "cell_type": "code",
   "execution_count": 4,
   "metadata": {},
   "outputs": [],
   "source": [
    "model = acgan.model.DCGAN(\n",
    "    embedding_size=100,\n",
    "    generator={'init_shape':(7, 7, 256),\n",
    "               'units': [128, 64, 1],\n",
    "               'kernels': 5,\n",
    "               'strides': [2, 2, 1]},\n",
    "    discriminator={'units':[64, 128],\n",
    "                   'kernels':5,\n",
    "                   'strides':2,\n",
    "                   'dropout':0.3}\n",
    ")\n",
    "model.noise_rate.init(rate=0.001)"
   ]
  },
  {
   "cell_type": "code",
   "execution_count": 5,
   "metadata": {},
   "outputs": [
    {
     "data": {
      "text/plain": [
       "[<twodlearn.feedforward.LinearLayer at 0x7f26187755c0>,\n",
       " <tensorflow.python.keras.layers.core.Reshape at 0x7f26187755f8>,\n",
       " <tensorflow.python.keras.layers.normalization.BatchNormalizationV1 at 0x7f2618775710>,\n",
       " <tensorflow.python.keras.layers.advanced_activations.LeakyReLU at 0x7f2618775748>,\n",
       " <tensorflow.python.keras.layers.convolutional.Conv2DTranspose at 0x7f2618775828>,\n",
       " <tensorflow.python.keras.layers.normalization.BatchNormalizationV1 at 0x7f2618775a90>,\n",
       " <tensorflow.python.keras.layers.advanced_activations.LeakyReLU at 0x7f2618775ac8>,\n",
       " <tensorflow.python.keras.layers.convolutional.Conv2DTranspose at 0x7f2618775c18>,\n",
       " <tensorflow.python.keras.layers.normalization.BatchNormalizationV1 at 0x7f2618775da0>,\n",
       " <tensorflow.python.keras.layers.advanced_activations.LeakyReLU at 0x7f2618775dd8>,\n",
       " <tensorflow.python.keras.layers.convolutional.Conv2DTranspose at 0x7f2618775ef0>,\n",
       " <tensorflow.python.keras.layers.core.Activation at 0x7f2618775fd0>]"
      ]
     },
     "execution_count": 5,
     "metadata": {},
     "output_type": "execute_result"
    }
   ],
   "source": [
    "model.generator.layers"
   ]
  },
  {
   "cell_type": "code",
   "execution_count": 6,
   "metadata": {},
   "outputs": [],
   "source": [
    "iter = dataset.make_one_shot_iterator()\n",
    "xreal = iter.get_next()"
   ]
  },
  {
   "cell_type": "code",
   "execution_count": 7,
   "metadata": {},
   "outputs": [
    {
     "name": "stdout",
     "output_type": "stream",
     "text": [
      "WARNING:tensorflow:From /data/marinodl/research/2019/AssociativeGAN/env/lib/python3.6/site-packages/tensorflow/python/keras/layers/core.py:143: calling dropout (from tensorflow.python.ops.nn_ops) with keep_prob is deprecated and will be removed in a future version.\n",
      "Instructions for updating:\n",
      "Please use `rate` instead of `keep_prob`. Rate should be set to `rate = 1 - keep_prob`.\n"
     ]
    },
    {
     "name": "stderr",
     "output_type": "stream",
     "text": [
      "W0311 14:33:17.163110 139804803753792 deprecation.py:506] From /data/marinodl/research/2019/AssociativeGAN/env/lib/python3.6/site-packages/tensorflow/python/keras/layers/core.py:143: calling dropout (from tensorflow.python.ops.nn_ops) with keep_prob is deprecated and will be removed in a future version.\n",
      "Instructions for updating:\n",
      "Please use `rate` instead of `keep_prob`. Rate should be set to `rate = 1 - keep_prob`.\n"
     ]
    },
    {
     "name": "stdout",
     "output_type": "stream",
     "text": [
      "WARNING:tensorflow:From /data/marinodl/research/2019/AssociativeGAN/env/lib/python3.6/site-packages/tensorflow/python/keras/utils/losses_utils.py:170: to_float (from tensorflow.python.ops.math_ops) is deprecated and will be removed in a future version.\n",
      "Instructions for updating:\n",
      "Use tf.cast instead.\n"
     ]
    },
    {
     "name": "stderr",
     "output_type": "stream",
     "text": [
      "W0311 14:33:17.222934 139804803753792 deprecation.py:323] From /data/marinodl/research/2019/AssociativeGAN/env/lib/python3.6/site-packages/tensorflow/python/keras/utils/losses_utils.py:170: to_float (from tensorflow.python.ops.math_ops) is deprecated and will be removed in a future version.\n",
      "Instructions for updating:\n",
      "Use tf.cast instead.\n"
     ]
    },
    {
     "name": "stdout",
     "output_type": "stream",
     "text": [
      "WARNING:tensorflow:From /data/marinodl/research/2019/AssociativeGAN/env/lib/python3.6/site-packages/tensorflow/python/ops/math_ops.py:3066: to_int32 (from tensorflow.python.ops.math_ops) is deprecated and will be removed in a future version.\n",
      "Instructions for updating:\n",
      "Use tf.cast instead.\n"
     ]
    },
    {
     "name": "stderr",
     "output_type": "stream",
     "text": [
      "W0311 14:33:17.253370 139804803753792 deprecation.py:323] From /data/marinodl/research/2019/AssociativeGAN/env/lib/python3.6/site-packages/tensorflow/python/ops/math_ops.py:3066: to_int32 (from tensorflow.python.ops.math_ops) is deprecated and will be removed in a future version.\n",
      "Instructions for updating:\n",
      "Use tf.cast instead.\n"
     ]
    }
   ],
   "source": [
    "gen = model.generator_trainer(BATCH_SIZE)\n",
    "#dis = model.discriminator_trainer(BATCH_SIZE, input_shape[1:])\n",
    "dis = model.discriminator_trainer(BATCH_SIZE, xreal=xreal)"
   ]
  },
  {
   "cell_type": "code",
   "execution_count": null,
   "metadata": {},
   "outputs": [],
   "source": []
  },
  {
   "cell_type": "code",
   "execution_count": 8,
   "metadata": {},
   "outputs": [],
   "source": [
    "tdl.core.variables_initializer(gen.variables).run()\n",
    "tdl.core.variables_initializer(dis.variables).run()\n",
    "#tf.global_variables_initializer().run()"
   ]
  },
  {
   "cell_type": "code",
   "execution_count": 9,
   "metadata": {},
   "outputs": [
    {
     "name": "stdout",
     "output_type": "stream",
     "text": [
      "step 0 | dis 1.3530030250549316 | gen 0.6925373077392578\n"
     ]
    }
   ],
   "source": [
    "print('step {} | dis {} | gen {}'.format(dis.train_step.eval(), dis.loss.eval(), gen.loss.eval()) )"
   ]
  },
  {
   "cell_type": "code",
   "execution_count": 371,
   "metadata": {},
   "outputs": [
    {
     "name": "stdout",
     "output_type": "stream",
     "text": [
      "step 23801 | dis 0.7448983192443848 | gen 1.561702013015747\n",
      "step 23901 | dis 1.0847163200378418 | gen 1.002685308456421\n",
      "step 24001 | dis 0.8113089203834534 | gen 1.6651086807250977\n",
      "step 24101 | dis 1.2355788946151733 | gen 1.0966603755950928\n",
      "step 24201 | dis 1.0229907035827637 | gen 1.1900922060012817\n",
      "step 24301 | dis 1.1913261413574219 | gen 0.8642339706420898\n",
      "step 24401 | dis 1.00294828414917 | gen 1.4385104179382324\n",
      "step 24501 | dis 1.0340139865875244 | gen 1.1946566104888916\n",
      "step 24601 | dis 0.9734135270118713 | gen 1.2900538444519043\n",
      "step 24701 | dis 1.1783546209335327 | gen 1.2048557996749878\n"
     ]
    }
   ],
   "source": [
    "for i in range(1000):\n",
    "    for j in range(1):\n",
    "        session.run(dis.step)\n",
    "    for j in range(1):\n",
    "        session.run(gen.step)\n",
    "    if i%100 == 0:\n",
    "        print('step {} | dis {} | gen {}'.format(dis.train_step.eval(), dis.loss.eval(), gen.loss.eval()) )\n"
   ]
  },
  {
   "cell_type": "code",
   "execution_count": 389,
   "metadata": {},
   "outputs": [
    {
     "data": {
      "image/png": "[encoded data removed]",
      "text/plain": [
       "<Figure size 432x288 with 16 Axes>"
      ]
     },
     "metadata": {
      "needs_background": "light"
     },
     "output_type": "display_data"
    }
   ],
   "source": [
    "import matplotlib.pyplot as plt\n",
    "xsim = dis.xsim.eval()\n",
    "for i in range(16):\n",
    "    plt.subplot(4,4, i+1)\n",
    "    plt.imshow(xsim[i][:,:,0])\n",
    "    plt.axis('off')"
   ]
  },
  {
   "cell_type": "code",
   "execution_count": null,
   "metadata": {},
   "outputs": [],
   "source": []
  },
  {
   "cell_type": "code",
   "execution_count": null,
   "metadata": {},
   "outputs": [],
   "source": []
  },
  {
   "cell_type": "code",
   "execution_count": null,
   "metadata": {},
   "outputs": [],
   "source": []
  },
  {
   "cell_type": "code",
   "execution_count": null,
   "metadata": {},
   "outputs": [],
   "source": []
  },
  {
   "cell_type": "code",
   "execution_count": null,
   "metadata": {},
   "outputs": [],
   "source": []
  },
  {
   "cell_type": "code",
   "execution_count": null,
   "metadata": {},
   "outputs": [],
   "source": []
  },
  {
   "cell_type": "code",
   "execution_count": null,
   "metadata": {},
   "outputs": [],
   "source": []
  }
 ],
 "metadata": {
  "kernelspec": {
   "display_name": "Python 3",
   "language": "python",
   "name": "python3"
  },
  "language_info": {
   "codemirror_mode": {
    "name": "ipython",
    "version": 3
   },
   "file_extension": ".py",
   "mimetype": "text/x-python",
   "name": "python",
   "nbconvert_exporter": "python",
   "pygments_lexer": "ipython3",
   "version": "3.6.7"
  }
 },
 "nbformat": 4,
 "nbformat_minor": 2
}
