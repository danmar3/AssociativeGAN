{
 "cells": [
  {
   "cell_type": "code",
   "execution_count": 1,
   "metadata": {},
   "outputs": [],
   "source": [
    "import acgan\n",
    "import twodlearn as tdl\n",
    "import tensorflow as tf\n",
    "import tensorflow_datasets as tfds\n",
    "from functools import reduce\n",
    "\n",
    "BATCH_SIZE = 32\n",
    "session = tf.InteractiveSession()"
   ]
  },
  {
   "cell_type": "code",
   "execution_count": 2,
   "metadata": {},
   "outputs": [],
   "source": [
    "#tfds.list_builders()"
   ]
  },
  {
   "cell_type": "code",
   "execution_count": 3,
   "metadata": {},
   "outputs": [
    {
     "name": "stdout",
     "output_type": "stream",
     "text": [
      "WARNING:tensorflow:From /data/marinodl/research/2019/AssociativeGAN/env/lib/python3.6/site-packages/tensorflow/python/ops/control_flow_ops.py:423: colocate_with (from tensorflow.python.framework.ops) is deprecated and will be removed in a future version.\n",
      "Instructions for updating:\n",
      "Colocations handled automatically by placer.\n"
     ]
    },
    {
     "name": "stderr",
     "output_type": "stream",
     "text": [
      "WARNING: Logging before flag parsing goes to stderr.\n",
      "W0311 15:23:29.610041 139626972305216 deprecation.py:323] From /data/marinodl/research/2019/AssociativeGAN/env/lib/python3.6/site-packages/tensorflow/python/ops/control_flow_ops.py:423: colocate_with (from tensorflow.python.framework.ops) is deprecated and will be removed in a future version.\n",
      "Instructions for updating:\n",
      "Colocations handled automatically by placer.\n"
     ]
    }
   ],
   "source": [
    "dataset, info = tfds.load('mnist', with_info=True,\n",
    "                          split=tfds.Split.TRAIN)\n",
    "dataset = dataset.repeat()\\\n",
    "                 .map(lambda x: (tf.cast(x['image'], tf.float32)-127.5)/127.5)\\\n",
    "                 .batch(BATCH_SIZE).prefetch(tf.data.experimental.AUTOTUNE)\n",
    "input_shape = dataset.output_shapes.as_list()"
   ]
  },
  {
   "cell_type": "code",
   "execution_count": null,
   "metadata": {},
   "outputs": [],
   "source": [
    "acgan.model.DCGAN()"
   ]
  },
  {
   "cell_type": "code",
   "execution_count": 4,
   "metadata": {},
   "outputs": [],
   "source": [
    "model = acgan.model.DCGAN(\n",
    "    embedding_size=100,\n",
    "    generator={'init_shape':(7, 7, 256),\n",
    "               'units': [128, 64, 1],\n",
    "               'kernels': 5,\n",
    "               'strides': [2, 2, 1]},\n",
    "    discriminator={'units':[64, 128],\n",
    "                   'kernels':5,\n",
    "                   'strides':2,\n",
    "                   'dropout':0.3}\n",
    ")\n",
    "model.noise_rate.init(rate=0.001)"
   ]
  },
  {
   "cell_type": "code",
   "execution_count": 7,
   "metadata": {
    "collapsed": true
   },
   "outputs": [
    {
     "name": "stdout",
     "output_type": "stream",
     "text": [
      "WARNING:tensorflow:From /data/marinodl/research/2019/AssociativeGAN/env/lib/python3.6/site-packages/tensorflow/python/keras/layers/core.py:143: calling dropout (from tensorflow.python.ops.nn_ops) with keep_prob is deprecated and will be removed in a future version.\n",
      "Instructions for updating:\n",
      "Please use `rate` instead of `keep_prob`. Rate should be set to `rate = 1 - keep_prob`.\n"
     ]
    },
    {
     "name": "stderr",
     "output_type": "stream",
     "text": [
      "W0311 15:23:29.990594 139626972305216 deprecation.py:506] From /data/marinodl/research/2019/AssociativeGAN/env/lib/python3.6/site-packages/tensorflow/python/keras/layers/core.py:143: calling dropout (from tensorflow.python.ops.nn_ops) with keep_prob is deprecated and will be removed in a future version.\n",
      "Instructions for updating:\n",
      "Please use `rate` instead of `keep_prob`. Rate should be set to `rate = 1 - keep_prob`.\n"
     ]
    },
    {
     "name": "stdout",
     "output_type": "stream",
     "text": [
      "WARNING:tensorflow:From /data/marinodl/research/2019/AssociativeGAN/env/lib/python3.6/site-packages/tensorflow/python/keras/utils/losses_utils.py:170: to_float (from tensorflow.python.ops.math_ops) is deprecated and will be removed in a future version.\n",
      "Instructions for updating:\n",
      "Use tf.cast instead.\n"
     ]
    },
    {
     "name": "stderr",
     "output_type": "stream",
     "text": [
      "W0311 15:23:30.054056 139626972305216 deprecation.py:323] From /data/marinodl/research/2019/AssociativeGAN/env/lib/python3.6/site-packages/tensorflow/python/keras/utils/losses_utils.py:170: to_float (from tensorflow.python.ops.math_ops) is deprecated and will be removed in a future version.\n",
      "Instructions for updating:\n",
      "Use tf.cast instead.\n"
     ]
    },
    {
     "name": "stdout",
     "output_type": "stream",
     "text": [
      "WARNING:tensorflow:From /data/marinodl/research/2019/AssociativeGAN/env/lib/python3.6/site-packages/tensorflow/python/ops/math_ops.py:3066: to_int32 (from tensorflow.python.ops.math_ops) is deprecated and will be removed in a future version.\n",
      "Instructions for updating:\n",
      "Use tf.cast instead.\n"
     ]
    },
    {
     "name": "stderr",
     "output_type": "stream",
     "text": [
      "W0311 15:23:30.083756 139626972305216 deprecation.py:323] From /data/marinodl/research/2019/AssociativeGAN/env/lib/python3.6/site-packages/tensorflow/python/ops/math_ops.py:3066: to_int32 (from tensorflow.python.ops.math_ops) is deprecated and will be removed in a future version.\n",
      "Instructions for updating:\n",
      "Use tf.cast instead.\n"
     ]
    }
   ],
   "source": [
    "iter = dataset.make_one_shot_iterator()\n",
    "xreal = iter.get_next()\n",
    "\n",
    "gen = model.generator_trainer(BATCH_SIZE)\n",
    "#dis = model.discriminator_trainer(BATCH_SIZE, input_shape[1:])\n",
    "dis = model.discriminator_trainer(BATCH_SIZE, xreal=xreal)"
   ]
  },
  {
   "cell_type": "code",
   "execution_count": null,
   "metadata": {},
   "outputs": [],
   "source": []
  },
  {
   "cell_type": "code",
   "execution_count": 8,
   "metadata": {},
   "outputs": [],
   "source": [
    "tdl.core.variables_initializer(gen.variables).run()\n",
    "tdl.core.variables_initializer(dis.variables).run()\n",
    "#tf.global_variables_initializer().run()"
   ]
  },
  {
   "cell_type": "code",
   "execution_count": 9,
   "metadata": {},
   "outputs": [
    {
     "name": "stdout",
     "output_type": "stream",
     "text": [
      "step 0 | dis 1.3784196376800537 | gen 0.6928197741508484\n"
     ]
    }
   ],
   "source": [
    "print('step {} | dis {} | gen {}'.format(dis.train_step.eval(), dis.loss.eval(), gen.loss.eval()) )"
   ]
  },
  {
   "cell_type": "code",
   "execution_count": 14,
   "metadata": {
    "ExecuteTime": {
     "end_time": "2019-03-16T19:23:06.748982Z",
     "start_time": "2019-03-16T19:12:27.777970Z"
    }
   },
   "outputs": [
    {
     "name": "stdout",
     "output_type": "stream",
     "text": [
      "step 1001 | dis 0.35748976469039917 | gen 2.3518385887145996\n",
      "step 1101 | dis 0.2511499524116516 | gen 2.0296764373779297\n",
      "step 1201 | dis 0.9943511486053467 | gen 1.5106143951416016\n",
      "step 1301 | dis 0.6960318088531494 | gen 1.850716233253479\n",
      "step 1401 | dis 0.7821865081787109 | gen 1.5873268842697144\n",
      "step 1501 | dis 0.9440430402755737 | gen 1.374129295349121\n",
      "step 1601 | dis 1.2286897897720337 | gen 0.9846896529197693\n",
      "step 1701 | dis 0.7834900617599487 | gen 1.2050834894180298\n",
      "step 1801 | dis 1.6464507579803467 | gen 0.6832981705665588\n",
      "step 1901 | dis 1.154054045677185 | gen 1.1415108442306519\n"
     ]
    }
   ],
   "source": [
    "for i in range(1000):\n",
    "    for j in range(1):\n",
    "        session.run(dis.step)\n",
    "    for j in range(1):\n",
    "        session.run(gen.step)\n",
    "    if i%100 == 0:\n",
    "        print('step {} | dis {} | gen {}'.format(dis.train_step.eval(), dis.loss.eval(), gen.loss.eval()) )\n"
   ]
  },
  {
   "cell_type": "code",
   "execution_count": 15,
   "metadata": {
    "ExecuteTime": {
     "end_time": "2019-03-16T19:23:30.072156Z",
     "start_time": "2019-03-16T19:23:28.557464Z"
    }
   },
   "outputs": [
    {
     "data": {
      "image/png": "[encoded data removed]",
      "text/plain": [
       "<Figure size 432x288 with 28 Axes>"
      ]
     },
     "metadata": {
      "needs_background": "light"
     },
     "output_type": "display_data"
    }
   ],
   "source": [
    "import matplotlib.pyplot as plt\n",
    "xsim = dis.xsim.eval()\n",
    "for i in range(4*7):\n",
    "    plt.subplot(4,7, i+1)\n",
    "    plt.imshow(xsim[i][:,:,0])\n",
    "    plt.axis('off')"
   ]
  },
  {
   "cell_type": "code",
   "execution_count": null,
   "metadata": {},
   "outputs": [],
   "source": []
  },
  {
   "cell_type": "code",
   "execution_count": null,
   "metadata": {},
   "outputs": [],
   "source": []
  },
  {
   "cell_type": "code",
   "execution_count": null,
   "metadata": {},
   "outputs": [],
   "source": []
  },
  {
   "cell_type": "code",
   "execution_count": null,
   "metadata": {},
   "outputs": [],
   "source": []
  }
 ],
 "metadata": {
  "kernelspec": {
   "display_name": "Python 3",
   "language": "python",
   "name": "python3"
  },
  "language_info": {
   "codemirror_mode": {
    "name": "ipython",
    "version": 3
   },
   "file_extension": ".py",
   "mimetype": "text/x-python",
   "name": "python",
   "nbconvert_exporter": "python",
   "pygments_lexer": "ipython3",
   "version": "3.7.2"
  },
  "nav_menu": {},
  "toc": {
   "navigate_menu": true,
   "number_sections": true,
   "sideBar": true,
   "threshold": 6.0,
   "toc_cell": false,
   "toc_section_display": "block",
   "toc_window_display": false
  }
 },
 "nbformat": 4,
 "nbformat_minor": 2
}
