{
 "cells": [
  {
   "cell_type": "code",
   "execution_count": 1,
   "metadata": {},
   "outputs": [
    {
     "name": "stdout",
     "output_type": "stream",
     "text": [
      "WARNING:tensorflow:From /data/marinodl/research/2020/AssociativeGAN/env/lib/python3.6/site-packages/tensorflow_gan/python/estimator/tpu_gan_estimator.py:42: The name tf.estimator.tpu.TPUEstimator is deprecated. Please use tf.compat.v1.estimator.tpu.TPUEstimator instead.\n",
      "\n",
      "Automatic pdb calling has been turned ON\n"
     ]
    }
   ],
   "source": [
    "import acgan\n",
    "import twodlearn as tdl\n",
    "import twodlearn.debug\n",
    "import tensorflow as tf\n",
    "from types import SimpleNamespace\n",
    "import acgan.model.encoder\n",
    "from acgan.model.encoder import LinearEstimator\n",
    "sess = tf.InteractiveSession()\n",
    "%pdb"
   ]
  },
  {
   "cell_type": "markdown",
   "metadata": {},
   "source": [
    "#dataset_valid = acgan.data.load_fashion_mnist_3c(\n",
    "dataset_valid = acgan.data.load_cifar10(\n",
    "    32, split=tfds.Split.TEST, with_label=True)\n",
    "dataset_valid = acgan.data.to_one_hot(dataset_valid, 10)\n",
    "valid_data = tf.compat.v1.data.make_one_shot_iterator(\n",
    "    dataset_valid).get_next()\n",
    "\n",
    "#dataset = acgan.data.load_mnist32_3c(32)\n",
    "#dataset = acgan.data.load_fashion_mnist_3c(32, with_label=True)\n",
    "dataset = acgan.data.load_cifar10(32, with_label=True)\n",
    "#dataset = acgan.data.load_stl10(32, with_label=True)\n",
    "#dataset = acgan.data.load_celeb_a(32, with_label=True)\n",
    "dataset = acgan.data.to_one_hot(dataset, 10)"
   ]
  },
  {
   "cell_type": "code",
   "execution_count": 2,
   "metadata": {},
   "outputs": [
    {
     "name": "stdout",
     "output_type": "stream",
     "text": [
      "loading split train\n",
      "using augmented dataset\n",
      "using color normalize\n",
      "loading split test\n",
      "using color normalize\n"
     ]
    }
   ],
   "source": [
    "import tensorflow_datasets as tfds\n",
    "def load_splits(name, batch_size=128, split=None, **kargs):\n",
    "    def load_split(split):\n",
    "        dataset = acgan.data.load(\n",
    "            name, batch_size, split=split, \n",
    "            with_label=True,\n",
    "            **kargs)\n",
    "        #dataset = acgan.data.to_one_hot(dataset, 10)\n",
    "        return tf.compat.v1.data.make_one_shot_iterator(\n",
    "            dataset).get_next()\n",
    "    if split is None:\n",
    "        return SimpleNamespace(\n",
    "            train=load_split(tfds.Split.TRAIN),\n",
    "            valid=load_split(tfds.Split.TEST))\n",
    "    else:\n",
    "        return load_split(split)\n",
    "    \n",
    "train_data = load_splits('cifar10', split=tfds.Split.TRAIN,\n",
    "                         augment_data=True,\n",
    "                         crop_method='pad'\n",
    "                         )\n",
    "valid_data = load_splits('cifar10', split=tfds.Split.TEST)"
   ]
  },
  {
   "cell_type": "code",
   "execution_count": 3,
   "metadata": {},
   "outputs": [],
   "source": [
    "from acgan.model import res_conv2d"
   ]
  },
  {
   "cell_type": "code",
   "execution_count": 4,
   "metadata": {},
   "outputs": [
    {
     "name": "stdout",
     "output_type": "stream",
     "text": [
      "WARNING:tensorflow:From /data/marinodl/research/2020/AssociativeGAN/env/lib/python3.6/site-packages/tensorflow_core/python/ops/resource_variable_ops.py:1630: calling BaseResourceVariable.__init__ (from tensorflow.python.ops.resource_variable_ops) with constraint is deprecated and will be removed in a future version.\n",
      "Instructions for updating:\n",
      "If using Keras pass *_constraint arguments to layers.\n"
     ]
    },
    {
     "name": "stderr",
     "output_type": "stream",
     "text": [
      "WARNING:tensorflow:From /data/marinodl/research/2020/AssociativeGAN/env/lib/python3.6/site-packages/tensorflow_core/python/ops/resource_variable_ops.py:1630: calling BaseResourceVariable.__init__ (from tensorflow.python.ops.resource_variable_ops) with constraint is deprecated and will be removed in a future version.\n",
      "Instructions for updating:\n",
      "If using Keras pass *_constraint arguments to layers.\n"
     ]
    },
    {
     "name": "stdout",
     "output_type": "stream",
     "text": [
      "WARNING:tensorflow:From /data/marinodl/research/2020/AssociativeGAN/env/lib/python3.6/site-packages/tensorflow_core/python/ops/array_ops.py:1475: where (from tensorflow.python.ops.array_ops) is deprecated and will be removed in a future version.\n",
      "Instructions for updating:\n",
      "Use tf.where in 2.0, which has the same broadcast rule as np.where\n"
     ]
    },
    {
     "name": "stderr",
     "output_type": "stream",
     "text": [
      "WARNING:tensorflow:From /data/marinodl/research/2020/AssociativeGAN/env/lib/python3.6/site-packages/tensorflow_core/python/ops/array_ops.py:1475: where (from tensorflow.python.ops.array_ops) is deprecated and will be removed in a future version.\n",
      "Instructions for updating:\n",
      "Use tf.where in 2.0, which has the same broadcast rule as np.where\n"
     ]
    }
   ],
   "source": [
    "\"\"\"\n",
    "estimator = LinearEstimator(\n",
    "    model={'n_classes': 10, \n",
    "           'encoder': {\n",
    "               'embedding_size': 512,\n",
    "               'layers': {\n",
    "                   'units': [64, 128, 256, 512],\n",
    "                   'kernels': 3,\n",
    "                   'strides': 1,\n",
    "                   'pooling': 2,\n",
    "                   'flatten': 'global_maxpool'}}},\n",
    "    loss={'value':'crossentropy', 'from_logits': True},\n",
    "    metrics={'metrics': ['accuracy'], 'from_logits': True},\n",
    "    optimizer={'learning_rate': 0.02}\n",
    ")\n",
    "\"\"\"\n",
    "from acgan.model import res_conv2d\n",
    "\n",
    "estimator = LinearEstimator(\n",
    "    model={'n_classes': 10, \n",
    "           'encoder': res_conv2d.ResNet(\n",
    "               leaky_rate=0.0,\n",
    "               input_layer={'units': 16},\n",
    "               hidden={\n",
    "                   'units': [64, 128, 256],\n",
    "                   #'units': [ui for ui in [64, 128, 256, 512]],\n",
    "                   'kernels': 3,\n",
    "                   #'pooling': [None, 2, 2],\n",
    "                   'strides': [None, 2, 2],\n",
    "                   #'strides': [None, 2, 2, 2],\n",
    "                   'stages': [9, 9, 9]\n",
    "                   #'stages': [3, 4, 6, 3], #[18, 18, 18], # [3, 4, 6, 3]\n",
    "                   'batchnorm': 'batchnorm',\n",
    "                   'layer_type': 'bottleneck',\n",
    "                   'pre_activation': True,\n",
    "                   'non_local': [False, False, False, False],\n",
    "                   'layers': {'projection': {'on_increment': 'linear', 'on_decrement': 'linear'}}\n",
    "               },\n",
    "               flatten={'method': 'global_avgpool', \n",
    "                        'batchnorm': 'batchnorm'},\n",
    "               dense={'units': None})\n",
    "          },\n",
    "    loss={'value':'crossentropy', 'from_logits': True},\n",
    "    metrics={'metrics': ['accuracy'], 'from_logits': True},\n",
    "    regularizer={'scale': 0.0001}\n",
    "    #optimizer={'learning_rate': 0.02}\n",
    ")\n",
    "estimator.compile(train_data['image'], train_data['label'])\n",
    "estimator.trainable_variables = tdl.core.get_trainable(estimator.model)\n",
    "optim = estimator.get_optimizer(\n",
    "    train_data['image'], train_data['label'],\n",
    "    progress={'reset_multiplier': 3.0},\n",
    "    optimizer=lambda learning_rate: tf.compat.v1.train.MomentumOptimizer(learning_rate, momentum=0.9)\n",
    ")"
   ]
  },
  {
   "cell_type": "code",
   "execution_count": 5,
   "metadata": {},
   "outputs": [],
   "source": [
    "#estimator.model.encoder.hidden.layers[0].layers[0].residual.conv.layers[2]\n",
    "         #.layers[0].residual.layers[0] #.conv.layers #pooling #.residual.layers[1].conv.layers\n",
    "#.layers[0].residual.conv.layers"
   ]
  },
  {
   "cell_type": "code",
   "execution_count": 15,
   "metadata": {},
   "outputs": [
    {
     "name": "stderr",
     "output_type": "stream",
     "text": [
      "step 269990 | acc 0.9900| loss 0.1575: : 50000it [1:52:24,  7.41it/s]                         \n"
     ]
    }
   ],
   "source": [
    "#optim.run(n_steps=10000, learning_rate=0.01)\n",
    "#optim.run(n_steps=90000, learning_rate=0.001)\n",
    "optim.run(n_steps=50000, learning_rate=0.0005)#ConcatConv1x1"
   ]
  },
  {
   "cell_type": "code",
   "execution_count": 16,
   "metadata": {},
   "outputs": [
    {
     "data": {
      "text/plain": [
       "[<matplotlib.lines.Line2D at 0x7f06e1d6b128>]"
      ]
     },
     "execution_count": 16,
     "metadata": {},
     "output_type": "execute_result"
    },
    {
     "data": {
      "image/png": "[encoded data removed]",
      "text/plain": [
       "<Figure size 432x288 with 1 Axes>"
      ]
     },
     "metadata": {
      "needs_background": "light"
     },
     "output_type": "display_data"
    }
   ],
   "source": [
    "import matplotlib.pyplot as plt\n",
    "# plt.plot(optim.metrics['loss'].as_numpy())\n",
    "plt.plot(optim.metrics['acc'].as_numpy())"
   ]
  },
  {
   "cell_type": "code",
   "execution_count": 17,
   "metadata": {},
   "outputs": [
    {
     "data": {
      "text/plain": [
       "0.874734375"
      ]
     },
     "execution_count": 17,
     "metadata": {},
     "output_type": "execute_result"
    }
   ],
   "source": [
    "acc = list()\n",
    "for i in range(500):\n",
    "    valid = sess.run(valid_data)\n",
    "    results = estimator.evaluate(\n",
    "        inputs=valid['image'], labels=valid['label'])\n",
    "    acc.append(results['metrics']['acc'])\n",
    "sum(acc)/len(acc)"
   ]
  },
  {
   "cell_type": "code",
   "execution_count": 65,
   "metadata": {},
   "outputs": [
    {
     "data": {
      "text/plain": [
       "[<tf.Variable 'LinearEstimator/train_ops/LinearEstimator/model/LinearClassifier/ResNet/ResNet/hidden/StackedLayers/ResNet/hidden/ResBottleneck_1/ResNet/hidden/ResBottleneck_1/layers/ResBlockPreAct_1/ResNet/hidden/ResBottleneck_1/layers/ResBlockPreAct_1/residual/Conv2DBlock/ResNet/hidden/ResBottleneck_1/layers/ResBlockPreAct_1/residual/Conv2DBlock/conv/StackedLayers/batch_normalization_21/gamma:0' shape=(32,) dtype=float32>,\n",
       " <tf.Variable 'LinearEstimator/train_ops/LinearEstimator/model/LinearClassifier/ResNet/ResNet/hidden/StackedLayers/ResNet/hidden/ResBottleneck_1/ResNet/hidden/ResBottleneck_1/layers/ResBlockPreAct_1/ResNet/hidden/ResBottleneck_1/layers/ResBlockPreAct_1/residual/Conv2DBlock/ResNet/hidden/ResBottleneck_1/layers/ResBlockPreAct_1/residual/Conv2DBlock/conv/StackedLayers/batch_normalization_21/moving_variance:0' shape=(32,) dtype=float32>,\n",
       " <tf.Variable 'LinearEstimator/train_ops/LinearEstimator/model/LinearClassifier/ResNet/ResNet/hidden/StackedLayers/ResNet/hidden/ResBottleneck_1/ResNet/hidden/ResBottleneck_1/layers/ResBlockPreAct_1/ResNet/hidden/ResBottleneck_1/layers/ResBlockPreAct_1/residual/Conv2DBlock/ResNet/hidden/ResBottleneck_1/layers/ResBlockPreAct_1/residual/Conv2DBlock/conv/StackedLayers/batch_normalization_21/moving_mean:0' shape=(32,) dtype=float32>,\n",
       " <tf.Variable 'LinearEstimator/train_ops/LinearEstimator/model/LinearClassifier/ResNet/ResNet/hidden/StackedLayers/ResNet/hidden/ResBottleneck_1/ResNet/hidden/ResBottleneck_1/layers/ResBlockPreAct_1/ResNet/hidden/ResBottleneck_1/layers/ResBlockPreAct_1/residual/Conv2DBlock/ResNet/hidden/ResBottleneck_1/layers/ResBlockPreAct_1/residual/Conv2DBlock/conv/StackedLayers/batch_normalization_21/beta:0' shape=(32,) dtype=float32>]"
      ]
     },
     "execution_count": 65,
     "metadata": {},
     "output_type": "execute_result"
    }
   ],
   "source": [
    "# test\n",
    "estimator.model.encoder.hidden.layers[1].layers[1].residual.conv.layers\n",
    "#estimator.model.encoder.hidden.layers[1].layers[1].residual.conv.layers[8].kernel\n",
    "tdl.core.get_variables(\n",
    "estimator.model.encoder.hidden.layers[1].layers[1].residual.conv.layers[6])\n",
    "#estimator.model.encoder.hidden.layers[1].layers[0].layers[0].projection\n",
    "#estimator.model.encoder.hidden.layers[1].layers[1].fx.kernel.eval()  #attention_weigth.eval()"
   ]
  },
  {
   "cell_type": "code",
   "execution_count": null,
   "metadata": {},
   "outputs": [],
   "source": [
    "#0.901140625"
   ]
  },
  {
   "cell_type": "code",
   "execution_count": 9,
   "metadata": {},
   "outputs": [],
   "source": [
    "layer_types = (\n",
    "    tf.keras.layers.Conv2D, tf.keras.layers.Conv2DTranspose,\n",
    "    tf.keras.layers.Dense,\n",
    "    tdl.convnet.Conv2DLayer, tdl.convnet.Conv1x1Proj,\n",
    "    tdl.convnet.Conv2DTranspose, tdl.dense.AffineLayer)\n",
    "\n",
    "layers = tdl.core.find_instances(estimator.model, layer_types)"
   ]
  },
  {
   "cell_type": "code",
   "execution_count": 10,
   "metadata": {},
   "outputs": [
    {
     "data": {
      "text/plain": [
       "83"
      ]
     },
     "execution_count": 10,
     "metadata": {},
     "output_type": "execute_result"
    }
   ],
   "source": [
    "len(layers)\n",
    "#layers"
   ]
  },
  {
   "cell_type": "code",
   "execution_count": null,
   "metadata": {},
   "outputs": [],
   "source": []
  },
  {
   "cell_type": "code",
   "execution_count": 24,
   "metadata": {},
   "outputs": [
    {
     "data": {
      "text/plain": [
       "array([1, 6, 1, 2, 2, 3, 3, 0, 4, 8, 1, 6, 9, 3, 1, 6, 7, 7, 6, 7, 9, 7,\n",
       "       7, 7, 6, 8, 8, 4, 6, 1, 8, 1, 4, 6, 4, 5, 2, 4, 2, 8, 6, 0, 4, 8,\n",
       "       8, 8, 9, 6, 2, 2, 8, 5, 6, 1, 9, 5, 8, 1, 1, 3, 8, 9, 5, 7])"
      ]
     },
     "execution_count": 24,
     "metadata": {},
     "output_type": "execute_result"
    }
   ],
   "source": [
    "import numpy as np \n",
    "np.argmax(results['pred'], -1)"
   ]
  },
  {
   "cell_type": "code",
   "execution_count": 14,
   "metadata": {},
   "outputs": [
    {
     "data": {
      "text/plain": [
       "array([0, 5, 6, 1, 5, 7, 2, 6, 5, 0, 5, 0, 5, 2, 9, 2, 4, 7, 4, 8, 6, 2,\n",
       "       0, 9, 1, 4, 3, 5, 0, 7, 8, 0, 3, 0, 1, 5, 9, 9, 2, 5, 6, 5, 2, 9,\n",
       "       4, 7, 7, 1, 3, 1, 6, 0, 0, 5, 5, 5, 3, 7, 5, 9, 3, 8, 5, 5, 4, 3,\n",
       "       2, 5, 0, 5, 3, 7, 4, 6, 0, 9, 6, 2, 0, 5, 2, 3, 1, 2, 6, 1, 5, 0,\n",
       "       6, 3, 8, 7, 5, 3, 9, 9, 0, 9, 1, 8, 1, 0, 3, 4, 0, 5, 9, 9, 9, 9,\n",
       "       2, 6, 1, 9, 9, 9, 0, 5, 9, 0, 8, 9, 5, 0, 9, 9, 4, 3])"
      ]
     },
     "execution_count": 14,
     "metadata": {},
     "output_type": "execute_result"
    }
   ],
   "source": [
    "np.argmax(valid['label'], -1)"
   ]
  },
  {
   "cell_type": "markdown",
   "metadata": {},
   "source": [
    "# check output dimensions"
   ]
  },
  {
   "cell_type": "code",
   "execution_count": 5,
   "metadata": {},
   "outputs": [
    {
     "data": {
      "text/plain": [
       "[2, None, None, None, None]"
      ]
     },
     "execution_count": 5,
     "metadata": {},
     "output_type": "execute_result"
    }
   ],
   "source": [
    "estimator.model.encoder.hidden.layers[1].strides #.layers[0]"
   ]
  },
  {
   "cell_type": "code",
   "execution_count": 26,
   "metadata": {},
   "outputs": [
    {
     "data": {
      "text/plain": [
       "TensorShape([Dimension(None), Dimension(8), Dimension(8), Dimension(64)])"
      ]
     },
     "execution_count": 26,
     "metadata": {},
     "output_type": "execute_result"
    }
   ],
   "source": [
    "output_shape = estimator.model.encoder.input_layer.compute_output_shape(train_data['image'].shape)\n",
    "output_shape = estimator.model.encoder.hidden.compute_output_shape(output_shape)\n",
    "output_shape"
   ]
  },
  {
   "cell_type": "markdown",
   "metadata": {},
   "source": [
    "# From GAN"
   ]
  },
  {
   "cell_type": "code",
   "execution_count": null,
   "metadata": {},
   "outputs": [],
   "source": [
    "import acgan\n",
    "from acgan.data.remote import RemoteShare\n",
    "from acgan.main import ExperimentGMM, ExperimentWACGAN\n",
    "\n",
    "import twodlearn as tdl\n",
    "import twodlearn.debug\n",
    "import tensorflow as tf\n",
    "from types import SimpleNamespace\n",
    "import acgan.model.encoder\n",
    "from acgan.model.encoder import LinearEstimator\n",
    "sess = tf.InteractiveSession()"
   ]
  },
  {
   "cell_type": "code",
   "execution_count": 2,
   "metadata": {},
   "outputs": [],
   "source": [
    "remote = RemoteShare(model='wacgan')\n",
    "session_path = remote.download('session_20200604_0816_cifar10')"
   ]
  },
  {
   "cell_type": "code",
   "execution_count": 3,
   "metadata": {},
   "outputs": [
    {
     "name": "stdout",
     "output_type": "stream",
     "text": [
      "loading split train\n",
      "WARNING:tensorflow:From /data/marinodl/research/2019/AssociativeGAN/acgan/model/msg_gan.py:108: The name tf.keras.initializers.RandomNormal is deprecated. Please use tf.compat.v1.keras.initializers.RandomNormal instead.\n",
      "\n"
     ]
    },
    {
     "name": "stderr",
     "output_type": "stream",
     "text": [
      "WARNING:tensorflow:From /data/marinodl/research/2019/AssociativeGAN/acgan/model/msg_gan.py:108: The name tf.keras.initializers.RandomNormal is deprecated. Please use tf.compat.v1.keras.initializers.RandomNormal instead.\n",
      "\n"
     ]
    },
    {
     "name": "stdout",
     "output_type": "stream",
     "text": [
      "WARNING:tensorflow:From /data/marinodl/research/2019/AssociativeGAN/env/lib/python3.6/site-packages/tensorflow_core/python/keras/initializers.py:143: calling RandomNormal.__init__ (from tensorflow.python.ops.init_ops) with dtype is deprecated and will be removed in a future version.\n",
      "Instructions for updating:\n",
      "Call initializer instance with the dtype argument instead of passing it to the constructor\n"
     ]
    },
    {
     "name": "stderr",
     "output_type": "stream",
     "text": [
      "WARNING:tensorflow:From /data/marinodl/research/2019/AssociativeGAN/env/lib/python3.6/site-packages/tensorflow_core/python/keras/initializers.py:143: calling RandomNormal.__init__ (from tensorflow.python.ops.init_ops) with dtype is deprecated and will be removed in a future version.\n",
      "Instructions for updating:\n",
      "Call initializer instance with the dtype argument instead of passing it to the constructor\n"
     ]
    },
    {
     "name": "stdout",
     "output_type": "stream",
     "text": [
      "WARNING:tensorflow:From /data/marinodl/research/2019/AssociativeGAN/env/lib/python3.6/site-packages/tensorflow_core/python/ops/resource_variable_ops.py:1630: calling BaseResourceVariable.__init__ (from tensorflow.python.ops.resource_variable_ops) with constraint is deprecated and will be removed in a future version.\n",
      "Instructions for updating:\n",
      "If using Keras pass *_constraint arguments to layers.\n"
     ]
    },
    {
     "name": "stderr",
     "output_type": "stream",
     "text": [
      "WARNING:tensorflow:From /data/marinodl/research/2019/AssociativeGAN/env/lib/python3.6/site-packages/tensorflow_core/python/ops/resource_variable_ops.py:1630: calling BaseResourceVariable.__init__ (from tensorflow.python.ops.resource_variable_ops) with constraint is deprecated and will be removed in a future version.\n",
      "Instructions for updating:\n",
      "If using Keras pass *_constraint arguments to layers.\n"
     ]
    },
    {
     "name": "stdout",
     "output_type": "stream",
     "text": [
      "WARNING:tensorflow:From /data/marinodl/research/2019/AssociativeGAN/env/lib/python3.6/site-packages/tensorflow_core/python/ops/nn_impl.py:183: where (from tensorflow.python.ops.array_ops) is deprecated and will be removed in a future version.\n",
      "Instructions for updating:\n",
      "Use tf.where in 2.0, which has the same broadcast rule as np.where\n"
     ]
    },
    {
     "name": "stderr",
     "output_type": "stream",
     "text": [
      "WARNING:tensorflow:From /data/marinodl/research/2019/AssociativeGAN/env/lib/python3.6/site-packages/tensorflow_core/python/ops/nn_impl.py:183: where (from tensorflow.python.ops.array_ops) is deprecated and will be removed in a future version.\n",
      "Instructions for updating:\n",
      "Use tf.where in 2.0, which has the same broadcast rule as np.where\n"
     ]
    },
    {
     "name": "stdout",
     "output_type": "stream",
     "text": [
      "\n",
      "\n",
      "---> USING GP LOSS \n",
      "\n",
      "\n",
      "-------------- Restoring: tmp/saved_sessions/marinodl/wacgan/session_20200604_0816_cifar10/checkpoints/vars_20200605_1701.ckpt ------------------\n",
      "INFO:tensorflow:Restoring parameters from tmp/saved_sessions/marinodl/wacgan/session_20200604_0816_cifar10/checkpoints/vars_20200605_1701.ckpt\n"
     ]
    },
    {
     "name": "stderr",
     "output_type": "stream",
     "text": [
      "INFO:tensorflow:Restoring parameters from tmp/saved_sessions/marinodl/wacgan/session_20200604_0816_cifar10/checkpoints/vars_20200605_1701.ckpt\n"
     ]
    }
   ],
   "source": [
    "experiment = ExperimentWACGAN.restore_session(\n",
    "    session_path=session_path,\n",
    "    dataset_name='cifar10',\n",
    "    indicator='cifar10_test')"
   ]
  },
  {
   "cell_type": "code",
   "execution_count": 4,
   "metadata": {},
   "outputs": [
    {
     "name": "stdout",
     "output_type": "stream",
     "text": [
      "loading split train\n",
      "using augmented dataset\n",
      "loading split test\n"
     ]
    }
   ],
   "source": [
    "import tensorflow_datasets as tfds\n",
    "def load_splits(name, batch_size=64, split=None, **kargs):\n",
    "    def load_split(split):\n",
    "        dataset = acgan.data.load(\n",
    "            name, batch_size, split=split, \n",
    "            with_label=True,\n",
    "            **kargs)\n",
    "        dataset = acgan.data.to_one_hot(dataset, 10)\n",
    "        return tf.compat.v1.data.make_one_shot_iterator(\n",
    "            dataset).get_next()\n",
    "    if split is None:\n",
    "        return SimpleNamespace(\n",
    "            train=load_split(tfds.Split.TRAIN),\n",
    "            valid=load_split(tfds.Split.TEST))\n",
    "    else:\n",
    "        return load_split(split)\n",
    "    \n",
    "train_data = load_splits('cifar10', split=tfds.Split.TRAIN, \n",
    "                         augment_data=True)\n",
    "valid_data = load_splits('cifar10', split=tfds.Split.TEST)"
   ]
  },
  {
   "cell_type": "code",
   "execution_count": 16,
   "metadata": {},
   "outputs": [],
   "source": [
    "from acgan.model.encoder import CallWrapper, MlpEstimator\n",
    "\n",
    "#encoder = CallWrapper(\n",
    "#    model=experiment.model.encoder,\n",
    "#    call_fn=lambda model, x: model(x).mean())\n",
    "\n",
    "encoder = tdl.stacked.StackedLayers(\n",
    "    layers=experiment.model.encoder.layers[:-2])\n",
    "\n",
    "#encoder = tdl.stacked.StackedLayers(\n",
    "#    layers=experiment.model.encoder.layers[:-3])\n",
    "#encoder.add(tf.keras.layers.GlobalMaxPooling2D())\n",
    "\n",
    "estimator = MlpEstimator(\n",
    "    model={'n_classes': 10, \n",
    "           'units': [128],\n",
    "           'encoder': encoder},\n",
    "    loss={'value':'crossentropy', 'from_logits': True},\n",
    "    metrics={'metrics': ['accuracy'], 'from_logits': True},\n",
    "    optimizer={'learning_rate': 0.02}\n",
    ")\n",
    "estimator.compile(train_data['image'], train_data['label'])\n",
    "estimator.trainable_variables = tdl.core.get_trainable(\n",
    "    estimator.model.classifier)\n",
    "optim = estimator.get_optimizer(\n",
    "    train_data['image'], train_data['label'],\n",
    "    progress={'reset_multiplier': 3.0},\n",
    "    learning_rate=0.002)"
   ]
  },
  {
   "cell_type": "code",
   "execution_count": 58,
   "metadata": {},
   "outputs": [
    {
     "name": "stderr",
     "output_type": "stream",
     "text": [
      "step 419980 | acc 0.8247| loss 0.5118: : 50000it [12:19, 67.60it/s]                         \n"
     ]
    }
   ],
   "source": [
    "optim.run(n_steps=50000)"
   ]
  },
  {
   "cell_type": "code",
   "execution_count": 59,
   "metadata": {},
   "outputs": [
    {
     "data": {
      "text/plain": [
       "[<matplotlib.lines.Line2D at 0x7fc8a3fc6588>]"
      ]
     },
     "execution_count": 59,
     "metadata": {},
     "output_type": "execute_result"
    },
    {
     "data": {
      "image/png": "[encoded data removed]",
      "text/plain": [
       "<Figure size 432x288 with 1 Axes>"
      ]
     },
     "metadata": {
      "needs_background": "light"
     },
     "output_type": "display_data"
    }
   ],
   "source": [
    "import matplotlib.pyplot as plt\n",
    "# plt.plot(optim.metrics['loss'].as_numpy())\n",
    "plt.plot(optim.metrics['acc'].as_numpy())"
   ]
  },
  {
   "cell_type": "code",
   "execution_count": 60,
   "metadata": {},
   "outputs": [
    {
     "data": {
      "text/plain": [
       "0.74053125"
      ]
     },
     "execution_count": 60,
     "metadata": {},
     "output_type": "execute_result"
    }
   ],
   "source": [
    "acc = list()\n",
    "for i in range(500):\n",
    "    valid = sess.run(valid_data)\n",
    "    results = estimator.evaluate(inputs=valid['image'], labels=valid['label'])\n",
    "    acc.append(results['metrics']['acc'])\n",
    "sum(acc)/len(acc)"
   ]
  },
  {
   "cell_type": "code",
   "execution_count": 28,
   "metadata": {},
   "outputs": [
    {
     "data": {
      "text/plain": [
       "[<twodlearn.resnet.ResConv2D at 0x7f67f00e0d68>,\n",
       " <tensorflow.python.keras.layers.pooling.MaxPooling2D at 0x7f67f00e02e8>,\n",
       " <twodlearn.resnet.ResConv2D at 0x7f67f00e05c0>,\n",
       " <tensorflow.python.keras.layers.pooling.MaxPooling2D at 0x7f67f00e0240>,\n",
       " <twodlearn.resnet.ResConv2D at 0x7f67f00b8860>,\n",
       " <tensorflow.python.keras.layers.pooling.MaxPooling2D at 0x7f67f00b80b8>,\n",
       " <tensorflow.python.keras.layers.core.Flatten at 0x7f67f00b8080>,\n",
       " <acgan.model.msg_gan.AffineLayer at 0x7f67f00b8438>,\n",
       " <twodlearn.bayesnet.bayesnet.NormalModel at 0x7f67f00b8780>]"
      ]
     },
     "execution_count": 28,
     "metadata": {},
     "output_type": "execute_result"
    }
   ],
   "source": [
    "estimator.model.encoder.model.layers"
   ]
  },
  {
   "cell_type": "code",
   "execution_count": 29,
   "metadata": {},
   "outputs": [
    {
     "data": {
      "text/plain": [
       "[<tf.Tensor 'IteratorGetNext_1:0' shape=(?, 32, 32, 3) dtype=float32>,\n",
       " <tf.Tensor 'WacGan/encoder/ResConv2D_3/add:0' shape=(?, 32, 32, 32) dtype=float32>,\n",
       " <tf.Tensor 'max_pooling2d/MaxPool:0' shape=(?, 16, 16, 32) dtype=float32>,\n",
       " <tf.Tensor 'WacGan/encoder/ResConv2D_1_1/add:0' shape=(?, 16, 16, 64) dtype=float32>,\n",
       " <tf.Tensor 'max_pooling2d_1/MaxPool:0' shape=(?, 8, 8, 64) dtype=float32>,\n",
       " <tf.Tensor 'WacGan/encoder/ResConv2D_2_1/add:0' shape=(?, 8, 8, 64) dtype=float32>,\n",
       " <tf.Tensor 'max_pooling2d_2/MaxPool:0' shape=(?, 4, 4, 64) dtype=float32>,\n",
       " <tf.Tensor 'flatten/Reshape:0' shape=(?, 1024) dtype=float32>,\n",
       " <twodlearn.feedforward.AffineLayer.Output at 0x7f69ae605048>,\n",
       " <tfp.distributions.Normal 'WacGan_encoder_NormalModel_1_Normal' batch_shape=[?, 128] event_shape=[] dtype=float32>]"
      ]
     },
     "execution_count": 29,
     "metadata": {},
     "output_type": "execute_result"
    }
   ],
   "source": [
    "resnet = estimator.model.encoder.model.layers\n",
    "outputs = [train_data['image']]\n",
    "for layer in resnet:\n",
    "    outputs.append(layer(outputs[-1])) \n",
    "outputs"
   ]
  },
  {
   "cell_type": "code",
   "execution_count": null,
   "metadata": {},
   "outputs": [],
   "source": []
  },
  {
   "cell_type": "code",
   "execution_count": 29,
   "metadata": {},
   "outputs": [
    {
     "data": {
      "text/plain": [
       "True"
      ]
     },
     "execution_count": 29,
     "metadata": {},
     "output_type": "execute_result"
    }
   ],
   "source": [
    "(tf.random.uniform(shape=[])>0.5).eval()"
   ]
  },
  {
   "cell_type": "markdown",
   "metadata": {},
   "source": [
    "# Linear Baseline"
   ]
  },
  {
   "cell_type": "code",
   "execution_count": 1,
   "metadata": {},
   "outputs": [
    {
     "name": "stdout",
     "output_type": "stream",
     "text": [
      "WARNING:tensorflow:From /data/marinodl/research/2019/AssociativeGAN/env/lib/python3.6/site-packages/tensorflow_gan/python/estimator/tpu_gan_estimator.py:42: The name tf.estimator.tpu.TPUEstimator is deprecated. Please use tf.compat.v1.estimator.tpu.TPUEstimator instead.\n",
      "\n"
     ]
    }
   ],
   "source": [
    "import acgan\n",
    "import twodlearn as tdl\n",
    "import twodlearn.debug\n",
    "import tensorflow as tf\n",
    "from types import SimpleNamespace\n",
    "import acgan.model.encoder\n",
    "from acgan.model.encoder import LinearEstimator\n",
    "sess = tf.InteractiveSession()\n",
    "SPARSE = False"
   ]
  },
  {
   "cell_type": "code",
   "execution_count": 2,
   "metadata": {},
   "outputs": [
    {
     "name": "stdout",
     "output_type": "stream",
     "text": [
      "loading split train\n",
      "using augmented dataset\n",
      "loading split test\n"
     ]
    }
   ],
   "source": [
    "import tensorflow_datasets as tfds\n",
    "def load_splits(name, batch_size=64, split=None, **kargs):\n",
    "    def load_split(split):\n",
    "        dataset = acgan.data.load(\n",
    "            name, batch_size, split=split, \n",
    "            with_label=True,\n",
    "            **kargs)\n",
    "        dataset = acgan.data.to_one_hot(dataset, 10)\n",
    "        return tf.compat.v1.data.make_one_shot_iterator(\n",
    "            dataset).get_next()\n",
    "    if split is None:\n",
    "        return SimpleNamespace(\n",
    "            train=load_split(tfds.Split.TRAIN),\n",
    "            valid=load_split(tfds.Split.TEST))\n",
    "    else:\n",
    "        return load_split(split)\n",
    "    \n",
    "train_data = load_splits('cifar10', split=tfds.Split.TRAIN, \n",
    "                         augment_data=True)\n",
    "valid_data = load_splits('cifar10', split=tfds.Split.TEST)"
   ]
  },
  {
   "cell_type": "code",
   "execution_count": null,
   "metadata": {},
   "outputs": [],
   "source": [
    "estimator = LinearEstimator(\n",
    "    model={'n_classes': 10, \n",
    "           'encoder': tdl.stacked.StackedLayers(\n",
    "               layers=[\n",
    "                   tf.keras.layers.Flatten(),\n",
    "                   tf.keras.layers.Dense(units=512),\n",
    "                   tf.keras.layers.LeakyReLU(0.2),\n",
    "                   tf.keras.layers.Dense(units=512),\n",
    "                   tf.keras.layers.LeakyReLU(0.2),\n",
    "               ])},\n",
    "    loss={'value':('sparse_crossentropy' if SPARSE\n",
    "                   else 'crossentropy'), \n",
    "          'from_logits': True},\n",
    "    metrics={'metrics': ['accuracy'], \n",
    "             'from_logits': True, 'sparse': SPARSE},\n",
    "    optimizer={'learning_rate': 0.002}\n",
    ")\n",
    "estimator.compile(train_data['image'], train_data['label'])\n",
    "estimator.trainable_variables = tdl.core.get_trainable(estimator.model)\n",
    "optim = estimator.get_optimizer(\n",
    "    train_data['image'], train_data['label'],\n",
    "    learning_rate=0.002)"
   ]
  },
  {
   "cell_type": "code",
   "execution_count": 20,
   "metadata": {},
   "outputs": [
    {
     "name": "stderr",
     "output_type": "stream",
     "text": [
      "step 279990 | acc 0.5380| loss 1.3702: : 50000it [11:52, 70.15it/s]                          \n"
     ]
    }
   ],
   "source": [
    "optim.run(n_steps=50000)"
   ]
  },
  {
   "cell_type": "code",
   "execution_count": 18,
   "metadata": {},
   "outputs": [
    {
     "data": {
      "text/plain": [
       "[<matplotlib.lines.Line2D at 0x7fcf3c26c780>]"
      ]
     },
     "execution_count": 18,
     "metadata": {},
     "output_type": "execute_result"
    },
    {
     "data": {
      "image/png": "[encoded data removed]",
      "text/plain": [
       "<Figure size 432x288 with 1 Axes>"
      ]
     },
     "metadata": {
      "needs_background": "light"
     },
     "output_type": "display_data"
    }
   ],
   "source": [
    "import matplotlib.pyplot as plt\n",
    "#plt.plot(optim.metrics['loss'].as_numpy())\n",
    "plt.plot(optim.metrics['acc'].as_numpy())"
   ]
  },
  {
   "cell_type": "code",
   "execution_count": 21,
   "metadata": {},
   "outputs": [
    {
     "data": {
      "text/plain": [
       "0.50575"
      ]
     },
     "execution_count": 21,
     "metadata": {},
     "output_type": "execute_result"
    }
   ],
   "source": [
    "acc = list()\n",
    "for i in range(500):\n",
    "    valid = sess.run(valid_data)\n",
    "    results = estimator.evaluate(inputs=valid['image'], labels=valid['label'])\n",
    "    acc.append(results['metrics']['acc'])\n",
    "sum(acc)/len(acc)"
   ]
  },
  {
   "cell_type": "markdown",
   "metadata": {},
   "source": [
    "## Using keras"
   ]
  },
  {
   "cell_type": "code",
   "execution_count": null,
   "metadata": {},
   "outputs": [],
   "source": [
    "model = tf.keras.Sequential([\n",
    "    tf.keras.Input(shape=(32,32,3), name=\"image\"),\n",
    "    tf.keras.layers.Flatten(),\n",
    "    tf.keras.layers.Dense(units=512),\n",
    "    tf.keras.layers.LeakyReLU(0.2),\n",
    "    tf.keras.layers.Dense(units=10),])\n",
    "model.compile(\n",
    "    optimizer='adam',\n",
    "    loss=tf.keras.losses.CategoricalCrossentropy(\n",
    "        from_logits=True),\n",
    "    metrics=[tf.keras.metrics.CategoricalAccuracy()])"
   ]
  },
  {
   "cell_type": "code",
   "execution_count": null,
   "metadata": {},
   "outputs": [],
   "source": [
    "model.fit(train_data['image'], train_data['label'],\n",
    "          steps_per_epoch=10000)"
   ]
  },
  {
   "cell_type": "code",
   "execution_count": null,
   "metadata": {},
   "outputs": [],
   "source": [
    "model.evaluate(valid_data['image'], valid_data['label'],\n",
    "               steps=1000)"
   ]
  },
  {
   "cell_type": "code",
   "execution_count": null,
   "metadata": {},
   "outputs": [],
   "source": [
    "import numpy as np\n",
    "valid = sess.run(valid_data)\n",
    "logits = model.predict(valid['image'], batch_size=128)\n",
    "pred = np.exp(logits)/np.sum(np.exp(logits), -1)[..., np.newaxis]"
   ]
  },
  {
   "cell_type": "code",
   "execution_count": null,
   "metadata": {},
   "outputs": [],
   "source": [
    "np.mean(np.argmax(logits, -1) == np.argmax(valid['label'], -1))"
   ]
  },
  {
   "cell_type": "code",
   "execution_count": null,
   "metadata": {},
   "outputs": [],
   "source": []
  },
  {
   "cell_type": "code",
   "execution_count": null,
   "metadata": {},
   "outputs": [],
   "source": []
  },
  {
   "cell_type": "markdown",
   "metadata": {},
   "source": [
    "# Data augmentation"
   ]
  },
  {
   "cell_type": "code",
   "execution_count": null,
   "metadata": {},
   "outputs": [],
   "source": [
    "import acgan\n",
    "import twodlearn as tdl\n",
    "import twodlearn.debug\n",
    "import tensorflow as tf\n",
    "from types import SimpleNamespace\n",
    "import acgan.model.encoder\n",
    "from acgan.model.encoder import LinearEstimator\n",
    "sess = tf.InteractiveSession()"
   ]
  },
  {
   "cell_type": "code",
   "execution_count": 2,
   "metadata": {},
   "outputs": [
    {
     "name": "stdout",
     "output_type": "stream",
     "text": [
      "loading split train\n",
      "using augmented dataset\n",
      "loading split test\n",
      "using augmented dataset\n"
     ]
    }
   ],
   "source": [
    "import tensorflow_datasets as tfds\n",
    "def load_splits(name, batch_size=64, **kargs):\n",
    "    def load_split(split):\n",
    "        dataset = acgan.data.load(\n",
    "            name, batch_size, split=split, \n",
    "            with_label=True, **kargs)\n",
    "        dataset = acgan.data.to_one_hot(dataset, 10)\n",
    "        return tf.compat.v1.data.make_one_shot_iterator(\n",
    "            dataset).get_next()\n",
    "    return SimpleNamespace(\n",
    "        train=load_split(tfds.Split.TRAIN),\n",
    "        valid=load_split(tfds.Split.TEST))\n",
    "    \n",
    "data = load_splits('cifar10', augment=True)\n",
    "train_data = data.train"
   ]
  },
  {
   "cell_type": "code",
   "execution_count": 26,
   "metadata": {},
   "outputs": [
    {
     "data": {
      "text/plain": [
       "<matplotlib.image.AxesImage at 0x7f8518779390>"
      ]
     },
     "execution_count": 26,
     "metadata": {},
     "output_type": "execute_result"
    },
    {
     "data": {
      "image/png": "[encoded data removed]",
      "text/plain": [
       "<Figure size 432x288 with 1 Axes>"
      ]
     },
     "metadata": {
      "needs_background": "light"
     },
     "output_type": "display_data"
    }
   ],
   "source": [
    "import matplotlib.pyplot as plt\n",
    "image = train_data['image'].eval()[0, ...]\n",
    "plt.imshow((image+1)/2)"
   ]
  },
  {
   "cell_type": "code",
   "execution_count": null,
   "metadata": {},
   "outputs": [],
   "source": []
  },
  {
   "cell_type": "code",
   "execution_count": null,
   "metadata": {},
   "outputs": [],
   "source": []
  },
  {
   "cell_type": "code",
   "execution_count": 22,
   "metadata": {},
   "outputs": [
    {
     "name": "stderr",
     "output_type": "stream",
     "text": [
      "/data/marinodl/research/2019/AssociativeGAN/env/lib/python3.6/site-packages/ipykernel_launcher.py:2: RuntimeWarning: overflow encountered in exp\n",
      "  \n",
      "/data/marinodl/research/2019/AssociativeGAN/env/lib/python3.6/site-packages/ipykernel_launcher.py:2: RuntimeWarning: invalid value encountered in true_divide\n",
      "  \n"
     ]
    },
    {
     "data": {
      "text/plain": [
       "array([[0.00000000e+00,            nan, 0.00000000e+00, ...,\n",
       "        0.00000000e+00, 0.00000000e+00, 0.00000000e+00],\n",
       "       [4.18361240e-28, 9.91849244e-01, 1.19110369e-43, ...,\n",
       "        1.45975090e-08, 0.00000000e+00, 8.15080758e-03],\n",
       "       [3.61498314e-14, 1.06597043e-04, 4.74601795e-25, ...,\n",
       "        5.41808352e-15, 0.00000000e+00, 4.73316669e-01],\n",
       "       ...,\n",
       "       [3.57881728e-20, 1.39531163e-24, 9.30961207e-15, ...,\n",
       "        1.43019441e-23, 0.00000000e+00, 0.00000000e+00],\n",
       "       [1.79401962e-35, 0.00000000e+00, 1.60247612e-15, ...,\n",
       "        5.37535980e-19, 0.00000000e+00, 0.00000000e+00],\n",
       "       [9.99987483e-01, 7.13749781e-36, 2.62295899e-37, ...,\n",
       "        5.39152790e-37, 0.00000000e+00, 1.24738635e-05]], dtype=float32)"
      ]
     },
     "execution_count": 22,
     "metadata": {},
     "output_type": "execute_result"
    }
   ],
   "source": [
    "import numpy as np\n",
    "np.exp(results['pred'])/np.sum(np.exp(results['pred']), -1)[..., np.newaxis]"
   ]
  },
  {
   "cell_type": "code",
   "execution_count": 19,
   "metadata": {},
   "outputs": [
    {
     "data": {
      "text/plain": [
       "array([9, 5, 2, 8, 1, 0, 3, 3, 1, 8, 6, 3, 5, 4, 9, 4, 1, 3, 0, 7, 0, 1,\n",
       "       4, 1, 0, 1, 5, 2, 2, 4, 2, 2, 1, 0, 4, 9, 8, 9, 6, 1, 1, 4, 0, 8,\n",
       "       2, 2, 1, 7, 6, 2, 1, 5, 6, 2, 8, 5, 9, 4, 5, 4, 4, 0, 7, 5, 1, 9,\n",
       "       5, 5, 1, 2, 3, 9, 5, 1, 5, 9, 5, 2, 0, 9, 6, 4, 2, 8, 5, 7, 7, 6,\n",
       "       7, 4, 2, 5, 5, 7, 1, 0, 6, 1, 6, 1, 2, 0, 1, 7, 9, 5, 5, 2, 1, 8,\n",
       "       8, 1, 5, 5, 7, 8, 5, 4, 7, 0, 7, 2, 9, 7, 0, 8, 9, 4])"
      ]
     },
     "execution_count": 19,
     "metadata": {},
     "output_type": "execute_result"
    }
   ],
   "source": [
    "np.argmax(valid['label'], -1)"
   ]
  },
  {
   "cell_type": "code",
   "execution_count": 18,
   "metadata": {},
   "outputs": [
    {
     "data": {
      "text/plain": [
       "array([9, 4, 2, 1, 0, 0, 3, 5, 1, 0, 4, 2, 7, 4, 9, 3, 1, 0, 0, 3, 7, 1,\n",
       "       2, 1, 0, 7, 1, 7, 4, 4, 0, 4, 1, 0, 4, 9, 8, 1, 4, 1, 1, 8, 0, 8,\n",
       "       2, 0, 1, 7, 9, 3, 1, 5, 3, 7, 0, 5, 0, 4, 5, 0, 6, 0, 7, 4, 8, 9,\n",
       "       7, 5, 1, 9, 5, 9, 3, 1, 5, 9, 3, 4, 0, 9, 6, 4, 4, 8, 5, 3, 4, 3,\n",
       "       7, 3, 2, 5, 3, 7, 1, 2, 0, 7, 4, 0, 2, 0, 2, 9, 9, 7, 4, 0, 1, 0,\n",
       "       6, 9, 0, 7, 9, 4, 5, 4, 7, 0, 4, 4, 8, 4, 0, 8, 2, 0])"
      ]
     },
     "execution_count": 18,
     "metadata": {},
     "output_type": "execute_result"
    }
   ],
   "source": [
    "np.argmax(results['pred'], -1)"
   ]
  },
  {
   "cell_type": "code",
   "execution_count": 30,
   "metadata": {},
   "outputs": [
    {
     "data": {
      "text/plain": [
       "[<tensorflow.python.keras.layers.core.Flatten at 0x7f0aa017ef28>,\n",
       " <tensorflow.python.keras.layers.core.Dense at 0x7f0aa018c0f0>,\n",
       " <tensorflow.python.keras.layers.advanced_activations.LeakyReLU at 0x7f0aa018c3c8>]"
      ]
     },
     "execution_count": 30,
     "metadata": {},
     "output_type": "execute_result"
    }
   ],
   "source": [
    "estimator.model.encoder.layers"
   ]
  },
  {
   "cell_type": "code",
   "execution_count": 26,
   "metadata": {},
   "outputs": [
    {
     "name": "stderr",
     "output_type": "stream",
     "text": [
      "WARNING:matplotlib.image:Clipping input data to the valid range for imshow with RGB data ([0..1] for floats or [0..255] for integers).\n"
     ]
    },
    {
     "data": {
      "text/plain": [
       "<matplotlib.image.AxesImage at 0x7f09ac7246d8>"
      ]
     },
     "execution_count": 26,
     "metadata": {},
     "output_type": "execute_result"
    },
    {
     "data": {
      "image/png": "[encoded data removed]",
      "text/plain": [
       "<Figure size 432x288 with 1 Axes>"
      ]
     },
     "metadata": {
      "needs_background": "light"
     },
     "output_type": "display_data"
    }
   ],
   "source": [
    "\n",
    "plt.imshow(valid_data['image'].eval()[0, ...])"
   ]
  },
  {
   "cell_type": "code",
   "execution_count": null,
   "metadata": {},
   "outputs": [],
   "source": []
  }
 ],
 "metadata": {
  "kernelspec": {
   "display_name": "Python 3",
   "language": "python",
   "name": "python3"
  },
  "language_info": {
   "codemirror_mode": {
    "name": "ipython",
    "version": 3
   },
   "file_extension": ".py",
   "mimetype": "text/x-python",
   "name": "python",
   "nbconvert_exporter": "python",
   "pygments_lexer": "ipython3",
   "version": "3.6.9"
  }
 },
 "nbformat": 4,
 "nbformat_minor": 4
}
