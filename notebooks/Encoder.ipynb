{
 "cells": [
  {
   "cell_type": "code",
   "execution_count": null,
   "metadata": {},
   "outputs": [],
   "source": [
    "import acgan\n",
    "import twodlearn as tdl\n",
    "import twodlearn.debug\n",
    "import tensorflow as tf\n",
    "from types import SimpleNamespace\n",
    "import acgan.model.encoder\n",
    "from acgan.model.encoder import LinearEstimator\n",
    "sess = tf.InteractiveSession()"
   ]
  },
  {
   "cell_type": "markdown",
   "metadata": {},
   "source": [
    "#dataset_valid = acgan.data.load_fashion_mnist_3c(\n",
    "dataset_valid = acgan.data.load_cifar10(\n",
    "    32, split=tfds.Split.TEST, with_label=True)\n",
    "dataset_valid = acgan.data.to_one_hot(dataset_valid, 10)\n",
    "valid_data = tf.compat.v1.data.make_one_shot_iterator(\n",
    "    dataset_valid).get_next()\n",
    "\n",
    "#dataset = acgan.data.load_mnist32_3c(32)\n",
    "#dataset = acgan.data.load_fashion_mnist_3c(32, with_label=True)\n",
    "dataset = acgan.data.load_cifar10(32, with_label=True)\n",
    "#dataset = acgan.data.load_stl10(32, with_label=True)\n",
    "#dataset = acgan.data.load_celeb_a(32, with_label=True)\n",
    "dataset = acgan.data.to_one_hot(dataset, 10)"
   ]
  },
  {
   "cell_type": "code",
   "execution_count": null,
   "metadata": {},
   "outputs": [],
   "source": [
    "import tensorflow_datasets as tfds\n",
    "def load_splits(name, batch_size=64):\n",
    "    def load_split(split):\n",
    "        dataset = acgan.data.load(\n",
    "            name, batch_size, split=split, \n",
    "            with_label=True)\n",
    "        dataset = acgan.data.to_one_hot(dataset, 10)\n",
    "        return tf.compat.v1.data.make_one_shot_iterator(\n",
    "            dataset).get_next()\n",
    "    return SimpleNamespace(\n",
    "        train=load_split(tfds.Split.TRAIN),\n",
    "        valid=load_split(tfds.Split.TEST))\n",
    "    \n",
    "data = load_splits('cifar10')\n",
    "train_data = data.train\n",
    "valid_data = data.valid"
   ]
  },
  {
   "cell_type": "code",
   "execution_count": null,
   "metadata": {},
   "outputs": [],
   "source": [
    "estimator = LinearEstimator(\n",
    "    model={'n_classes': 10, \n",
    "           'encoder': {\n",
    "               'embedding_size': 512,\n",
    "               'layers': {\n",
    "                   'units': [64, 128, 256, 512],\n",
    "                   'kernels': 3,\n",
    "                   'strides': 1,\n",
    "                   'pooling': 2,\n",
    "                   'flatten': 'global_maxpool'}}},\n",
    "    loss={'value':'crossentropy', 'from_logits': True},\n",
    "    metrics={'metrics': ['accuracy'], 'from_logits': True},\n",
    "    optimizer={'learning_rate': 0.02}\n",
    ")\n",
    "estimator.compile(train_data['image'], train_data['label'])\n",
    "estimator.trainable_variables = tdl.core.get_trainable(estimator.model)\n",
    "optim = estimator.get_optimizer(\n",
    "    train_data['image'], train_data['label'],\n",
    "    progress={'reset_multiplier': 3.0},\n",
    "    learning_rate=0.002)"
   ]
  },
  {
   "cell_type": "code",
   "execution_count": 25,
   "metadata": {},
   "outputs": [
    {
     "name": "stderr",
     "output_type": "stream",
     "text": [
      "step 70000 | acc 0.9916| loss 0.0324: 100%|█████████▉| 9980/9999 [08:24<00:00, 19.78it/s]         \n"
     ]
    }
   ],
   "source": [
    "optim.run(n_steps=10000)"
   ]
  },
  {
   "cell_type": "code",
   "execution_count": 24,
   "metadata": {},
   "outputs": [
    {
     "data": {
      "text/plain": [
       "[<matplotlib.lines.Line2D at 0x7fc9aa619748>]"
      ]
     },
     "execution_count": 24,
     "metadata": {},
     "output_type": "execute_result"
    },
    {
     "data": {
      "image/png": "[encoded data removed]",
      "text/plain": [
       "<Figure size 432x288 with 1 Axes>"
      ]
     },
     "metadata": {
      "needs_background": "light"
     },
     "output_type": "display_data"
    }
   ],
   "source": [
    "import matplotlib.pyplot as plt\n",
    "# plt.plot(optim.metrics['loss'].as_numpy())\n",
    "plt.plot(optim.metrics['acc'].as_numpy())"
   ]
  },
  {
   "cell_type": "code",
   "execution_count": 23,
   "metadata": {},
   "outputs": [
    {
     "data": {
      "text/plain": [
       "0.818625"
      ]
     },
     "execution_count": 23,
     "metadata": {},
     "output_type": "execute_result"
    }
   ],
   "source": [
    "acc = list()\n",
    "for i in range(500):\n",
    "    valid = sess.run(valid_data)\n",
    "    results = estimator.evaluate(inputs=valid['image'], labels=valid['label'])\n",
    "    acc.append(results['metrics']['acc'])\n",
    "sum(acc)/len(acc)"
   ]
  },
  {
   "cell_type": "code",
   "execution_count": 13,
   "metadata": {},
   "outputs": [
    {
     "data": {
      "text/plain": [
       "array([0, 5, 6, 1, 3, 7, 2, 6, 5, 0, 5, 0, 3, 2, 1, 2, 6, 7, 4, 8, 6, 2,\n",
       "       9, 1, 1, 3, 5, 7, 0, 7, 8, 0, 3, 4, 1, 5, 3, 9, 2, 7, 2, 5, 7, 9,\n",
       "       0, 7, 7, 1, 3, 1, 6, 8, 4, 7, 5, 5, 3, 7, 5, 9, 3, 8, 4, 3, 3, 2,\n",
       "       2, 3, 0, 5, 3, 7, 4, 8, 0, 9, 8, 5, 0, 5, 2, 3, 0, 2, 6, 1, 5, 0,\n",
       "       6, 3, 0, 7, 5, 3, 9, 9, 0, 9, 1, 8, 1, 0, 3, 5, 0, 5, 9, 9, 9, 9,\n",
       "       2, 6, 1, 9, 9, 1, 0, 3, 9, 0, 8, 9, 5, 0, 9, 9, 4, 3])"
      ]
     },
     "execution_count": 13,
     "metadata": {},
     "output_type": "execute_result"
    }
   ],
   "source": [
    "import numpy as np \n",
    "np.argmax(results['pred'], -1)"
   ]
  },
  {
   "cell_type": "code",
   "execution_count": 14,
   "metadata": {},
   "outputs": [
    {
     "data": {
      "text/plain": [
       "array([0, 5, 6, 1, 5, 7, 2, 6, 5, 0, 5, 0, 5, 2, 9, 2, 4, 7, 4, 8, 6, 2,\n",
       "       0, 9, 1, 4, 3, 5, 0, 7, 8, 0, 3, 0, 1, 5, 9, 9, 2, 5, 6, 5, 2, 9,\n",
       "       4, 7, 7, 1, 3, 1, 6, 0, 0, 5, 5, 5, 3, 7, 5, 9, 3, 8, 5, 5, 4, 3,\n",
       "       2, 5, 0, 5, 3, 7, 4, 6, 0, 9, 6, 2, 0, 5, 2, 3, 1, 2, 6, 1, 5, 0,\n",
       "       6, 3, 8, 7, 5, 3, 9, 9, 0, 9, 1, 8, 1, 0, 3, 4, 0, 5, 9, 9, 9, 9,\n",
       "       2, 6, 1, 9, 9, 9, 0, 5, 9, 0, 8, 9, 5, 0, 9, 9, 4, 3])"
      ]
     },
     "execution_count": 14,
     "metadata": {},
     "output_type": "execute_result"
    }
   ],
   "source": [
    "np.argmax(valid['label'], -1)"
   ]
  },
  {
   "cell_type": "markdown",
   "metadata": {},
   "source": [
    "# check output dimensions"
   ]
  },
  {
   "cell_type": "code",
   "execution_count": 22,
   "metadata": {},
   "outputs": [],
   "source": [
    "resnet = estimator.model.encoder.model.layers.layers\n",
    "outputs = [train_data['image']]\n",
    "for layer in resnet:\n",
    "    outputs.append(layer(outputs[-1])) "
   ]
  },
  {
   "cell_type": "code",
   "execution_count": 23,
   "metadata": {},
   "outputs": [
    {
     "data": {
      "text/plain": [
       "[<tf.Tensor 'IteratorGetNext:0' shape=(?, 32, 32, 3) dtype=float32>,\n",
       " <tf.Tensor 'LinearEstimator/model/LinearClassifier/encoder/ResConv/layers/ResConv2D_4/add:0' shape=(?, 32, 32, 32) dtype=float32>,\n",
       " <tf.Tensor 'max_pooling2d/MaxPool:0' shape=(?, 16, 16, 32) dtype=float32>,\n",
       " <tf.Tensor 'LinearEstimator/model/LinearClassifier/encoder/ResConv/layers/ResConv2D_1_1/add:0' shape=(?, 16, 16, 64) dtype=float32>,\n",
       " <tf.Tensor 'max_pooling2d_1/MaxPool:0' shape=(?, 8, 8, 64) dtype=float32>,\n",
       " <tf.Tensor 'LinearEstimator/model/LinearClassifier/encoder/ResConv/layers/ResConv2D_2_1/add:0' shape=(?, 8, 8, 64) dtype=float32>,\n",
       " <tf.Tensor 'max_pooling2d_2/MaxPool:0' shape=(?, 4, 4, 64) dtype=float32>,\n",
       " <tf.Tensor 'LinearEstimator/model/LinearClassifier/encoder/ResConv/layers/ResConv2D_3_1/add:0' shape=(?, 4, 4, 64) dtype=float32>,\n",
       " <tf.Tensor 'max_pooling2d_3/MaxPool:0' shape=(?, 2, 2, 64) dtype=float32>,\n",
       " <tf.Tensor 'flatten/Reshape:0' shape=(?, 256) dtype=float32>,\n",
       " <twodlearn.feedforward.AffineLayer.Output at 0x7f7f35719dd8>]"
      ]
     },
     "execution_count": 23,
     "metadata": {},
     "output_type": "execute_result"
    }
   ],
   "source": [
    "outputs"
   ]
  },
  {
   "cell_type": "markdown",
   "metadata": {},
   "source": [
    "# From GAN"
   ]
  },
  {
   "cell_type": "code",
   "execution_count": 1,
   "metadata": {},
   "outputs": [
    {
     "name": "stdout",
     "output_type": "stream",
     "text": [
      "WARNING:tensorflow:From /data/marinodl/research/2019/AssociativeGAN/env/lib/python3.6/site-packages/tensorflow_gan/python/estimator/tpu_gan_estimator.py:42: The name tf.estimator.tpu.TPUEstimator is deprecated. Please use tf.compat.v1.estimator.tpu.TPUEstimator instead.\n",
      "\n"
     ]
    }
   ],
   "source": [
    "import acgan\n",
    "from acgan.data.remote import RemoteShare\n",
    "from acgan.main import ExperimentGMM, ExperimentWACGAN\n",
    "\n",
    "import twodlearn as tdl\n",
    "import twodlearn.debug\n",
    "import tensorflow as tf\n",
    "from types import SimpleNamespace\n",
    "import acgan.model.encoder\n",
    "from acgan.model.encoder import LinearEstimator\n",
    "sess = tf.InteractiveSession()"
   ]
  },
  {
   "cell_type": "code",
   "execution_count": 2,
   "metadata": {},
   "outputs": [],
   "source": [
    "remote = RemoteShare(model='wacgan')\n",
    "session_path = remote.download('session_20200604_0816_cifar10')"
   ]
  },
  {
   "cell_type": "code",
   "execution_count": null,
   "metadata": {},
   "outputs": [],
   "source": [
    "experiment = ExperimentWACGAN.restore_session(\n",
    "    session_path=session_path,\n",
    "    dataset_name='cifar10',\n",
    "    indicator='cifar10_test')"
   ]
  },
  {
   "cell_type": "code",
   "execution_count": 4,
   "metadata": {},
   "outputs": [],
   "source": [
    "import tensorflow_datasets as tfds\n",
    "def load_splits(name, batch_size=128):\n",
    "    def load_split(split):\n",
    "        dataset = acgan.data.load(\n",
    "            name, batch_size, split=split, \n",
    "            with_label=True)\n",
    "        dataset = acgan.data.to_one_hot(dataset, 10)\n",
    "        return tf.compat.v1.data.make_one_shot_iterator(\n",
    "            dataset).get_next()\n",
    "    return SimpleNamespace(\n",
    "        train=load_split(tfds.Split.TRAIN),\n",
    "        valid=load_split(tfds.Split.TEST))\n",
    "    \n",
    "data = load_splits('cifar10')\n",
    "train_data = data.train\n",
    "valid_data = data.valid"
   ]
  },
  {
   "cell_type": "code",
   "execution_count": 21,
   "metadata": {},
   "outputs": [],
   "source": [
    "from acgan.model.encoder import CallWrapper, MlpEstimator\n",
    "\n",
    "encoder = CallWrapper(\n",
    "    model=experiment.model.encoder,\n",
    "    call_fn=lambda model, x: model(x).mean())\n",
    "#encoder = tdl.stacked.StackedLayers(\n",
    "#    layers=experiment.model.encoder.layers[:-2])\n",
    "\n",
    "estimator = MlpEstimator(\n",
    "    model={'n_classes': 10, \n",
    "           'units': [128],\n",
    "           'encoder': encoder},\n",
    "    loss={'value':'crossentropy', 'from_logits': True},\n",
    "    metrics={'metrics': ['accuracy'], 'from_logits': True},\n",
    "    optimizer={'learning_rate': 0.02}\n",
    ")\n",
    "estimator.compile(train_data['image'], train_data['label'])\n",
    "estimator.trainable_variables = tdl.core.get_trainable(\n",
    "    estimator.model.classifier)\n",
    "optim = estimator.get_optimizer(\n",
    "    train_data['image'], train_data['label'],\n",
    "    progress={'reset_multiplier': 3.0})"
   ]
  },
  {
   "cell_type": "code",
   "execution_count": 24,
   "metadata": {},
   "outputs": [
    {
     "name": "stderr",
     "output_type": "stream",
     "text": [
      "step 19990 | acc 0.6495| loss 1.0088: : 10000it [03:31, 47.33it/s]                       \n"
     ]
    }
   ],
   "source": [
    "optim.run(n_steps=10000)"
   ]
  },
  {
   "cell_type": "code",
   "execution_count": 25,
   "metadata": {},
   "outputs": [
    {
     "data": {
      "text/plain": [
       "[<matplotlib.lines.Line2D at 0x7ff379bd87b8>]"
      ]
     },
     "execution_count": 25,
     "metadata": {},
     "output_type": "execute_result"
    },
    {
     "data": {
      "image/png": "[encoded data removed]",
      "text/plain": [
       "<Figure size 432x288 with 1 Axes>"
      ]
     },
     "metadata": {
      "needs_background": "light"
     },
     "output_type": "display_data"
    }
   ],
   "source": [
    "import matplotlib.pyplot as plt\n",
    "# plt.plot(optim.metrics['loss'].as_numpy())\n",
    "plt.plot(optim.metrics['acc'].as_numpy())"
   ]
  },
  {
   "cell_type": "code",
   "execution_count": 26,
   "metadata": {},
   "outputs": [
    {
     "data": {
      "text/plain": [
       "0.64709375"
      ]
     },
     "execution_count": 26,
     "metadata": {},
     "output_type": "execute_result"
    }
   ],
   "source": [
    "acc = list()\n",
    "for i in range(500):\n",
    "    valid = sess.run(valid_data)\n",
    "    results = estimator.evaluate(inputs=valid['image'], labels=valid['label'])\n",
    "    acc.append(results['metrics']['acc'])\n",
    "sum(acc)/len(acc)"
   ]
  },
  {
   "cell_type": "code",
   "execution_count": 28,
   "metadata": {},
   "outputs": [
    {
     "data": {
      "text/plain": [
       "[<twodlearn.resnet.ResConv2D at 0x7f67f00e0d68>,\n",
       " <tensorflow.python.keras.layers.pooling.MaxPooling2D at 0x7f67f00e02e8>,\n",
       " <twodlearn.resnet.ResConv2D at 0x7f67f00e05c0>,\n",
       " <tensorflow.python.keras.layers.pooling.MaxPooling2D at 0x7f67f00e0240>,\n",
       " <twodlearn.resnet.ResConv2D at 0x7f67f00b8860>,\n",
       " <tensorflow.python.keras.layers.pooling.MaxPooling2D at 0x7f67f00b80b8>,\n",
       " <tensorflow.python.keras.layers.core.Flatten at 0x7f67f00b8080>,\n",
       " <acgan.model.msg_gan.AffineLayer at 0x7f67f00b8438>,\n",
       " <twodlearn.bayesnet.bayesnet.NormalModel at 0x7f67f00b8780>]"
      ]
     },
     "execution_count": 28,
     "metadata": {},
     "output_type": "execute_result"
    }
   ],
   "source": [
    "estimator.model.encoder.model.layers"
   ]
  },
  {
   "cell_type": "code",
   "execution_count": 29,
   "metadata": {},
   "outputs": [
    {
     "data": {
      "text/plain": [
       "[<tf.Tensor 'IteratorGetNext_1:0' shape=(?, 32, 32, 3) dtype=float32>,\n",
       " <tf.Tensor 'WacGan/encoder/ResConv2D_3/add:0' shape=(?, 32, 32, 32) dtype=float32>,\n",
       " <tf.Tensor 'max_pooling2d/MaxPool:0' shape=(?, 16, 16, 32) dtype=float32>,\n",
       " <tf.Tensor 'WacGan/encoder/ResConv2D_1_1/add:0' shape=(?, 16, 16, 64) dtype=float32>,\n",
       " <tf.Tensor 'max_pooling2d_1/MaxPool:0' shape=(?, 8, 8, 64) dtype=float32>,\n",
       " <tf.Tensor 'WacGan/encoder/ResConv2D_2_1/add:0' shape=(?, 8, 8, 64) dtype=float32>,\n",
       " <tf.Tensor 'max_pooling2d_2/MaxPool:0' shape=(?, 4, 4, 64) dtype=float32>,\n",
       " <tf.Tensor 'flatten/Reshape:0' shape=(?, 1024) dtype=float32>,\n",
       " <twodlearn.feedforward.AffineLayer.Output at 0x7f69ae605048>,\n",
       " <tfp.distributions.Normal 'WacGan_encoder_NormalModel_1_Normal' batch_shape=[?, 128] event_shape=[] dtype=float32>]"
      ]
     },
     "execution_count": 29,
     "metadata": {},
     "output_type": "execute_result"
    }
   ],
   "source": [
    "resnet = estimator.model.encoder.model.layers\n",
    "outputs = [train_data['image']]\n",
    "for layer in resnet:\n",
    "    outputs.append(layer(outputs[-1])) \n",
    "outputs"
   ]
  },
  {
   "cell_type": "markdown",
   "metadata": {},
   "source": [
    "# Linear Baseline"
   ]
  },
  {
   "cell_type": "code",
   "execution_count": 1,
   "metadata": {},
   "outputs": [
    {
     "name": "stdout",
     "output_type": "stream",
     "text": [
      "WARNING:tensorflow:From /data/marinodl/research/2019/AssociativeGAN/env/lib/python3.6/site-packages/tensorflow_gan/python/estimator/tpu_gan_estimator.py:42: The name tf.estimator.tpu.TPUEstimator is deprecated. Please use tf.compat.v1.estimator.tpu.TPUEstimator instead.\n",
      "\n"
     ]
    }
   ],
   "source": [
    "import acgan\n",
    "import twodlearn as tdl\n",
    "import twodlearn.debug\n",
    "import tensorflow as tf\n",
    "from types import SimpleNamespace\n",
    "import acgan.model.encoder\n",
    "from acgan.model.encoder import LinearEstimator\n",
    "sess = tf.InteractiveSession()\n",
    "SPARSE = False"
   ]
  },
  {
   "cell_type": "code",
   "execution_count": null,
   "metadata": {},
   "outputs": [],
   "source": [
    "import tensorflow_datasets as tfds\n",
    "def load_splits(name, batch_size=128, sparse=False):\n",
    "    def load_split(split):\n",
    "        dataset = acgan.data.load(\n",
    "            name, batch_size, split=split, \n",
    "            with_label=True)\n",
    "        if not sparse:\n",
    "            dataset = acgan.data.to_one_hot(dataset, 10)\n",
    "        return tf.compat.v1.data.make_one_shot_iterator(\n",
    "            dataset).get_next()\n",
    "    return SimpleNamespace(\n",
    "        train=load_split(tfds.Split.TRAIN),\n",
    "        valid=load_split(tfds.Split.TEST))\n",
    "    \n",
    "data = load_splits('cifar10', sparse=SPARSE)\n",
    "train_data = data.train\n",
    "valid_data = data.valid"
   ]
  },
  {
   "cell_type": "code",
   "execution_count": 165,
   "metadata": {},
   "outputs": [],
   "source": [
    "estimator = LinearEstimator(\n",
    "    model={'n_classes': 10, \n",
    "           'encoder': tdl.stacked.StackedLayers(\n",
    "               layers=[tf.keras.layers.Flatten(),\n",
    "                       tf.keras.layers.Dense(units=512),\n",
    "                       tf.keras.layers.LeakyReLU(0.2)])},\n",
    "    loss={'value':('sparse_crossentropy' if SPARSE\n",
    "                   else 'crossentropy'), \n",
    "          'from_logits': True},\n",
    "    metrics={'metrics': ['accuracy'], \n",
    "             'from_logits': True, 'sparse': SPARSE},\n",
    "    optimizer={'learning_rate': 0.002}\n",
    ")\n",
    "estimator.compile(train_data['image'], train_data['label'])\n",
    "estimator.trainable_variables = tdl.core.get_trainable(estimator.model)\n",
    "optim = estimator.get_optimizer(\n",
    "    train_data['image'], train_data['label'])"
   ]
  },
  {
   "cell_type": "code",
   "execution_count": 211,
   "metadata": {},
   "outputs": [
    {
     "name": "stderr",
     "output_type": "stream",
     "text": [
      "step 149980 | acc 0.8514| loss 18.7027: : 10000it [00:42, 237.34it/s]                       \n"
     ]
    }
   ],
   "source": [
    "optim.run(n_steps=10000)"
   ]
  },
  {
   "cell_type": "code",
   "execution_count": 212,
   "metadata": {},
   "outputs": [
    {
     "data": {
      "text/plain": [
       "[<matplotlib.lines.Line2D at 0x7f9154172ac8>]"
      ]
     },
     "execution_count": 212,
     "metadata": {},
     "output_type": "execute_result"
    },
    {
     "data": {
      "image/png": "[encoded data removed]",
      "text/plain": [
       "<Figure size 432x288 with 1 Axes>"
      ]
     },
     "metadata": {
      "needs_background": "light"
     },
     "output_type": "display_data"
    }
   ],
   "source": [
    "import matplotlib.pyplot as plt\n",
    "#plt.plot(optim.metrics['loss'].as_numpy())\n",
    "plt.plot(optim.metrics['acc'].as_numpy())"
   ]
  },
  {
   "cell_type": "code",
   "execution_count": 213,
   "metadata": {},
   "outputs": [
    {
     "data": {
      "text/plain": [
       "0.44428125"
      ]
     },
     "execution_count": 213,
     "metadata": {},
     "output_type": "execute_result"
    }
   ],
   "source": [
    "acc = list()\n",
    "for i in range(500):\n",
    "    valid = sess.run(valid_data)\n",
    "    results = estimator.evaluate(inputs=valid['image'], labels=valid['label'])\n",
    "    acc.append(results['metrics']['acc'])\n",
    "sum(acc)/len(acc)"
   ]
  },
  {
   "cell_type": "markdown",
   "metadata": {},
   "source": [
    "## Using keras"
   ]
  },
  {
   "cell_type": "code",
   "execution_count": null,
   "metadata": {},
   "outputs": [],
   "source": [
    "model = tf.keras.Sequential([\n",
    "    tf.keras.Input(shape=(32,32,3), name=\"image\"),\n",
    "    tf.keras.layers.Flatten(),\n",
    "    tf.keras.layers.Dense(units=512),\n",
    "    tf.keras.layers.LeakyReLU(0.2),\n",
    "    tf.keras.layers.Dense(units=10),])\n",
    "model.compile(\n",
    "    optimizer='adam',\n",
    "    loss=tf.keras.losses.CategoricalCrossentropy(\n",
    "        from_logits=True),\n",
    "    metrics=[tf.keras.metrics.CategoricalAccuracy()])"
   ]
  },
  {
   "cell_type": "code",
   "execution_count": null,
   "metadata": {},
   "outputs": [],
   "source": [
    "model.fit(train_data['image'], train_data['label'],\n",
    "          steps_per_epoch=10000)"
   ]
  },
  {
   "cell_type": "code",
   "execution_count": null,
   "metadata": {},
   "outputs": [],
   "source": [
    "model.evaluate(valid_data['image'], valid_data['label'],\n",
    "               steps=1000)"
   ]
  },
  {
   "cell_type": "code",
   "execution_count": null,
   "metadata": {},
   "outputs": [],
   "source": [
    "import numpy as np\n",
    "valid = sess.run(valid_data)\n",
    "logits = model.predict(valid['image'], batch_size=128)\n",
    "pred = np.exp(logits)/np.sum(np.exp(logits), -1)[..., np.newaxis]"
   ]
  },
  {
   "cell_type": "code",
   "execution_count": null,
   "metadata": {},
   "outputs": [],
   "source": [
    "np.mean(np.argmax(logits, -1) == np.argmax(valid['label'], -1))"
   ]
  },
  {
   "cell_type": "code",
   "execution_count": null,
   "metadata": {},
   "outputs": [],
   "source": []
  },
  {
   "cell_type": "code",
   "execution_count": null,
   "metadata": {},
   "outputs": [],
   "source": []
  },
  {
   "cell_type": "code",
   "execution_count": null,
   "metadata": {},
   "outputs": [],
   "source": []
  },
  {
   "cell_type": "code",
   "execution_count": null,
   "metadata": {},
   "outputs": [],
   "source": []
  },
  {
   "cell_type": "code",
   "execution_count": null,
   "metadata": {},
   "outputs": [],
   "source": []
  },
  {
   "cell_type": "code",
   "execution_count": null,
   "metadata": {},
   "outputs": [],
   "source": []
  },
  {
   "cell_type": "code",
   "execution_count": null,
   "metadata": {},
   "outputs": [],
   "source": []
  },
  {
   "cell_type": "code",
   "execution_count": 22,
   "metadata": {},
   "outputs": [
    {
     "name": "stderr",
     "output_type": "stream",
     "text": [
      "/data/marinodl/research/2019/AssociativeGAN/env/lib/python3.6/site-packages/ipykernel_launcher.py:2: RuntimeWarning: overflow encountered in exp\n",
      "  \n",
      "/data/marinodl/research/2019/AssociativeGAN/env/lib/python3.6/site-packages/ipykernel_launcher.py:2: RuntimeWarning: invalid value encountered in true_divide\n",
      "  \n"
     ]
    },
    {
     "data": {
      "text/plain": [
       "array([[0.00000000e+00,            nan, 0.00000000e+00, ...,\n",
       "        0.00000000e+00, 0.00000000e+00, 0.00000000e+00],\n",
       "       [4.18361240e-28, 9.91849244e-01, 1.19110369e-43, ...,\n",
       "        1.45975090e-08, 0.00000000e+00, 8.15080758e-03],\n",
       "       [3.61498314e-14, 1.06597043e-04, 4.74601795e-25, ...,\n",
       "        5.41808352e-15, 0.00000000e+00, 4.73316669e-01],\n",
       "       ...,\n",
       "       [3.57881728e-20, 1.39531163e-24, 9.30961207e-15, ...,\n",
       "        1.43019441e-23, 0.00000000e+00, 0.00000000e+00],\n",
       "       [1.79401962e-35, 0.00000000e+00, 1.60247612e-15, ...,\n",
       "        5.37535980e-19, 0.00000000e+00, 0.00000000e+00],\n",
       "       [9.99987483e-01, 7.13749781e-36, 2.62295899e-37, ...,\n",
       "        5.39152790e-37, 0.00000000e+00, 1.24738635e-05]], dtype=float32)"
      ]
     },
     "execution_count": 22,
     "metadata": {},
     "output_type": "execute_result"
    }
   ],
   "source": [
    "import numpy as np\n",
    "np.exp(results['pred'])/np.sum(np.exp(results['pred']), -1)[..., np.newaxis]"
   ]
  },
  {
   "cell_type": "code",
   "execution_count": 19,
   "metadata": {},
   "outputs": [
    {
     "data": {
      "text/plain": [
       "array([9, 5, 2, 8, 1, 0, 3, 3, 1, 8, 6, 3, 5, 4, 9, 4, 1, 3, 0, 7, 0, 1,\n",
       "       4, 1, 0, 1, 5, 2, 2, 4, 2, 2, 1, 0, 4, 9, 8, 9, 6, 1, 1, 4, 0, 8,\n",
       "       2, 2, 1, 7, 6, 2, 1, 5, 6, 2, 8, 5, 9, 4, 5, 4, 4, 0, 7, 5, 1, 9,\n",
       "       5, 5, 1, 2, 3, 9, 5, 1, 5, 9, 5, 2, 0, 9, 6, 4, 2, 8, 5, 7, 7, 6,\n",
       "       7, 4, 2, 5, 5, 7, 1, 0, 6, 1, 6, 1, 2, 0, 1, 7, 9, 5, 5, 2, 1, 8,\n",
       "       8, 1, 5, 5, 7, 8, 5, 4, 7, 0, 7, 2, 9, 7, 0, 8, 9, 4])"
      ]
     },
     "execution_count": 19,
     "metadata": {},
     "output_type": "execute_result"
    }
   ],
   "source": [
    "np.argmax(valid['label'], -1)"
   ]
  },
  {
   "cell_type": "code",
   "execution_count": 18,
   "metadata": {},
   "outputs": [
    {
     "data": {
      "text/plain": [
       "array([9, 4, 2, 1, 0, 0, 3, 5, 1, 0, 4, 2, 7, 4, 9, 3, 1, 0, 0, 3, 7, 1,\n",
       "       2, 1, 0, 7, 1, 7, 4, 4, 0, 4, 1, 0, 4, 9, 8, 1, 4, 1, 1, 8, 0, 8,\n",
       "       2, 0, 1, 7, 9, 3, 1, 5, 3, 7, 0, 5, 0, 4, 5, 0, 6, 0, 7, 4, 8, 9,\n",
       "       7, 5, 1, 9, 5, 9, 3, 1, 5, 9, 3, 4, 0, 9, 6, 4, 4, 8, 5, 3, 4, 3,\n",
       "       7, 3, 2, 5, 3, 7, 1, 2, 0, 7, 4, 0, 2, 0, 2, 9, 9, 7, 4, 0, 1, 0,\n",
       "       6, 9, 0, 7, 9, 4, 5, 4, 7, 0, 4, 4, 8, 4, 0, 8, 2, 0])"
      ]
     },
     "execution_count": 18,
     "metadata": {},
     "output_type": "execute_result"
    }
   ],
   "source": [
    "np.argmax(results['pred'], -1)"
   ]
  },
  {
   "cell_type": "code",
   "execution_count": 30,
   "metadata": {},
   "outputs": [
    {
     "data": {
      "text/plain": [
       "[<tensorflow.python.keras.layers.core.Flatten at 0x7f0aa017ef28>,\n",
       " <tensorflow.python.keras.layers.core.Dense at 0x7f0aa018c0f0>,\n",
       " <tensorflow.python.keras.layers.advanced_activations.LeakyReLU at 0x7f0aa018c3c8>]"
      ]
     },
     "execution_count": 30,
     "metadata": {},
     "output_type": "execute_result"
    }
   ],
   "source": [
    "estimator.model.encoder.layers"
   ]
  },
  {
   "cell_type": "code",
   "execution_count": 26,
   "metadata": {},
   "outputs": [
    {
     "name": "stderr",
     "output_type": "stream",
     "text": [
      "WARNING:matplotlib.image:Clipping input data to the valid range for imshow with RGB data ([0..1] for floats or [0..255] for integers).\n"
     ]
    },
    {
     "data": {
      "text/plain": [
       "<matplotlib.image.AxesImage at 0x7f09ac7246d8>"
      ]
     },
     "execution_count": 26,
     "metadata": {},
     "output_type": "execute_result"
    },
    {
     "data": {
      "image/png": "[encoded data removed]",
      "text/plain": [
       "<Figure size 432x288 with 1 Axes>"
      ]
     },
     "metadata": {
      "needs_background": "light"
     },
     "output_type": "display_data"
    }
   ],
   "source": [
    "\n",
    "plt.imshow(valid_data['image'].eval()[0, ...])"
   ]
  },
  {
   "cell_type": "code",
   "execution_count": null,
   "metadata": {},
   "outputs": [],
   "source": []
  }
 ],
 "metadata": {
  "kernelspec": {
   "display_name": "Python 3",
   "language": "python",
   "name": "python3"
  },
  "language_info": {
   "codemirror_mode": {
    "name": "ipython",
    "version": 3
   },
   "file_extension": ".py",
   "mimetype": "text/x-python",
   "name": "python",
   "nbconvert_exporter": "python",
   "pygments_lexer": "ipython3",
   "version": "3.6.9"
  }
 },
 "nbformat": 4,
 "nbformat_minor": 4
}
