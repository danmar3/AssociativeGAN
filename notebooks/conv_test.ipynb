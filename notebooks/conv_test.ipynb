{
 "cells": [
  {
   "cell_type": "code",
   "execution_count": 1,
   "metadata": {},
   "outputs": [],
   "source": [
    "import twodlearn as tdl\n",
    "import twodlearn.datasets.mnist\n",
    "import twodlearn.datasets.cifar10\n",
    "import tensorflow as tf\n",
    "from functools import reduce"
   ]
  },
  {
   "cell_type": "code",
   "execution_count": 2,
   "metadata": {},
   "outputs": [
    {
     "name": "stdout",
     "output_type": "stream",
     "text": [
      "File already downloaded.\n"
     ]
    }
   ],
   "source": [
    "#dataset = tdl.datasets.mnist.MnistDataset(work_directory='data/mnist', reshape=False)\n",
    "dataset = tdl.datasets.cifar10.Cifar10(work_directory='data/cifar10')\n",
    "n_classes = dataset.train.y.shape[-1]\n",
    "input_shape = dataset.train.x.shape[1:]"
   ]
  },
  {
   "cell_type": "code",
   "execution_count": 3,
   "metadata": {},
   "outputs": [],
   "source": [
    "stacked = tdl.convnet.StackedLayers(name='classifier')\n",
    "with tf.name_scope(stacked.scope):\n",
    "    stacked.add(tdl.convnet.Conv2DLayer(kernel_size=[5,5], filters=32,\n",
    "                                        bias={'trainable': False},\n",
    "                                        input_shape=(None,)+input_shape))\n",
    "    stacked.add(tf.keras.layers.ReLU())\n",
    "    stacked.add(tf.keras.layers.MaxPool2D(pool_size=[2,2]))\n",
    "    stacked.add(tdl.convnet.Conv2DLayer(kernel_size=[5,5], filters=64))\n",
    "    stacked.add(tf.keras.layers.MaxPool2D(pool_size=[2,2]))\n",
    "    stacked.add(tf.keras.layers.ReLU())\n",
    "    conv_dims = stacked.compute_output_shape(input_shape=(None,)+input_shape)\n",
    "    reduce_dims = reduce(lambda x, y: x*y, conv_dims.as_list()[1:])\n",
    "    stacked.add(tf.keras.layers.Reshape((reduce_dims,)))\n",
    "    stacked.add(tf.keras.layers.Dense(units=512))\n",
    "    stacked.add(tf.keras.layers.ReLU())\n",
    "    stacked.add(tf.keras.layers.Dense(units=n_classes))\n",
    "    stacked.add(tf.keras.layers.Softmax())\n",
    "    \n",
    "\n",
    "#inputs = tf.keras.Input(shape=input_shape)\n",
    "#predictions = stacked(inputs)\n",
    "#model = tf.keras.Model(inputs=inputs, outputs=predictions)"
   ]
  },
  {
   "cell_type": "code",
   "execution_count": 4,
   "metadata": {},
   "outputs": [],
   "source": [
    "model.compile(optimizer=tf.train.AdamOptimizer(0.001),\n",
    "              loss='categorical_crossentropy',\n",
    "              metrics=['accuracy'])\n",
    "tdl.core.variables_initializer(tdl.core.get_variables(stacked))\\\n",
    "   .run(session=tf.keras.backend.get_session())"
   ]
  },
  {
   "cell_type": "code",
   "execution_count": 8,
   "metadata": {},
   "outputs": [
    {
     "name": "stdout",
     "output_type": "stream",
     "text": [
      "Epoch 1/5\n",
      "45000/45000 [==============================] - 8s 173us/step - loss: 0.5680 - acc: 0.8012\n",
      "Epoch 2/5\n",
      "45000/45000 [==============================] - 8s 178us/step - loss: 0.4548 - acc: 0.8395\n",
      "Epoch 3/5\n",
      "45000/45000 [==============================] - 8s 172us/step - loss: 0.3593 - acc: 0.8729\n",
      "Epoch 4/5\n",
      "45000/45000 [==============================] - 8s 178us/step - loss: 0.2818 - acc: 0.9008\n",
      "Epoch 5/5\n",
      "45000/45000 [==============================] - 8s 169us/step - loss: 0.2183 - acc: 0.9230\n"
     ]
    },
    {
     "data": {
      "text/plain": [
       "<tensorflow.python.keras.callbacks.History at 0x7f3d0c027198>"
      ]
     },
     "execution_count": 8,
     "metadata": {},
     "output_type": "execute_result"
    }
   ],
   "source": [
    "model.fit(dataset.train.x, dataset.train.y, batch_size=32, epochs=5)"
   ]
  },
  {
   "cell_type": "code",
   "execution_count": 7,
   "metadata": {},
   "outputs": [
    {
     "name": "stdout",
     "output_type": "stream",
     "text": [
      "5000/5000 [==============================] - 1s 103us/step\n"
     ]
    },
    {
     "data": {
      "text/plain": [
       "[0.9625186674118043, 0.6686]"
      ]
     },
     "execution_count": 7,
     "metadata": {},
     "output_type": "execute_result"
    }
   ],
   "source": [
    "model.evaluate(dataset.valid.x, dataset.valid.y)"
   ]
  },
  {
   "cell_type": "code",
   "execution_count": 5,
   "metadata": {},
   "outputs": [
    {
     "name": "stdout",
     "output_type": "stream",
     "text": [
      "[]\n"
     ]
    }
   ],
   "source": [
    "print(tf.keras.backend.get_session().run(tf.report_uninitialized_variables()))"
   ]
  },
  {
   "cell_type": "code",
   "execution_count": 5,
   "metadata": {},
   "outputs": [
    {
     "data": {
      "text/plain": [
       "False"
      ]
     },
     "execution_count": 5,
     "metadata": {},
     "output_type": "execute_result"
    }
   ],
   "source": [
    "stacked.layers[0].bias.trainable #.init()"
   ]
  },
  {
   "cell_type": "code",
   "execution_count": null,
   "metadata": {},
   "outputs": [],
   "source": []
  },
  {
   "cell_type": "code",
   "execution_count": null,
   "metadata": {},
   "outputs": [],
   "source": []
  },
  {
   "cell_type": "code",
   "execution_count": 8,
   "metadata": {},
   "outputs": [
    {
     "data": {
      "text/plain": [
       "<tf.Variable 'classifier/Conv2DLayer/kernel/kernel:0' shape=(5, 5, 3, 32) dtype=float32>"
      ]
     },
     "execution_count": 8,
     "metadata": {},
     "output_type": "execute_result"
    }
   ],
   "source": [
    "stacked.layers[0].kernel"
   ]
  },
  {
   "cell_type": "code",
   "execution_count": null,
   "metadata": {},
   "outputs": [],
   "source": []
  },
  {
   "cell_type": "code",
   "execution_count": 8,
   "metadata": {},
   "outputs": [],
   "source": [
    "\n",
    "\n",
    "stacked.layers[-2].build(input_shape=(None, 45))"
   ]
  },
  {
   "cell_type": "code",
   "execution_count": null,
   "metadata": {},
   "outputs": [],
   "source": []
  }
 ],
 "metadata": {
  "kernelspec": {
   "display_name": "Python 3",
   "language": "python",
   "name": "python3"
  },
  "language_info": {
   "codemirror_mode": {
    "name": "ipython",
    "version": 3
   },
   "file_extension": ".py",
   "mimetype": "text/x-python",
   "name": "python",
   "nbconvert_exporter": "python",
   "pygments_lexer": "ipython3",
   "version": "3.5.2"
  }
 },
 "nbformat": 4,
 "nbformat_minor": 2
}
