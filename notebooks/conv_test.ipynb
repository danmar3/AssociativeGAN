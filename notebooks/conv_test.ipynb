{
 "cells": [
  {
   "cell_type": "code",
   "execution_count": 1,
   "metadata": {},
   "outputs": [],
   "source": [
    "import twodlearn as tdl\n",
    "import twodlearn.debug\n",
    "import twodlearn.datasets.mnist\n",
    "import twodlearn.datasets.cifar10\n",
    "import tensorflow as tf\n",
    "from functools import reduce"
   ]
  },
  {
   "cell_type": "code",
   "execution_count": 2,
   "metadata": {},
   "outputs": [
    {
     "name": "stdout",
     "output_type": "stream",
     "text": [
      "File already downloaded.\n",
      "File already downloaded.\n",
      "File already downloaded.\n",
      "File already downloaded.\n",
      "loading data/mnist/train-images-idx3-ubyte.gz\n",
      "loading data/mnist/t10k-images-idx3-ubyte.gz\n"
     ]
    }
   ],
   "source": [
    "dataset = tdl.datasets.mnist.MnistDataset(work_directory='data/mnist', reshape=False)\n",
    "#dataset = tdl.datasets.cifar10.Cifar10(work_directory='data/cifar10')\n",
    "n_classes = dataset.train.y.shape[-1]\n",
    "input_shape = dataset.train.x.shape[1:]"
   ]
  },
  {
   "cell_type": "code",
   "execution_count": 3,
   "metadata": {},
   "outputs": [],
   "source": [
    "stacked = tdl.convnet.StackedLayers(name='classifier')\n",
    "with tf.name_scope(stacked.scope):\n",
    "    stacked.add(tdl.convnet.Conv2DLayer(kernel_size=[5,5], filters=32,\n",
    "                                        bias={'trainable': True},\n",
    "                                        input_shape=(None,)+input_shape))\n",
    "    stacked.add(tf.keras.layers.ReLU())\n",
    "    stacked.add(tf.keras.layers.MaxPool2D(pool_size=[2,2]))\n",
    "    stacked.add(tdl.convnet.Conv2DLayer(kernel_size=[5,5], filters=64))\n",
    "    stacked.add(tf.keras.layers.MaxPool2D(pool_size=[2,2]))\n",
    "    stacked.add(tf.keras.layers.ReLU())\n",
    "    conv_dims = stacked.compute_output_shape(input_shape=(None,)+input_shape)\n",
    "    reduce_dims = reduce(lambda x, y: x*y, conv_dims.as_list()[1:])\n",
    "    stacked.add(tf.keras.layers.Reshape((reduce_dims,)))\n",
    "    stacked.add(tdl.feedforward.AffineLayer(units=512))\n",
    "    #stacked.add(tf.keras.layers.Dense(units=512))\n",
    "    stacked.add(tf.keras.layers.ReLU())\n",
    "    stacked.add(tf.keras.layers.Dense(units=n_classes))\n",
    "    stacked.add(tf.keras.layers.Softmax())\n",
    "    \n",
    "#@tdl.debug.stop_at_error\n",
    "#def test():\n",
    "inputs = tf.keras.Input(shape=input_shape)\n",
    "predictions = stacked(inputs)\n",
    "model = tf.keras.Model(inputs=inputs, outputs=predictions)\n",
    "#test()"
   ]
  },
  {
   "cell_type": "code",
   "execution_count": 4,
   "metadata": {},
   "outputs": [],
   "source": [
    "model.compile(optimizer=tf.train.AdamOptimizer(0.001),\n",
    "              loss='categorical_crossentropy',\n",
    "              metrics=['accuracy'])\n",
    "tdl.core.variables_initializer(tdl.core.get_variables(stacked))\\\n",
    "   .run(session=tf.keras.backend.get_session())\n",
    "\n",
    "logger = tf.keras.callbacks.TensorBoard()\n",
    "logger.set_model(model)\n"
   ]
  },
  {
   "cell_type": "code",
   "execution_count": 5,
   "metadata": {},
   "outputs": [
    {
     "name": "stdout",
     "output_type": "stream",
     "text": [
      "Epoch 1/5\n",
      "54000/54000 [==============================] - 11s 209us/step - loss: 0.1152 - acc: 0.9644\n",
      "Epoch 2/5\n",
      "54000/54000 [==============================] - 10s 186us/step - loss: 0.0395 - acc: 0.9875\n",
      "Epoch 3/5\n",
      "54000/54000 [==============================] - 10s 188us/step - loss: 0.0266 - acc: 0.9922\n",
      "Epoch 4/5\n",
      "54000/54000 [==============================] - 11s 196us/step - loss: 0.0201 - acc: 0.9936\n",
      "Epoch 5/5\n",
      "54000/54000 [==============================] - 10s 194us/step - loss: 0.0154 - acc: 0.9953\n"
     ]
    },
    {
     "data": {
      "text/plain": [
       "<tensorflow.python.keras.callbacks.History at 0x7fd311f85470>"
      ]
     },
     "execution_count": 5,
     "metadata": {},
     "output_type": "execute_result"
    }
   ],
   "source": [
    "model.fit(dataset.train.x, dataset.train.y, batch_size=32, epochs=5)"
   ]
  },
  {
   "cell_type": "code",
   "execution_count": 7,
   "metadata": {},
   "outputs": [
    {
     "name": "stdout",
     "output_type": "stream",
     "text": [
      "6000/6000 [==============================] - 1s 114us/step\n"
     ]
    },
    {
     "data": {
      "text/plain": [
       "[0.041554900731163795, 0.99]"
      ]
     },
     "execution_count": 7,
     "metadata": {},
     "output_type": "execute_result"
    }
   ],
   "source": [
    "model.evaluate(dataset.valid.x, dataset.valid.y)"
   ]
  },
  {
   "cell_type": "code",
   "execution_count": 5,
   "metadata": {},
   "outputs": [
    {
     "name": "stdout",
     "output_type": "stream",
     "text": [
      "[]\n"
     ]
    }
   ],
   "source": [
    "print(tf.keras.backend.get_session().run(tf.report_uninitialized_variables()))"
   ]
  },
  {
   "cell_type": "code",
   "execution_count": 1,
   "metadata": {},
   "outputs": [],
   "source": [
    "import tensorflow as tf\n",
    "import tensorflow_probability as tfp\n",
    "import twodlearn as tdl\n",
    "import twodlearn.bayesnet"
   ]
  },
  {
   "cell_type": "code",
   "execution_count": 2,
   "metadata": {},
   "outputs": [
    {
     "data": {
      "text/plain": [
       "<module 'tensorflow_probability.python.glm' from '/home/marinodl/research/2019/AssociativeGAN/env/lib/python3.5/site-packages/tensorflow_probability/python/glm/__init__.py'>"
      ]
     },
     "execution_count": 2,
     "metadata": {},
     "output_type": "execute_result"
    }
   ],
   "source": [
    "tfp.glm"
   ]
  },
  {
   "cell_type": "code",
   "execution_count": 3,
   "metadata": {},
   "outputs": [
    {
     "data": {
      "text/plain": [
       "tensorflow_probability.python.distributions.normal.Normal"
      ]
     },
     "execution_count": 3,
     "metadata": {},
     "output_type": "execute_result"
    }
   ],
   "source": [
    "tfp.distributions.Normal"
   ]
  },
  {
   "cell_type": "code",
   "execution_count": null,
   "metadata": {},
   "outputs": [],
   "source": []
  },
  {
   "cell_type": "code",
   "execution_count": 4,
   "metadata": {},
   "outputs": [],
   "source": [
    "layer = tdl.bayesnet.DenseNormalLayer(input_shape=10, units=30)"
   ]
  },
  {
   "cell_type": "code",
   "execution_count": 5,
   "metadata": {},
   "outputs": [],
   "source": [
    "layer.build()"
   ]
  },
  {
   "cell_type": "code",
   "execution_count": 6,
   "metadata": {},
   "outputs": [
    {
     "data": {
      "text/plain": [
       "<tfp.distributions.Normal 'DenseNormalLayer/kernel/kernel/' batch_shape=(10, 30) event_shape=() dtype=float32>"
      ]
     },
     "execution_count": 6,
     "metadata": {},
     "output_type": "execute_result"
    }
   ],
   "source": [
    "layer.kernel"
   ]
  },
  {
   "cell_type": "code",
   "execution_count": 7,
   "metadata": {},
   "outputs": [],
   "source": [
    "inputs = tf.keras.Input(shape=(10,))\n",
    "out = layer(inputs)"
   ]
  },
  {
   "cell_type": "code",
   "execution_count": 11,
   "metadata": {},
   "outputs": [
    {
     "data": {
      "text/plain": [
       "<twodlearn.bayesnet.bayesnet.McNormal at 0x7ff8884612b0>"
      ]
     },
     "execution_count": 11,
     "metadata": {},
     "output_type": "execute_result"
    }
   ],
   "source": [
    "out."
   ]
  },
  {
   "cell_type": "code",
   "execution_count": 4,
   "metadata": {},
   "outputs": [
    {
     "data": {
      "text/plain": [
       "[<tf.Variable 'DenseNormalLayer/bias/bias:0' shape=(30,) dtype=float32>,\n",
       " <tf.Variable 'DenseNormalLayer/kernel/PositiveVariable2/raw/Variable:0' shape=(10, 30) dtype=float32_ref>,\n",
       " <tf.Variable 'DenseNormalLayer/kernel/loc:0' shape=(10, 30) dtype=float32>]"
      ]
     },
     "execution_count": 4,
     "metadata": {},
     "output_type": "execute_result"
    }
   ],
   "source": [
    "tdl.core.get_variables(layer)"
   ]
  },
  {
   "cell_type": "code",
   "execution_count": null,
   "metadata": {},
   "outputs": [],
   "source": []
  },
  {
   "cell_type": "code",
   "execution_count": 2,
   "metadata": {},
   "outputs": [
    {
     "ename": "TypeError",
     "evalue": "normal() got an unexpected keyword argument 'loc'",
     "output_type": "error",
     "traceback": [
      "\u001b[0;31m---------------------------------------------------------------------------\u001b[0m",
      "\u001b[0;31mTypeError\u001b[0m                                 Traceback (most recent call last)",
      "\u001b[0;32m<ipython-input-2-ba6265407024>\u001b[0m in \u001b[0;36m<module>\u001b[0;34m\u001b[0m\n\u001b[1;32m      1\u001b[0m tfp.trainable_distributions.normal(\n\u001b[1;32m      2\u001b[0m     \u001b[0mloc\u001b[0m\u001b[0;34m=\u001b[0m\u001b[0mtf\u001b[0m\u001b[0;34m.\u001b[0m\u001b[0mzeros\u001b[0m\u001b[0;34m(\u001b[0m\u001b[0;36m3\u001b[0m\u001b[0;34m)\u001b[0m\u001b[0;34m,\u001b[0m\u001b[0;34m\u001b[0m\u001b[0m\n\u001b[0;32m----> 3\u001b[0;31m     scale=tf.keras.initializers.glorot_normal()(shape=[3,3]))\n\u001b[0m",
      "\u001b[0;31mTypeError\u001b[0m: normal() got an unexpected keyword argument 'loc'"
     ]
    }
   ],
   "source": [
    "tfp.trainable_distributions.normal(\n",
    "    loc=tf.zeros(3), \n",
    "    scale=tf.keras.initializers.glorot_normal()(shape=[3,3]))"
   ]
  },
  {
   "cell_type": "code",
   "execution_count": null,
   "metadata": {},
   "outputs": [],
   "source": []
  },
  {
   "cell_type": "code",
   "execution_count": 3,
   "metadata": {},
   "outputs": [],
   "source": [
    "init = tf.keras.initializers.glorot_normal()"
   ]
  },
  {
   "cell_type": "code",
   "execution_count": 6,
   "metadata": {},
   "outputs": [
    {
     "data": {
      "text/plain": [
       "{'dtype': 'float32', 'seed': None}"
      ]
     },
     "execution_count": 6,
     "metadata": {},
     "output_type": "execute_result"
    }
   ],
   "source": [
    "init."
   ]
  },
  {
   "cell_type": "code",
   "execution_count": null,
   "metadata": {},
   "outputs": [],
   "source": []
  }
 ],
 "metadata": {
  "kernelspec": {
   "display_name": "Python 3",
   "language": "python",
   "name": "python3"
  },
  "language_info": {
   "codemirror_mode": {
    "name": "ipython",
    "version": 3
   },
   "file_extension": ".py",
   "mimetype": "text/x-python",
   "name": "python",
   "nbconvert_exporter": "python",
   "pygments_lexer": "ipython3",
   "version": "3.5.2"
  }
 },
 "nbformat": 4,
 "nbformat_minor": 2
}
